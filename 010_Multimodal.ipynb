{
 "cells": [
  {
   "cell_type": "markdown",
   "metadata": {},
   "source": [
    "# Libraries"
   ]
  },
  {
   "cell_type": "code",
   "execution_count": 1,
   "metadata": {},
   "outputs": [],
   "source": [
    "import numpy  as np\n",
    "import pandas as pd\n",
    "import matplotlib.pyplot as plt\n",
    "\n",
    "\n",
    "from pkg.constants    import *\n",
    "from pkg.evaluation   import Evaluation\n",
    "from pkg.utils        import *"
   ]
  },
  {
   "cell_type": "markdown",
   "metadata": {},
   "source": [
    "# Objeto evaluacion"
   ]
  },
  {
   "cell_type": "code",
   "execution_count": 2,
   "metadata": {},
   "outputs": [],
   "source": [
    "ev = Evaluation()"
   ]
  },
  {
   "cell_type": "markdown",
   "metadata": {},
   "source": [
    "# Algoritmo Genetico Multimodal"
   ]
  },
  {
   "cell_type": "markdown",
   "metadata": {},
   "source": [
    "## Parametros del algoritmo"
   ]
  },
  {
   "cell_type": "code",
   "execution_count": null,
   "metadata": {},
   "outputs": [],
   "source": [
    "# tamaño poblacion, igual que en AG basico\n",
    "tama = 24\n",
    "\n",
    "# probabilidad de cruce\n",
    "pc = 0.8\n",
    "\n"
   ]
  },
  {
   "cell_type": "markdown",
   "metadata": {},
   "source": [
    "- distancia de hamming (implementada)\n",
    "- tamaño poblacion: igual que agb (24 cromosomas)\n",
    "- probabilidad de cruce: 0.8 (si no se cruza, se copia como hijo)\n",
    "- Mantener misma mutacion que en el algoritmo basico\n",
    "- AG multimodal espacial\n",
    "- Clearing de 5 nichos\n",
    "- Determinar radio adecuado, basado en distancia de hamming"
   ]
  },
  {
   "cell_type": "code",
   "execution_count": null,
   "metadata": {},
   "outputs": [],
   "source": [
    "def aclarado(poblacion, f_poblacion, radio_nicho, kappa)"
   ]
  }
 ],
 "metadata": {
  "interpreter": {
   "hash": "ec5498714c8a00cfa21adbf7af1c7a95b2ac142bd720b37f8f357108b338ab28"
  },
  "kernelspec": {
   "display_name": "Python 3.9.7 ('datascience')",
   "language": "python",
   "name": "python3"
  },
  "language_info": {
   "codemirror_mode": {
    "name": "ipython",
    "version": 3
   },
   "file_extension": ".py",
   "mimetype": "text/x-python",
   "name": "python",
   "nbconvert_exporter": "python",
   "pygments_lexer": "ipython3",
   "version": "3.9.7"
  },
  "orig_nbformat": 4
 },
 "nbformat": 4,
 "nbformat_minor": 2
}
