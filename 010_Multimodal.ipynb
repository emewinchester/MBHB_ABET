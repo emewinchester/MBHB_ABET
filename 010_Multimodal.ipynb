{
 "cells": [
  {
   "cell_type": "markdown",
   "metadata": {},
   "source": [
    "# Libraries"
   ]
  },
  {
   "cell_type": "code",
   "execution_count": 1,
   "metadata": {},
   "outputs": [],
   "source": [
    "import numpy  as np\n",
    "import pandas as pd\n",
    "import matplotlib.pyplot as plt\n",
    "\n",
    "\n",
    "from pkg.constants    import *\n",
    "from pkg.evaluation   import Evaluation\n",
    "from pkg.utils        import *\n",
    "from pkg.algorithims  import multimodal"
   ]
  },
  {
   "cell_type": "markdown",
   "metadata": {},
   "source": [
    "# Objeto evaluacion"
   ]
  },
  {
   "cell_type": "code",
   "execution_count": 2,
   "metadata": {},
   "outputs": [],
   "source": [
    "ev = Evaluation()"
   ]
  },
  {
   "cell_type": "markdown",
   "metadata": {},
   "source": [
    "# Algoritmo Genetico Multimodal"
   ]
  },
  {
   "cell_type": "markdown",
   "metadata": {},
   "source": [
    "## Parametros del algoritmo"
   ]
  },
  {
   "cell_type": "code",
   "execution_count": 3,
   "metadata": {},
   "outputs": [],
   "source": [
    "# tamaño poblacion, igual que en AG basico\n",
    "tama = 24"
   ]
  },
  {
   "cell_type": "markdown",
   "metadata": {},
   "source": [
    "- distancia de hamming (implementada)\n",
    "- tamaño poblacion: igual que agb (24 cromosomas)\n",
    "- Mantener misma mutacion que en el algoritmo basico\n",
    "- AG multimodal espacial\n",
    "- Clearing de 5 nichos\n",
    "- Determinar radio adecuado, basado en distancia de hamming"
   ]
  },
  {
   "cell_type": "code",
   "execution_count": 4,
   "metadata": {},
   "outputs": [],
   "source": [
    "poblacion = inicializa_poblacion(26)"
   ]
  },
  {
   "cell_type": "code",
   "execution_count": 5,
   "metadata": {},
   "outputs": [],
   "source": [
    "f_poblacion, km, slots = evalua_poblacion(poblacion, ev, 9)"
   ]
  },
  {
   "cell_type": "code",
   "execution_count": 6,
   "metadata": {},
   "outputs": [],
   "source": [
    "pob = aclarado(poblacion, f_poblacion, 10, 4)"
   ]
  },
  {
   "cell_type": "markdown",
   "metadata": {},
   "source": [
    "# Algoritmo"
   ]
  },
  {
   "cell_type": "markdown",
   "metadata": {},
   "source": [
    "# Ajuste de parametros"
   ]
  },
  {
   "cell_type": "markdown",
   "metadata": {},
   "source": [
    "**Radio de nicho**\n",
    "\n",
    "Importante un buen ajuste porque:\n",
    "- si es un valor muy pequeño: no afecta al hacer el aclarado\n",
    "- Si es un valor muy alto: penalizará a todos los individuos\n",
    "\n",
    "Estudiamos todos los valores posibles (de 1 a 15), teniendo en cuenta que si el radio fuese 16, significa que serian dos cromosomas totalmente diferentes."
   ]
  },
  {
   "cell_type": "code",
   "execution_count": 86,
   "metadata": {},
   "outputs": [],
   "source": [
    "valores_radio = list(range(1,15))"
   ]
  },
  {
   "cell_type": "code",
   "execution_count": 95,
   "metadata": {},
   "outputs": [
    {
     "name": "stdout",
     "output_type": "stream",
     "text": [
      "24\n",
      "24\n",
      "24\n",
      "24\n",
      "24\n",
      "24\n",
      "24\n",
      "24\n",
      "para radio 1 obtiene poblacion nueva de 24.0\n",
      "24\n",
      "24\n",
      "24\n",
      "24\n",
      "24\n",
      "24\n",
      "24\n",
      "24\n",
      "para radio 2 obtiene poblacion nueva de 24.0\n",
      "24\n",
      "24\n",
      "24\n",
      "24\n",
      "24\n",
      "24\n",
      "24\n",
      "24\n",
      "para radio 3 obtiene poblacion nueva de 24.0\n",
      "24\n",
      "24\n",
      "24\n",
      "24\n",
      "24\n",
      "24\n",
      "24\n",
      "24\n",
      "para radio 4 obtiene poblacion nueva de 24.0\n",
      "24\n",
      "24\n",
      "24\n",
      "24\n",
      "24\n",
      "24\n",
      "24\n",
      "24\n",
      "para radio 5 obtiene poblacion nueva de 24.0\n",
      "24\n",
      "24\n",
      "24\n",
      "24\n",
      "24\n",
      "24\n",
      "24\n",
      "24\n",
      "para radio 6 obtiene poblacion nueva de 24.0\n",
      "24\n",
      "24\n",
      "24\n",
      "24\n",
      "24\n",
      "24\n",
      "24\n",
      "24\n",
      "para radio 7 obtiene poblacion nueva de 24.0\n",
      "24\n",
      "24\n",
      "24\n",
      "24\n",
      "24\n",
      "24\n",
      "24\n",
      "24\n",
      "para radio 8 obtiene poblacion nueva de 24.0\n",
      "24\n",
      "24\n",
      "24\n",
      "24\n",
      "24\n",
      "24\n",
      "24\n",
      "24\n",
      "para radio 9 obtiene poblacion nueva de 24.0\n",
      "24\n",
      "24\n",
      "24\n",
      "24\n",
      "24\n",
      "24\n",
      "24\n",
      "24\n",
      "para radio 10 obtiene poblacion nueva de 24.0\n",
      "24\n",
      "24\n",
      "24\n",
      "24\n",
      "24\n",
      "24\n",
      "24\n",
      "24\n",
      "para radio 11 obtiene poblacion nueva de 24.0\n",
      "24\n",
      "24\n",
      "24\n",
      "24\n",
      "24\n",
      "24\n",
      "24\n",
      "24\n",
      "para radio 12 obtiene poblacion nueva de 24.0\n",
      "24\n",
      "24\n",
      "24\n",
      "24\n",
      "24\n",
      "24\n",
      "24\n",
      "24\n",
      "para radio 13 obtiene poblacion nueva de 24.0\n"
     ]
    },
    {
     "ename": "IndexError",
     "evalue": "list index out of range",
     "output_type": "error",
     "traceback": [
      "\u001b[1;31m---------------------------------------------------------------------------\u001b[0m",
      "\u001b[1;31mIndexError\u001b[0m                                Traceback (most recent call last)",
      "\u001b[1;32mc:\\Users\\Marina\\Desktop\\MBHBp\\MBHB_ABET\\010_Multimodal.ipynb Cell 26'\u001b[0m in \u001b[0;36m<cell line: 1>\u001b[1;34m()\u001b[0m\n\u001b[0;32m      <a href='vscode-notebook-cell:/c%3A/Users/Marina/Desktop/MBHBp/MBHB_ABET/010_Multimodal.ipynb#ch0000026?line=0'>1</a>\u001b[0m \u001b[39mfor\u001b[39;00m i \u001b[39min\u001b[39;00m valores_radio:\n\u001b[1;32m----> <a href='vscode-notebook-cell:/c%3A/Users/Marina/Desktop/MBHBp/MBHB_ABET/010_Multimodal.ipynb#ch0000026?line=1'>2</a>\u001b[0m     radio \u001b[39m=\u001b[39m valores_radio[i]\n\u001b[0;32m      <a href='vscode-notebook-cell:/c%3A/Users/Marina/Desktop/MBHBp/MBHB_ABET/010_Multimodal.ipynb#ch0000026?line=2'>3</a>\u001b[0m     crom, fit, media \u001b[39m=\u001b[39m multimodal(\u001b[39m24\u001b[39m, \u001b[39m9\u001b[39m, ev, \u001b[39m1\u001b[39m, radio, \u001b[39m4\u001b[39m)\n\u001b[0;32m      <a href='vscode-notebook-cell:/c%3A/Users/Marina/Desktop/MBHBp/MBHB_ABET/010_Multimodal.ipynb#ch0000026?line=4'>5</a>\u001b[0m     \u001b[39mprint\u001b[39m(\u001b[39mf\u001b[39m\u001b[39m'\u001b[39m\u001b[39mpara radio \u001b[39m\u001b[39m{\u001b[39;00mi\u001b[39m}\u001b[39;00m\u001b[39m obtiene poblacion nueva de \u001b[39m\u001b[39m{\u001b[39;00mmedia\u001b[39m}\u001b[39;00m\u001b[39m'\u001b[39m)\n",
      "\u001b[1;31mIndexError\u001b[0m: list index out of range"
     ]
    }
   ],
   "source": [
    "for i in valores_radio:\n",
    "    radio = valores_radio[i]\n",
    "    crom, fit, media = multimodal(24, 9, ev, 1, radio, 4)\n",
    "\n",
    "    print(f'para radio {i} obtiene poblacion nueva de {media}')"
   ]
  },
  {
   "cell_type": "markdown",
   "metadata": {},
   "source": [
    "La experimentación para escoger el valor del radio no ha arrojado resultados concluyentes, por lo que determinamos establecemos el valor a 8. Valor intermedio, esperando encontrar un compromiso entre afectar a toda la población y penalizar a toda la población."
   ]
  },
  {
   "cell_type": "markdown",
   "metadata": {},
   "source": [
    "# EXPERIMENTACIÓN"
   ]
  },
  {
   "cell_type": "code",
   "execution_count": 3,
   "metadata": {},
   "outputs": [],
   "source": [
    "# Parametros obtenidos en ag basico\n",
    "alpha = 9\n",
    "tama_poblacion = 24\n",
    "\n",
    "# semillas utilizadas en todos los algoritmos\n",
    "seeds = np.array([7054, 1354, 23503, 11268, 58283])\n",
    "\n"
   ]
  },
  {
   "cell_type": "markdown",
   "metadata": {},
   "source": [
    "Obtenemos los datos con los que elaboraremos las tablas comparativas y extraeremos conclusiones."
   ]
  },
  {
   "cell_type": "code",
   "execution_count": 4,
   "metadata": {},
   "outputs": [
    {
     "name": "stdout",
     "output_type": "stream",
     "text": [
      "[21 12 15 17 17 13 13  8 12 16 15 23  3 14 10 14]\n",
      "2357.8777236381175\n",
      "[17 11 15 20 20 14 12  9 12 17 16 24  2 16  5 13]\n",
      "2352.218693395007\n",
      "[14 12 18 18 19 14 14  6 13 19 18 24  2 15  6 11]\n",
      "2356.3733836870265\n",
      "[12 14 15 16 19 11 13 18 12 23 14 20  5  6 15 11]\n",
      "2378.7693415370095\n",
      "[13 12 12 18 20 13 12 12 12 20 17 26  3 13 10 10]\n",
      "2359.5073764541867\n"
     ]
    }
   ],
   "source": [
    "costs       = np.array([])\n",
    "evaluations = np.array([])\n",
    "slots       = np.array([])\n",
    "\n",
    "for s in seeds:\n",
    "\n",
    "    # set evauation calls counter to 0\n",
    "    ev.total_calls = 0\n",
    "\n",
    "    np.random.seed(s)\n",
    "\n",
    "    \n",
    "    crom, fit = multimodal(\n",
    "        tama_poblacion  = tama_poblacion,\n",
    "        alpha           = alpha,\n",
    "        evaluation      = ev,\n",
    "        saltos_aclarado = 5,\n",
    "        kappa           = 4,\n",
    "        radio           = 8,\n",
    "        grafica         = False\n",
    "    )\n",
    "\n",
    "    print(crom)\n",
    "    print(fit)\n",
    "\n",
    "    value, total_distance, slot = ev.fitness(crom,alpha)\n",
    "    \n",
    "    costs       = np.append(costs, total_distance)\n",
    "    evaluations = np.append(evaluations, ev.total_calls)\n",
    "    slots       = np.append(slots, slot)\n",
    "\n",
    "\n",
    "df = pd.DataFrame({\n",
    "    \"ev_medias\"    : [evaluations.mean()],\n",
    "    \"ev_mejor\"     : [evaluations.min()],\n",
    "    \"ev_std\"       : [evaluations.std()],\n",
    "    \"coste_medio\"  : [costs.mean()],\n",
    "    \"coste_mejor\"  : [costs.min()],\n",
    "    \"coste_std\"    : [costs.std()],\n",
    "    \"slots_medio\"  : [slots.mean()],\n",
    "    \"slots_min\"    : [slots.min()],\n",
    "    \"slots_std\"    : [slots.std()]\n",
    "})\n",
    "\n",
    "df_2 = pd.DataFrame({\n",
    "    'Ejecución'    : [1,2,3,4,5],\n",
    "    \"Coste mejor\"  : costs,\n",
    "    \"Evaluaciones\" : evaluations,\n",
    "    \"slots\"        : slots\n",
    "})"
   ]
  },
  {
   "cell_type": "code",
   "execution_count": 5,
   "metadata": {},
   "outputs": [
    {
     "data": {
      "text/html": [
       "<div>\n",
       "<style scoped>\n",
       "    .dataframe tbody tr th:only-of-type {\n",
       "        vertical-align: middle;\n",
       "    }\n",
       "\n",
       "    .dataframe tbody tr th {\n",
       "        vertical-align: top;\n",
       "    }\n",
       "\n",
       "    .dataframe thead th {\n",
       "        text-align: right;\n",
       "    }\n",
       "</style>\n",
       "<table border=\"1\" class=\"dataframe\">\n",
       "  <thead>\n",
       "    <tr style=\"text-align: right;\">\n",
       "      <th></th>\n",
       "      <th>ev_medias</th>\n",
       "      <th>ev_mejor</th>\n",
       "      <th>ev_std</th>\n",
       "      <th>coste_medio</th>\n",
       "      <th>coste_mejor</th>\n",
       "      <th>coste_std</th>\n",
       "      <th>slots_medio</th>\n",
       "      <th>slots_min</th>\n",
       "      <th>slots_std</th>\n",
       "    </tr>\n",
       "  </thead>\n",
       "  <tbody>\n",
       "    <tr>\n",
       "      <th>0</th>\n",
       "      <td>2711.4</td>\n",
       "      <td>1361.0</td>\n",
       "      <td>879.773062</td>\n",
       "      <td>352.149304</td>\n",
       "      <td>345.218693</td>\n",
       "      <td>5.835571</td>\n",
       "      <td>223.2</td>\n",
       "      <td>223.0</td>\n",
       "      <td>0.4</td>\n",
       "    </tr>\n",
       "  </tbody>\n",
       "</table>\n",
       "</div>"
      ],
      "text/plain": [
       "   ev_medias  ev_mejor      ev_std  coste_medio  coste_mejor  coste_std  \\\n",
       "0     2711.4    1361.0  879.773062   352.149304   345.218693   5.835571   \n",
       "\n",
       "   slots_medio  slots_min  slots_std  \n",
       "0        223.2      223.0        0.4  "
      ]
     },
     "execution_count": 5,
     "metadata": {},
     "output_type": "execute_result"
    }
   ],
   "source": [
    "df"
   ]
  },
  {
   "cell_type": "code",
   "execution_count": 6,
   "metadata": {},
   "outputs": [
    {
     "data": {
      "text/html": [
       "<div>\n",
       "<style scoped>\n",
       "    .dataframe tbody tr th:only-of-type {\n",
       "        vertical-align: middle;\n",
       "    }\n",
       "\n",
       "    .dataframe tbody tr th {\n",
       "        vertical-align: top;\n",
       "    }\n",
       "\n",
       "    .dataframe thead th {\n",
       "        text-align: right;\n",
       "    }\n",
       "</style>\n",
       "<table border=\"1\" class=\"dataframe\">\n",
       "  <thead>\n",
       "    <tr style=\"text-align: right;\">\n",
       "      <th></th>\n",
       "      <th>Ejecución</th>\n",
       "      <th>Coste mejor</th>\n",
       "      <th>Evaluaciones</th>\n",
       "      <th>slots</th>\n",
       "    </tr>\n",
       "  </thead>\n",
       "  <tbody>\n",
       "    <tr>\n",
       "      <th>0</th>\n",
       "      <td>1</td>\n",
       "      <td>350.877724</td>\n",
       "      <td>2849.0</td>\n",
       "      <td>223.0</td>\n",
       "    </tr>\n",
       "    <tr>\n",
       "      <th>1</th>\n",
       "      <td>2</td>\n",
       "      <td>345.218693</td>\n",
       "      <td>2897.0</td>\n",
       "      <td>223.0</td>\n",
       "    </tr>\n",
       "    <tr>\n",
       "      <th>2</th>\n",
       "      <td>3</td>\n",
       "      <td>349.373384</td>\n",
       "      <td>4081.0</td>\n",
       "      <td>223.0</td>\n",
       "    </tr>\n",
       "    <tr>\n",
       "      <th>3</th>\n",
       "      <td>4</td>\n",
       "      <td>362.769342</td>\n",
       "      <td>1361.0</td>\n",
       "      <td>224.0</td>\n",
       "    </tr>\n",
       "    <tr>\n",
       "      <th>4</th>\n",
       "      <td>5</td>\n",
       "      <td>352.507376</td>\n",
       "      <td>2369.0</td>\n",
       "      <td>223.0</td>\n",
       "    </tr>\n",
       "  </tbody>\n",
       "</table>\n",
       "</div>"
      ],
      "text/plain": [
       "   Ejecución  Coste mejor  Evaluaciones  slots\n",
       "0          1   350.877724        2849.0  223.0\n",
       "1          2   345.218693        2897.0  223.0\n",
       "2          3   349.373384        4081.0  223.0\n",
       "3          4   362.769342        1361.0  224.0\n",
       "4          5   352.507376        2369.0  223.0"
      ]
     },
     "execution_count": 6,
     "metadata": {},
     "output_type": "execute_result"
    }
   ],
   "source": [
    "df_2"
   ]
  },
  {
   "cell_type": "code",
   "execution_count": 7,
   "metadata": {},
   "outputs": [],
   "source": [
    "df.to_excel('./01_stats_p2/multimodal_stats.xlsx')\n",
    "df_2.to_excel('./01_stats_p2/multimodal_ejecuciones.xlsx')"
   ]
  }
 ],
 "metadata": {
  "interpreter": {
   "hash": "ec5498714c8a00cfa21adbf7af1c7a95b2ac142bd720b37f8f357108b338ab28"
  },
  "kernelspec": {
   "display_name": "Python 3.9.7 ('datascience')",
   "language": "python",
   "name": "python3"
  },
  "language_info": {
   "codemirror_mode": {
    "name": "ipython",
    "version": 3
   },
   "file_extension": ".py",
   "mimetype": "text/x-python",
   "name": "python",
   "nbconvert_exporter": "python",
   "pygments_lexer": "ipython3",
   "version": "3.9.7"
  },
  "orig_nbformat": 4
 },
 "nbformat": 4,
 "nbformat_minor": 2
}
