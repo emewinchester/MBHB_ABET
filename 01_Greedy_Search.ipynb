{
 "cells": [
  {
   "cell_type": "markdown",
   "metadata": {},
   "source": [
    "# Libraries"
   ]
  },
  {
   "cell_type": "code",
   "execution_count": 1,
   "metadata": {},
   "outputs": [],
   "source": [
    "import pandas as pd\n",
    "import numpy  as np\n",
    "\n",
    "from pkg.algorithims import greedy\n",
    "from pkg.constants   import *\n",
    "from pkg.evaluation  import Evaluation\n"
   ]
  },
  {
   "cell_type": "markdown",
   "metadata": {},
   "source": [
    "# Greedy Search"
   ]
  },
  {
   "cell_type": "code",
   "execution_count": 2,
   "metadata": {},
   "outputs": [],
   "source": [
    "# seeds\n",
    "seeds = np.array([7054, 1354, 23503, 11268, 58283])"
   ]
  },
  {
   "cell_type": "code",
   "execution_count": 3,
   "metadata": {},
   "outputs": [],
   "source": [
    "# evaluation object\n",
    "# loads data and contains evaluation function\n",
    "ev = Evaluation()"
   ]
  },
  {
   "cell_type": "code",
   "execution_count": 5,
   "metadata": {},
   "outputs": [
    {
     "data": {
      "text/plain": [
       "469.729043919895"
      ]
     },
     "execution_count": 5,
     "metadata": {},
     "output_type": "execute_result"
    }
   ],
   "source": [
    "v = np.array([17, 15, 18, 19, 19, 12, 13,  6,  6, 21, 20, 28,  1,  1,  1, 20])\n",
    "ev.evaluate(v)"
   ]
  },
  {
   "cell_type": "code",
   "execution_count": 4,
   "metadata": {},
   "outputs": [],
   "source": [
    "# data loading\n",
    "deltas_df     = pd.read_csv(DELTAS_5M_PATH) \n",
    "deltas_matrix = deltas_df.to_numpy()"
   ]
  },
  {
   "cell_type": "code",
   "execution_count": 5,
   "metadata": {},
   "outputs": [],
   "source": [
    "costs       = np.array([])\n",
    "evaluations = np.array([])\n",
    "\n",
    "# set evaluation counter to 0\n",
    "ev.total_calls = 0\n",
    "\n",
    "# get initial state\n",
    "initial_state = deltas_matrix[0,:]\n",
    "\n",
    "\n",
    "solution, cost = greedy(\n",
    "    initial_state = initial_state, \n",
    "    evaluation    = ev\n",
    ")\n",
    "\n",
    "costs = np.append(costs, cost)\n",
    "evaluations = np.append(evaluations, ev.total_calls)\n",
    "\n",
    "df = pd.DataFrame({\n",
    "        \"ev_medias\"    : [evaluations.mean()],\n",
    "        \"ev_mejor\"     : [evaluations.min()],\n",
    "        \"ev_std\"       : [evaluations.std()],\n",
    "        \"coste_medio\"  : [costs.mean()],\n",
    "        \"coste_mejor\"  : [costs.min()],\n",
    "        \"coste_std\"    : [costs.std()]\n",
    "    })\n"
   ]
  },
  {
   "cell_type": "code",
   "execution_count": 8,
   "metadata": {},
   "outputs": [],
   "source": [
    "df.to_excel('./01_stats/greedy.xlsx')"
   ]
  },
  {
   "cell_type": "code",
   "execution_count": 7,
   "metadata": {},
   "outputs": [
    {
     "name": "stdout",
     "output_type": "stream",
     "text": [
      "Greedy Solution: [ 7  9 18  8 11 18 11 12  8 13 13 24 11 18 20 19]\n",
      "Cost: 574.5513854177129\n",
      "Calls to evaluation function: 1\n"
     ]
    }
   ],
   "source": [
    "print(f'Greedy Solution: {solution}')\n",
    "print(f'Cost: {cost}')\n",
    "print(f'Calls to evaluation function: {ev.total_calls}')"
   ]
  }
 ],
 "metadata": {
  "interpreter": {
   "hash": "7d779d0e5915710bac6ba9c7b3edbd525c48ff05a7164abbc05df9554ec16650"
  },
  "kernelspec": {
   "display_name": "Python 3.9.7 ('datascience')",
   "language": "python",
   "name": "python3"
  },
  "language_info": {
   "codemirror_mode": {
    "name": "ipython",
    "version": 3
   },
   "file_extension": ".py",
   "mimetype": "text/x-python",
   "name": "python",
   "nbconvert_exporter": "python",
   "pygments_lexer": "ipython3",
   "version": "3.9.7"
  },
  "orig_nbformat": 4
 },
 "nbformat": 4,
 "nbformat_minor": 2
}
