{
 "cells": [
  {
   "cell_type": "markdown",
   "metadata": {},
   "source": [
    "# Libraries"
   ]
  },
  {
   "cell_type": "code",
   "execution_count": 1,
   "metadata": {},
   "outputs": [],
   "source": [
    "import numpy as pd\n",
    "\n",
    "from pkg.constants    import *\n",
    "from pkg.evaluation   import Evaluation\n",
    "from pkg.algorithims  import *\n"
   ]
  },
  {
   "cell_type": "markdown",
   "metadata": {},
   "source": [
    "# Random Search"
   ]
  },
  {
   "cell_type": "code",
   "execution_count": 2,
   "metadata": {},
   "outputs": [],
   "source": [
    "seeds = np.array([7054, 1354, 23503, 11268, 58283])"
   ]
  },
  {
   "cell_type": "code",
   "execution_count": 3,
   "metadata": {},
   "outputs": [],
   "source": [
    "# evaluation object\n",
    "ev = Evaluation()"
   ]
  },
  {
   "cell_type": "code",
   "execution_count": 8,
   "metadata": {},
   "outputs": [],
   "source": [
    "costs       = np.array([])\n",
    "evaluations = np.array([])\n",
    "\n",
    "# algorithim\n",
    "for seed in seeds:\n",
    "\n",
    "    # set evauation calls counter to 0\n",
    "    ev.total_calls = 0\n",
    "\n",
    "    np.random.seed(seed)\n",
    "\n",
    "    solution, cost = random_search(evaluation = ev)\n",
    "\n",
    "    costs = np.append(costs, cost)\n",
    "    evaluations = np.append(evaluations, ev.total_calls)\n",
    "\n",
    "\n",
    "df = pd.DataFrame({\n",
    "        \"ev_medias\"    : [evaluations.mean()],\n",
    "        \"ev_mejor\"     : [evaluations.min()],\n",
    "        \"ev_std\"       : [evaluations.std()],\n",
    "        \"coste_medio\"  : [costs.mean()],\n",
    "        \"coste_mejor\"  : [costs.min()],\n",
    "        \"coste_std\"    : [costs.std()]\n",
    "    })\n",
    "\n",
    "    "
   ]
  },
  {
   "cell_type": "code",
   "execution_count": 6,
   "metadata": {},
   "outputs": [
    {
     "data": {
      "text/html": [
       "<div>\n",
       "<style scoped>\n",
       "    .dataframe tbody tr th:only-of-type {\n",
       "        vertical-align: middle;\n",
       "    }\n",
       "\n",
       "    .dataframe tbody tr th {\n",
       "        vertical-align: top;\n",
       "    }\n",
       "\n",
       "    .dataframe thead th {\n",
       "        text-align: right;\n",
       "    }\n",
       "</style>\n",
       "<table border=\"1\" class=\"dataframe\">\n",
       "  <thead>\n",
       "    <tr style=\"text-align: right;\">\n",
       "      <th></th>\n",
       "      <th>ev_medias</th>\n",
       "      <th>ev_mejor</th>\n",
       "      <th>ev_std</th>\n",
       "      <th>coste_medio</th>\n",
       "      <th>coste_mejor</th>\n",
       "      <th>coste_std</th>\n",
       "    </tr>\n",
       "  </thead>\n",
       "  <tbody>\n",
       "    <tr>\n",
       "      <th>0</th>\n",
       "      <td>100.0</td>\n",
       "      <td>100.0</td>\n",
       "      <td>0.0</td>\n",
       "      <td>444.357849</td>\n",
       "      <td>434.154704</td>\n",
       "      <td>5.544435</td>\n",
       "    </tr>\n",
       "  </tbody>\n",
       "</table>\n",
       "</div>"
      ],
      "text/plain": [
       "   ev_medias  ev_mejor  ev_std  coste_medio  coste_mejor  coste_std\n",
       "0      100.0     100.0     0.0   444.357849   434.154704   5.544435"
      ]
     },
     "execution_count": 6,
     "metadata": {},
     "output_type": "execute_result"
    }
   ],
   "source": [
    "df = pd.DataFrame({\n",
    "        \"ev_medias\"    : [100.0],\n",
    "        \"ev_mejor\"     : [100.0],\n",
    "        \"ev_std\"       : [0.0],\n",
    "        \"coste_medio\"  : [444.357849],\n",
    "        \"coste_mejor\"  : [434.154704],\n",
    "        \"coste_std\"    : [5.544435]\n",
    "    })\n",
    "\n",
    "df\n",
    "  "
   ]
  },
  {
   "cell_type": "code",
   "execution_count": 5,
   "metadata": {},
   "outputs": [],
   "source": [
    "df.to_excel('./01_stats/random_search.xlsx')\n"
   ]
  },
  {
   "cell_type": "code",
   "execution_count": 10,
   "metadata": {},
   "outputs": [
    {
     "name": "stdout",
     "output_type": "stream",
     "text": [
      "[445.57051262 450.23329296 448.00779257 434.15470402 443.82294474]\n",
      "[100. 100. 100. 100. 100.]\n"
     ]
    }
   ],
   "source": [
    "print(costs)\n",
    "print(evaluations)"
   ]
  },
  {
   "cell_type": "code",
   "execution_count": 9,
   "metadata": {},
   "outputs": [],
   "source": [
    "df_2 = pd.DataFrame({\n",
    "    'Ejecución': [1,2,3,4,5],\n",
    "    \"Coste mejor\" : [445.57051262, 450.23329296, 448.00779257, 434.15470402, 443.82294474],\n",
    "    \"Evaluaciones\" : [100., 100., 100., 100., 100.]\n",
    "})\n",
    "\n",
    "df_2.to_excel('./01_stats/rs_ejecuciones.xlsx')"
   ]
  }
 ],
 "metadata": {
  "interpreter": {
   "hash": "7d779d0e5915710bac6ba9c7b3edbd525c48ff05a7164abbc05df9554ec16650"
  },
  "kernelspec": {
   "display_name": "Python 3.9.7 ('datascience')",
   "language": "python",
   "name": "python3"
  },
  "language_info": {
   "codemirror_mode": {
    "name": "ipython",
    "version": 3
   },
   "file_extension": ".py",
   "mimetype": "text/x-python",
   "name": "python",
   "nbconvert_exporter": "python",
   "pygments_lexer": "ipython3",
   "version": "3.9.7"
  },
  "orig_nbformat": 4
 },
 "nbformat": 4,
 "nbformat_minor": 2
}
