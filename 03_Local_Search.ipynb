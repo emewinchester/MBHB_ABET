{
 "cells": [
  {
   "cell_type": "markdown",
   "metadata": {},
   "source": [
    "# Libraries"
   ]
  },
  {
   "cell_type": "code",
   "execution_count": 1,
   "metadata": {},
   "outputs": [],
   "source": [
    "import numpy as np\n",
    "\n",
    "from pkg.constants    import *\n",
    "from pkg.evaluation   import Evaluation\n",
    "from pkg.algorithims  import *\n",
    "\n",
    "from time import time"
   ]
  },
  {
   "cell_type": "markdown",
   "metadata": {},
   "source": [
    "# Local Search\n",
    "First best neighbor"
   ]
  },
  {
   "cell_type": "code",
   "execution_count": 2,
   "metadata": {},
   "outputs": [],
   "source": [
    "seeds = np.array([7054, 1354, 23503, 11268, 58283])\n",
    "\n",
    "ev = Evaluation()"
   ]
  },
  {
   "cell_type": "markdown",
   "metadata": {},
   "source": [
    "## Study of the granularity of the algorithm\n",
    "Granularity: number of slots to move between 2 stations. It defines the speed of the problem."
   ]
  },
  {
   "cell_type": "code",
   "execution_count": 8,
   "metadata": {},
   "outputs": [],
   "source": [
    "# Runs every seed of the problem and returns the stats\n",
    "\n",
    "def run_local_search(seeds, granularity, ev):\n",
    "    costs       = np.array([])\n",
    "    evaluations = np.array([])\n",
    "\n",
    "\n",
    "    for s in seeds:\n",
    "\n",
    "        # set evauation calls counter to 0\n",
    "        ev.total_calls = 0\n",
    "\n",
    "        np.random.seed(s)\n",
    "\n",
    "        solution, cost = local_search(\n",
    "            granularity = granularity,\n",
    "            evaluation  = ev\n",
    "        )\n",
    "        \n",
    "        costs = np.append(costs, cost)\n",
    "        evaluations = np.append(evaluations, ev.total_calls)\n",
    "    \n",
    "\n",
    "    df = pd.DataFrame({\n",
    "        \"ev_medias\"    : [evaluations.mean()],\n",
    "        \"ev_mejor\"     : [evaluations.min()],\n",
    "        \"ev_std\"       : [evaluations.std()],\n",
    "        \"coste_medio\"  : [costs.mean()],\n",
    "        \"coste_mejor\"  : [costs.min()],\n",
    "        \"coste_std\"    : [costs.std()]\n",
    "    })\n",
    "    \n",
    "    return df\n",
    "\n",
    "    "
   ]
  },
  {
   "cell_type": "code",
   "execution_count": 10,
   "metadata": {},
   "outputs": [
    {
     "name": "stdout",
     "output_type": "stream",
     "text": [
      "granularity 1 done\n",
      "granularity 2 done\n",
      "granularity 3 done\n",
      "granularity 4 done\n",
      "granularity 5 done\n",
      "granularity 6 done\n"
     ]
    }
   ],
   "source": [
    "g = list(range(1,7))\n",
    "\n",
    "df = pd.DataFrame({\n",
    "        \"ev_medias\"    : [0],\n",
    "        \"ev_mejor\"     : [0],\n",
    "        \"ev_std\"       : [0],\n",
    "        \"coste_medio\"  : [0],\n",
    "        \"coste_mejor\"  : [0],\n",
    "        \"coste_std\"    : [0]\n",
    "    })\n",
    "\n",
    "for granularity in g:\n",
    "\n",
    "    df_aux = run_local_search(seeds,granularity,ev)\n",
    "\n",
    "    df = pd.concat( [df, df_aux] )\n",
    "\n",
    "    print(f'granularity {granularity} done')\n"
   ]
  },
  {
   "cell_type": "code",
   "execution_count": 11,
   "metadata": {},
   "outputs": [
    {
     "data": {
      "text/html": [
       "<div>\n",
       "<style scoped>\n",
       "    .dataframe tbody tr th:only-of-type {\n",
       "        vertical-align: middle;\n",
       "    }\n",
       "\n",
       "    .dataframe tbody tr th {\n",
       "        vertical-align: top;\n",
       "    }\n",
       "\n",
       "    .dataframe thead th {\n",
       "        text-align: right;\n",
       "    }\n",
       "</style>\n",
       "<table border=\"1\" class=\"dataframe\">\n",
       "  <thead>\n",
       "    <tr style=\"text-align: right;\">\n",
       "      <th></th>\n",
       "      <th>ev_medias</th>\n",
       "      <th>ev_mejor</th>\n",
       "      <th>ev_std</th>\n",
       "      <th>coste_medio</th>\n",
       "      <th>coste_mejor</th>\n",
       "      <th>coste_std</th>\n",
       "    </tr>\n",
       "  </thead>\n",
       "  <tbody>\n",
       "    <tr>\n",
       "      <th>0</th>\n",
       "      <td>0.0</td>\n",
       "      <td>0.0</td>\n",
       "      <td>0.000000</td>\n",
       "      <td>0.000000</td>\n",
       "      <td>0.000000</td>\n",
       "      <td>0.000000</td>\n",
       "    </tr>\n",
       "    <tr>\n",
       "      <th>0</th>\n",
       "      <td>1152.2</td>\n",
       "      <td>726.0</td>\n",
       "      <td>311.063595</td>\n",
       "      <td>389.015956</td>\n",
       "      <td>370.857527</td>\n",
       "      <td>14.714760</td>\n",
       "    </tr>\n",
       "    <tr>\n",
       "      <th>0</th>\n",
       "      <td>892.6</td>\n",
       "      <td>507.0</td>\n",
       "      <td>227.199120</td>\n",
       "      <td>388.841934</td>\n",
       "      <td>375.765857</td>\n",
       "      <td>13.147792</td>\n",
       "    </tr>\n",
       "    <tr>\n",
       "      <th>0</th>\n",
       "      <td>631.6</td>\n",
       "      <td>522.0</td>\n",
       "      <td>113.519338</td>\n",
       "      <td>394.111213</td>\n",
       "      <td>379.615053</td>\n",
       "      <td>15.179791</td>\n",
       "    </tr>\n",
       "    <tr>\n",
       "      <th>0</th>\n",
       "      <td>655.0</td>\n",
       "      <td>494.0</td>\n",
       "      <td>109.827137</td>\n",
       "      <td>396.939768</td>\n",
       "      <td>385.082961</td>\n",
       "      <td>13.756105</td>\n",
       "    </tr>\n",
       "    <tr>\n",
       "      <th>0</th>\n",
       "      <td>538.2</td>\n",
       "      <td>404.0</td>\n",
       "      <td>92.397835</td>\n",
       "      <td>399.660101</td>\n",
       "      <td>384.178782</td>\n",
       "      <td>16.910974</td>\n",
       "    </tr>\n",
       "    <tr>\n",
       "      <th>0</th>\n",
       "      <td>503.6</td>\n",
       "      <td>327.0</td>\n",
       "      <td>101.743992</td>\n",
       "      <td>407.043457</td>\n",
       "      <td>394.271385</td>\n",
       "      <td>14.278958</td>\n",
       "    </tr>\n",
       "  </tbody>\n",
       "</table>\n",
       "</div>"
      ],
      "text/plain": [
       "   ev_medias  ev_mejor      ev_std  coste_medio  coste_mejor  coste_std\n",
       "0        0.0       0.0    0.000000     0.000000     0.000000   0.000000\n",
       "0     1152.2     726.0  311.063595   389.015956   370.857527  14.714760\n",
       "0      892.6     507.0  227.199120   388.841934   375.765857  13.147792\n",
       "0      631.6     522.0  113.519338   394.111213   379.615053  15.179791\n",
       "0      655.0     494.0  109.827137   396.939768   385.082961  13.756105\n",
       "0      538.2     404.0   92.397835   399.660101   384.178782  16.910974\n",
       "0      503.6     327.0  101.743992   407.043457   394.271385  14.278958"
      ]
     },
     "execution_count": 11,
     "metadata": {},
     "output_type": "execute_result"
    }
   ],
   "source": [
    "df"
   ]
  },
  {
   "cell_type": "markdown",
   "metadata": {},
   "source": [
    "We choose granularity = 2 because it has the lowest mean cost and the lowest std cost. From now on, every algorithm will use granularity = 2"
   ]
  },
  {
   "cell_type": "code",
   "execution_count": 13,
   "metadata": {},
   "outputs": [],
   "source": [
    "df.to_excel('./01_stats/granularity.xlsx')"
   ]
  },
  {
   "cell_type": "markdown",
   "metadata": {},
   "source": [
    "## Elbow Method\n",
    "Method to calculate an appropriate number of iterations for an algorithm."
   ]
  },
  {
   "cell_type": "code",
   "execution_count": 3,
   "metadata": {},
   "outputs": [],
   "source": [
    "granularity = 2"
   ]
  },
  {
   "cell_type": "code",
   "execution_count": 4,
   "metadata": {},
   "outputs": [],
   "source": [
    "costs       = np.array([])\n",
    "evaluations = np.array([])\n",
    "\n",
    "for s in seeds:\n",
    "\n",
    "    # set evauation calls counter to 0\n",
    "    ev.total_calls = 0\n",
    "\n",
    "    np.random.seed(s)\n",
    "\n",
    "    solution, cost = local_search(\n",
    "        granularity = granularity,\n",
    "        evaluation  = ev,\n",
    "        # path = './01_stats/local_search_' + str(s) + '.xlsx'\n",
    "    )\n",
    "\n",
    "    costs = np.append(costs, cost)\n",
    "    evaluations = np.append(evaluations, ev.total_calls)\n",
    "\n",
    "\n",
    "df = pd.DataFrame({\n",
    "    \"ev_medias\"    : [evaluations.mean()],\n",
    "    \"ev_mejor\"     : [evaluations.min()],\n",
    "    \"ev_std\"       : [evaluations.std()],\n",
    "    \"coste_medio\"  : [costs.mean()],\n",
    "    \"coste_mejor\"  : [costs.min()],\n",
    "    \"coste_std\"    : [costs.std()]\n",
    "})\n",
    "    \n"
   ]
  },
  {
   "cell_type": "code",
   "execution_count": 7,
   "metadata": {},
   "outputs": [
    {
     "data": {
      "text/html": [
       "<div>\n",
       "<style scoped>\n",
       "    .dataframe tbody tr th:only-of-type {\n",
       "        vertical-align: middle;\n",
       "    }\n",
       "\n",
       "    .dataframe tbody tr th {\n",
       "        vertical-align: top;\n",
       "    }\n",
       "\n",
       "    .dataframe thead th {\n",
       "        text-align: right;\n",
       "    }\n",
       "</style>\n",
       "<table border=\"1\" class=\"dataframe\">\n",
       "  <thead>\n",
       "    <tr style=\"text-align: right;\">\n",
       "      <th></th>\n",
       "      <th>Ejecución</th>\n",
       "      <th>Coste mejor</th>\n",
       "      <th>Evaluaciones</th>\n",
       "    </tr>\n",
       "  </thead>\n",
       "  <tbody>\n",
       "    <tr>\n",
       "      <th>0</th>\n",
       "      <td>1</td>\n",
       "      <td>375.765857</td>\n",
       "      <td>991.0</td>\n",
       "    </tr>\n",
       "    <tr>\n",
       "      <th>1</th>\n",
       "      <td>2</td>\n",
       "      <td>378.203851</td>\n",
       "      <td>1176.0</td>\n",
       "    </tr>\n",
       "    <tr>\n",
       "      <th>2</th>\n",
       "      <td>3</td>\n",
       "      <td>398.707709</td>\n",
       "      <td>993.0</td>\n",
       "    </tr>\n",
       "    <tr>\n",
       "      <th>3</th>\n",
       "      <td>4</td>\n",
       "      <td>381.856650</td>\n",
       "      <td>507.0</td>\n",
       "    </tr>\n",
       "    <tr>\n",
       "      <th>4</th>\n",
       "      <td>5</td>\n",
       "      <td>409.675606</td>\n",
       "      <td>796.0</td>\n",
       "    </tr>\n",
       "  </tbody>\n",
       "</table>\n",
       "</div>"
      ],
      "text/plain": [
       "   Ejecución  Coste mejor  Evaluaciones\n",
       "0          1   375.765857         991.0\n",
       "1          2   378.203851        1176.0\n",
       "2          3   398.707709         993.0\n",
       "3          4   381.856650         507.0\n",
       "4          5   409.675606         796.0"
      ]
     },
     "execution_count": 7,
     "metadata": {},
     "output_type": "execute_result"
    }
   ],
   "source": [
    "df_2 = pd.DataFrame({\n",
    "    'Ejecución': [1,2,3,4,5],\n",
    "    \"Coste mejor\" : costs,\n",
    "    \"Evaluaciones\" : evaluations\n",
    "})\n",
    "\n",
    "df_2.to_excel('./01_stats/ls_ejecuciones.xlsx')\n",
    "\n",
    "df_2"
   ]
  },
  {
   "cell_type": "code",
   "execution_count": 8,
   "metadata": {},
   "outputs": [
    {
     "data": {
      "text/html": [
       "<div>\n",
       "<style scoped>\n",
       "    .dataframe tbody tr th:only-of-type {\n",
       "        vertical-align: middle;\n",
       "    }\n",
       "\n",
       "    .dataframe tbody tr th {\n",
       "        vertical-align: top;\n",
       "    }\n",
       "\n",
       "    .dataframe thead th {\n",
       "        text-align: right;\n",
       "    }\n",
       "</style>\n",
       "<table border=\"1\" class=\"dataframe\">\n",
       "  <thead>\n",
       "    <tr style=\"text-align: right;\">\n",
       "      <th></th>\n",
       "      <th>ev_medias</th>\n",
       "      <th>ev_mejor</th>\n",
       "      <th>ev_std</th>\n",
       "      <th>coste_medio</th>\n",
       "      <th>coste_mejor</th>\n",
       "      <th>coste_std</th>\n",
       "    </tr>\n",
       "  </thead>\n",
       "  <tbody>\n",
       "    <tr>\n",
       "      <th>0</th>\n",
       "      <td>892.6</td>\n",
       "      <td>507.0</td>\n",
       "      <td>227.19912</td>\n",
       "      <td>388.841934</td>\n",
       "      <td>375.765857</td>\n",
       "      <td>13.147792</td>\n",
       "    </tr>\n",
       "  </tbody>\n",
       "</table>\n",
       "</div>"
      ],
      "text/plain": [
       "   ev_medias  ev_mejor     ev_std  coste_medio  coste_mejor  coste_std\n",
       "0      892.6     507.0  227.19912   388.841934   375.765857  13.147792"
      ]
     },
     "execution_count": 8,
     "metadata": {},
     "output_type": "execute_result"
    }
   ],
   "source": [
    "df.to_excel('./01_stats/local_search_stats.xlsx')\n",
    "df"
   ]
  }
 ],
 "metadata": {
  "interpreter": {
   "hash": "7d779d0e5915710bac6ba9c7b3edbd525c48ff05a7164abbc05df9554ec16650"
  },
  "kernelspec": {
   "display_name": "Python 3.9.7 ('datascience')",
   "language": "python",
   "name": "python3"
  },
  "language_info": {
   "codemirror_mode": {
    "name": "ipython",
    "version": 3
   },
   "file_extension": ".py",
   "mimetype": "text/x-python",
   "name": "python",
   "nbconvert_exporter": "python",
   "pygments_lexer": "ipython3",
   "version": "3.9.7"
  },
  "orig_nbformat": 4
 },
 "nbformat": 4,
 "nbformat_minor": 2
}
