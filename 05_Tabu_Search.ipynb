{
 "cells": [
  {
   "cell_type": "markdown",
   "metadata": {},
   "source": [
    "# Libraries"
   ]
  },
  {
   "cell_type": "code",
   "execution_count": 11,
   "metadata": {},
   "outputs": [],
   "source": [
    "import numpy as np\n",
    "\n",
    "from pkg.constants    import *\n",
    "from pkg.evaluation   import Evaluation\n",
    "from pkg.algorithims  import *\n",
    "\n",
    "from time import time"
   ]
  },
  {
   "cell_type": "markdown",
   "metadata": {},
   "source": [
    "# Tabu Search"
   ]
  },
  {
   "cell_type": "code",
   "execution_count": 2,
   "metadata": {},
   "outputs": [],
   "source": [
    "seeds = np.array([7054, 1354, 23503, 11268, 58283])\n",
    "\n",
    "ev = Evaluation()\n",
    "\n",
    "granularity = 2 # estudiado en local search\n",
    "reboots = 4\n"
   ]
  },
  {
   "cell_type": "code",
   "execution_count": 3,
   "metadata": {},
   "outputs": [],
   "source": [
    "# parametros para ajustar\n",
    "tenure = 10\n",
    "total_iterations = 300\n",
    "total_neighbors = 40"
   ]
  },
  {
   "cell_type": "markdown",
   "metadata": {},
   "source": [
    "## Estudio del numero de iteraciones optimas"
   ]
  },
  {
   "cell_type": "code",
   "execution_count": 4,
   "metadata": {},
   "outputs": [
    {
     "name": "stdout",
     "output_type": "stream",
     "text": [
      "slots asignados: 218.0\n",
      "slots asignados: 218.0\n",
      "slots asignados: 281.0\n",
      "normaliza\n",
      "slots asignados: 218.0\n"
     ]
    }
   ],
   "source": [
    "np.random.seed(seeds[3])\n",
    "\n",
    "solution, cost = tabu_search(\n",
    "        tenure           = tenure,\n",
    "        reboots          = reboots,\n",
    "        total_iterations = total_iterations,\n",
    "        slots            = granularity,\n",
    "        total_neighbors  = total_neighbors,\n",
    "        evaluation       = ev,\n",
    "        path = './01_stats/total_iterations_ts.xlsx'\n",
    "    )"
   ]
  },
  {
   "cell_type": "code",
   "execution_count": 6,
   "metadata": {},
   "outputs": [
    {
     "name": "stdout",
     "output_type": "stream",
     "text": [
      "376.6590383801424\n",
      "[11 12 20 15 17 14 12 10 11 12 17 24  3  9 20 13]\n"
     ]
    },
    {
     "data": {
      "text/plain": [
       "220"
      ]
     },
     "execution_count": 6,
     "metadata": {},
     "output_type": "execute_result"
    }
   ],
   "source": [
    "\n",
    "print(cost)\n",
    "print(solution)\n",
    "np.sum(solution)"
   ]
  },
  {
   "cell_type": "markdown",
   "metadata": {},
   "source": [
    "## Obtencion tabla individual del algoritmo"
   ]
  },
  {
   "cell_type": "code",
   "execution_count": 7,
   "metadata": {},
   "outputs": [],
   "source": [
    "def run_tabu_search(tenure, reboots, total_iterations, granularity, total_neighbors, ev, seeds):\n",
    "\n",
    "    costs       = np.array([])\n",
    "    evaluations = np.array([])\n",
    "\n",
    "    for s in seeds:\n",
    "\n",
    "        # set evaluation calls counter to 0\n",
    "        ev.total_calls = 0\n",
    "\n",
    "        np.random.seed(s)\n",
    "\n",
    "        solution, cost = tabu_search(\n",
    "        tenure           = tenure,\n",
    "        reboots          = reboots,\n",
    "        total_iterations = total_iterations,\n",
    "        slots            = granularity,\n",
    "        total_neighbors  = total_neighbors,\n",
    "        evaluation       = ev\n",
    "    )\n",
    "\n",
    "        costs = np.append(costs, cost)\n",
    "        evaluations = np.append(evaluations, ev.total_calls)\n",
    "\n",
    "    df = pd.DataFrame({\n",
    "        \"ev_medias\"    : [evaluations.mean()],\n",
    "        \"ev_mejor\"     : [evaluations.min()],\n",
    "        \"ev_std\"       : [evaluations.std()],\n",
    "        \"coste_medio\"  : [costs.mean()],\n",
    "        \"coste_mejor\"  : [costs.min()],\n",
    "        \"coste_std\"    : [costs.std()]\n",
    "    })\n",
    "\n",
    "    return df, costs, evaluations\n",
    "\n",
    " "
   ]
  },
  {
   "cell_type": "code",
   "execution_count": 10,
   "metadata": {},
   "outputs": [
    {
     "name": "stdout",
     "output_type": "stream",
     "text": [
      "slots asignados: 218.0\n",
      "slots asignados: 218.0\n",
      "slots asignados: 218.0\n",
      "slots asignados: 282.0\n",
      "normaliza\n",
      "slots asignados: 218.0\n",
      "slots asignados: 219.0\n",
      "slots asignados: 217.0\n",
      "slots asignados: 299.0\n",
      "normaliza\n",
      "slots asignados: 218.0\n",
      "slots asignados: 247.0\n",
      "normaliza\n",
      "slots asignados: 218.0\n"
     ]
    },
    {
     "data": {
      "text/html": [
       "<div>\n",
       "<style scoped>\n",
       "    .dataframe tbody tr th:only-of-type {\n",
       "        vertical-align: middle;\n",
       "    }\n",
       "\n",
       "    .dataframe tbody tr th {\n",
       "        vertical-align: top;\n",
       "    }\n",
       "\n",
       "    .dataframe thead th {\n",
       "        text-align: right;\n",
       "    }\n",
       "</style>\n",
       "<table border=\"1\" class=\"dataframe\">\n",
       "  <thead>\n",
       "    <tr style=\"text-align: right;\">\n",
       "      <th></th>\n",
       "      <th>ev_medias</th>\n",
       "      <th>ev_mejor</th>\n",
       "      <th>ev_std</th>\n",
       "      <th>coste_medio</th>\n",
       "      <th>coste_mejor</th>\n",
       "      <th>coste_std</th>\n",
       "    </tr>\n",
       "  </thead>\n",
       "  <tbody>\n",
       "    <tr>\n",
       "      <th>0</th>\n",
       "      <td>4804.4</td>\n",
       "      <td>4804.0</td>\n",
       "      <td>0.489898</td>\n",
       "      <td>381.265798</td>\n",
       "      <td>377.907421</td>\n",
       "      <td>3.040873</td>\n",
       "    </tr>\n",
       "  </tbody>\n",
       "</table>\n",
       "</div>"
      ],
      "text/plain": [
       "   ev_medias  ev_mejor    ev_std  coste_medio  coste_mejor  coste_std\n",
       "0     4804.4    4804.0  0.489898   381.265798   377.907421   3.040873"
      ]
     },
     "execution_count": 10,
     "metadata": {},
     "output_type": "execute_result"
    }
   ],
   "source": [
    "tenure = 10\n",
    "reboots = 4\n",
    "iterations_per_reboot = 30\n",
    "total_iterations = reboots * iterations_per_reboot\n",
    "total_neighbors = 40\n",
    "\n",
    "\n",
    "df, costs, evaluations = run_tabu_search(\n",
    "    tenure = tenure,\n",
    "    reboots = reboots, \n",
    "    total_iterations = total_iterations,\n",
    "    granularity = granularity,\n",
    "    total_neighbors = total_neighbors,\n",
    "    ev = ev,\n",
    "    seeds = seeds\n",
    ")\n",
    "\n",
    "df"
   ]
  },
  {
   "cell_type": "code",
   "execution_count": 14,
   "metadata": {},
   "outputs": [
    {
     "data": {
      "text/html": [
       "<div>\n",
       "<style scoped>\n",
       "    .dataframe tbody tr th:only-of-type {\n",
       "        vertical-align: middle;\n",
       "    }\n",
       "\n",
       "    .dataframe tbody tr th {\n",
       "        vertical-align: top;\n",
       "    }\n",
       "\n",
       "    .dataframe thead th {\n",
       "        text-align: right;\n",
       "    }\n",
       "</style>\n",
       "<table border=\"1\" class=\"dataframe\">\n",
       "  <thead>\n",
       "    <tr style=\"text-align: right;\">\n",
       "      <th></th>\n",
       "      <th>ev_medias</th>\n",
       "      <th>ev_mejor</th>\n",
       "      <th>ev_std</th>\n",
       "      <th>coste_medio</th>\n",
       "      <th>coste_mejor</th>\n",
       "      <th>coste_std</th>\n",
       "    </tr>\n",
       "  </thead>\n",
       "  <tbody>\n",
       "    <tr>\n",
       "      <th>0</th>\n",
       "      <td>4804.4</td>\n",
       "      <td>4804.0</td>\n",
       "      <td>0.489898</td>\n",
       "      <td>381.265798</td>\n",
       "      <td>377.907421</td>\n",
       "      <td>3.040873</td>\n",
       "    </tr>\n",
       "  </tbody>\n",
       "</table>\n",
       "</div>"
      ],
      "text/plain": [
       "   ev_medias  ev_mejor    ev_std  coste_medio  coste_mejor  coste_std\n",
       "0     4804.4    4804.0  0.489898   381.265798   377.907421   3.040873"
      ]
     },
     "execution_count": 14,
     "metadata": {},
     "output_type": "execute_result"
    }
   ],
   "source": [
    "df = pd.DataFrame({\n",
    "        \"ev_medias\"    : [4804.4],\n",
    "        \"ev_mejor\"     : [4804.0\t],\n",
    "        \"ev_std\"       : [0.489898],\n",
    "        \"coste_medio\"  : [381.265798],\n",
    "        \"coste_mejor\"  : [377.907421],\n",
    "        \"coste_std\"    : [3.040873]\n",
    "    })\n",
    "\n",
    "\n",
    "df.to_excel('./01_stats/ts_stats.xlsx')\n",
    "df"
   ]
  }
 ],
 "metadata": {
  "interpreter": {
   "hash": "7d779d0e5915710bac6ba9c7b3edbd525c48ff05a7164abbc05df9554ec16650"
  },
  "kernelspec": {
   "display_name": "Python 3.9.7 ('datascience')",
   "language": "python",
   "name": "python3"
  },
  "language_info": {
   "codemirror_mode": {
    "name": "ipython",
    "version": 3
   },
   "file_extension": ".py",
   "mimetype": "text/x-python",
   "name": "python",
   "nbconvert_exporter": "python",
   "pygments_lexer": "ipython3",
   "version": "3.9.7"
  },
  "orig_nbformat": 4
 },
 "nbformat": 4,
 "nbformat_minor": 2
}
