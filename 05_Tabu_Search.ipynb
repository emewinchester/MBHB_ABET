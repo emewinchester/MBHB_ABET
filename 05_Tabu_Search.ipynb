{
 "cells": [
  {
   "cell_type": "markdown",
   "metadata": {},
   "source": [
    "# Libraries"
   ]
  },
  {
   "cell_type": "code",
   "execution_count": null,
   "metadata": {},
   "outputs": [],
   "source": [
    "import numpy as np\n",
    "\n",
    "from pkg.constants    import *\n",
    "from pkg.evaluation   import Evaluation\n",
    "from pkg.algorithims  import *\n",
    "\n",
    "from time import time"
   ]
  },
  {
   "cell_type": "markdown",
   "metadata": {},
   "source": [
    "# Tabu Search"
   ]
  },
  {
   "cell_type": "code",
   "execution_count": null,
   "metadata": {},
   "outputs": [],
   "source": [
    "seeds = np.array([7054, 1354, 23503, 11268, 58283])\n",
    "\n",
    "ev = Evaluation()\n",
    "\n",
    "granularity = 2 # estudiado en local search\n",
    "reboots = 4\n"
   ]
  },
  {
   "cell_type": "code",
   "execution_count": 10,
   "metadata": {},
   "outputs": [],
   "source": [
    "# parametros para ajustar\n",
    "tenure = 40\n",
    "total_iterations = 40\n",
    "total_neighbors = 20"
   ]
  },
  {
   "cell_type": "code",
   "execution_count": null,
   "metadata": {},
   "outputs": [],
   "source": [
    "costs       = np.array([])\n",
    "evaluations = np.array([])\n",
    "\n",
    "ini = time()\n",
    "\n",
    "for s in seeds:\n",
    "\n",
    "    # set evaluation calls counter to 0\n",
    "    ev.total_calls = 0\n",
    "\n",
    "    np.random.seed(s)\n",
    "\n",
    "    solution, cost = tabu_search(\n",
    "        tenure           = tenure,\n",
    "        reboots          = reboots,\n",
    "        total_iterations = total_iterations,\n",
    "        slots            = granularity,\n",
    "        total_neighbors  = total_neighbors,\n",
    "        evaluation       = ev\n",
    "    )\n",
    "\n",
    "    costs = np.append(costs, cost)\n",
    "    evaluations = np.append(evaluations, ev.total_calls)\n",
    "\n",
    "fin = time()\n",
    "\n",
    "print(f'Tiempo total de ejecucion: {fin-ini}')\n",
    "print(f'Evaluaciones por ejecucion: {evaluations}')\n",
    "print(f'Costes por evaluacion: {costs}')\n",
    "print(f'Evaluaciones medias {evaluations.mean()}, evaluaciones std {evaluations.std()}')\n",
    "print(f'Coste medio {costs.mean()}, coste std {costs.std()}')\n",
    "    "
   ]
  },
  {
   "cell_type": "code",
   "execution_count": 11,
   "metadata": {},
   "outputs": [
    {
     "name": "stdout",
     "output_type": "stream",
     "text": [
      "reboot 0, iteracion 0\n",
      "ASPIRA\n",
      "coste candidata 537.7098296738009\n",
      "coste global 564.9951766145007\n",
      "reboot 0, iteracion 1\n",
      "ASPIRA\n",
      "coste candidata 511.7909531726255\n",
      "coste global 537.7098296738009\n",
      "reboot 0, iteracion 2\n",
      "ASPIRA\n",
      "coste candidata 488.23418847278856\n",
      "coste global 511.7909531726255\n",
      "reboot 0, iteracion 3\n",
      "ASPIRA\n",
      "coste candidata 469.9003752801103\n",
      "coste global 488.23418847278856\n",
      "reboot 0, iteracion 4\n",
      "ASPIRA\n",
      "coste candidata 459.0466510241023\n",
      "coste global 469.9003752801103\n",
      "reboot 0, iteracion 5\n",
      "ASPIRA\n",
      "coste candidata 454.8579137575847\n",
      "coste global 459.0466510241023\n",
      "reboot 0, iteracion 6\n",
      "ASPIRA\n",
      "coste candidata 443.79956326449985\n",
      "coste global 454.8579137575847\n",
      "reboot 0, iteracion 7\n",
      "ASPIRA\n",
      "coste candidata 430.70420604399305\n",
      "coste global 443.79956326449985\n",
      "reboot 0, iteracion 8\n",
      "ASPIRA\n",
      "coste candidata 424.9023525980746\n",
      "coste global 430.70420604399305\n",
      "reboot 0, iteracion 9\n",
      "ASPIRA\n",
      "coste candidata 421.49300810945334\n",
      "coste global 424.9023525980746\n",
      "genera solucion aleatoria\n",
      "reboot 1, iteracion 0\n",
      "No aspira\n",
      "veces tabu: 0\n",
      "reboot 1, iteracion 1\n",
      "No aspira\n",
      "veces tabu: 0\n",
      "reboot 1, iteracion 2\n",
      "No aspira\n",
      "veces tabu: 0\n",
      "reboot 1, iteracion 3\n",
      "No aspira\n",
      "veces tabu: 0\n",
      "reboot 1, iteracion 4\n",
      "No aspira\n",
      "veces tabu: 0\n",
      "reboot 1, iteracion 5\n",
      "No aspira\n",
      "veces tabu: 0\n",
      "reboot 1, iteracion 6\n",
      "No aspira\n",
      "veces tabu: 0\n",
      "reboot 1, iteracion 7\n",
      "No aspira\n",
      "veces tabu: 0\n",
      "reboot 1, iteracion 8\n",
      "No aspira\n",
      "veces tabu: 0\n",
      "reboot 1, iteracion 9\n",
      "No aspira\n",
      "veces tabu: 0\n",
      "genera solucion aleatoria\n",
      "reboot 2, iteracion 0\n",
      "No aspira\n",
      "veces tabu: 0\n",
      "reboot 2, iteracion 1\n",
      "No aspira\n",
      "veces tabu: 0\n",
      "reboot 2, iteracion 2\n",
      "No aspira\n",
      "veces tabu: 0\n",
      "reboot 2, iteracion 3\n",
      "No aspira\n",
      "veces tabu: 0\n",
      "reboot 2, iteracion 4\n",
      "No aspira\n",
      "veces tabu: 0\n",
      "reboot 2, iteracion 5\n",
      "No aspira\n",
      "veces tabu: 0\n",
      "reboot 2, iteracion 6\n",
      "No aspira\n",
      "veces tabu: 0\n",
      "reboot 2, iteracion 7\n",
      "No aspira\n",
      "veces tabu: 0\n",
      "reboot 2, iteracion 8\n",
      "No aspira\n",
      "veces tabu: 0\n",
      "reboot 2, iteracion 9\n",
      "No aspira\n",
      "veces tabu: 0\n",
      "genera solucion aleatoria\n",
      "reboot 3, iteracion 0\n",
      "No aspira\n",
      "veces tabu: 0\n",
      "reboot 3, iteracion 1\n",
      "No aspira\n",
      "veces tabu: 0\n",
      "reboot 3, iteracion 2\n",
      "No aspira\n",
      "veces tabu: 0\n",
      "reboot 3, iteracion 3\n",
      "No aspira\n",
      "veces tabu: 0\n",
      "reboot 3, iteracion 4\n",
      "No aspira\n",
      "veces tabu: 0\n",
      "reboot 3, iteracion 5\n",
      "No aspira\n",
      "veces tabu: 0\n",
      "reboot 3, iteracion 6\n",
      "No aspira\n",
      "veces tabu: 0\n",
      "reboot 3, iteracion 7\n",
      "No aspira\n",
      "veces tabu: 0\n",
      "reboot 3, iteracion 8\n",
      "No aspira\n",
      "veces tabu: 0\n",
      "reboot 3, iteracion 9\n",
      "No aspira\n",
      "veces tabu: 0\n",
      "genera solucion aleatoria\n"
     ]
    }
   ],
   "source": [
    "np.random.seed(seeds[0])\n",
    "\n",
    "solution, cost = tabu_search(\n",
    "    tenure           = tenure,\n",
    "    reboots          = reboots,\n",
    "    total_iterations = total_iterations,\n",
    "    slots            = granularity,\n",
    "    total_neighbors  = total_neighbors,\n",
    "    evaluation       = ev\n",
    ")"
   ]
  },
  {
   "cell_type": "code",
   "execution_count": 7,
   "metadata": {},
   "outputs": [
    {
     "data": {
      "text/plain": [
       "(array([22, 12, 17, 15, 16,  5, 20,  7, 10, 13, 12, 18, 12, 12, 14, 15],\n",
       "       dtype=int64),\n",
       " 421.49300810945334)"
      ]
     },
     "execution_count": 7,
     "metadata": {},
     "output_type": "execute_result"
    }
   ],
   "source": [
    "solution, cost"
   ]
  }
 ],
 "metadata": {
  "interpreter": {
   "hash": "7d779d0e5915710bac6ba9c7b3edbd525c48ff05a7164abbc05df9554ec16650"
  },
  "kernelspec": {
   "display_name": "Python 3.9.7 ('datascience')",
   "language": "python",
   "name": "python3"
  },
  "language_info": {
   "codemirror_mode": {
    "name": "ipython",
    "version": 3
   },
   "file_extension": ".py",
   "mimetype": "text/x-python",
   "name": "python",
   "nbconvert_exporter": "python",
   "pygments_lexer": "ipython3",
   "version": "3.9.7"
  },
  "orig_nbformat": 4
 },
 "nbformat": 4,
 "nbformat_minor": 2
}
