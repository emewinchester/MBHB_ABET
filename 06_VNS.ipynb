{
 "cells": [
  {
   "cell_type": "markdown",
   "metadata": {},
   "source": [
    "# Libraries"
   ]
  },
  {
   "cell_type": "code",
   "execution_count": 1,
   "metadata": {},
   "outputs": [],
   "source": [
    "import numpy as np\n",
    "\n",
    "from pkg.constants    import *\n",
    "from pkg.evaluation   import Evaluation\n",
    "from pkg.utils        import *\n",
    "from pkg.algorithims  import local_search"
   ]
  },
  {
   "cell_type": "markdown",
   "metadata": {},
   "source": [
    "Dudas:\n",
    "\n",
    "- valor de bl_max? bl\n",
    "\n",
    "- debemos ajustar el valor de bl_max? mediante experimentacion?"
   ]
  },
  {
   "cell_type": "markdown",
   "metadata": {},
   "source": [
    "# VNS"
   ]
  },
  {
   "cell_type": "code",
   "execution_count": 2,
   "metadata": {},
   "outputs": [],
   "source": [
    "seeds = np.array([7054, 1354, 23503, 11268, 58283])\n",
    "ev    = Evaluation()\n",
    "\n",
    "granularity = 2 # calculada previamente"
   ]
  },
  {
   "cell_type": "code",
   "execution_count": 3,
   "metadata": {},
   "outputs": [
    {
     "name": "stdout",
     "output_type": "stream",
     "text": [
      "[17 17 22  7  5  7 15 12 15 15 12 22 20 15 12  5]\n",
      "[15 22 12 22  5 12 15 15 20 17 17 12 15  7  5  7]\n"
     ]
    }
   ],
   "source": [
    "solution = generate_random_solution()\n",
    "k = 4\n",
    "\n",
    "print(solution)\n",
    "\n",
    "neighbor = neighbor_generation_operator(\n",
    "    solution = solution, \n",
    "    k        = k\n",
    ")\n",
    "\n",
    "print(neighbor)"
   ]
  },
  {
   "cell_type": "code",
   "execution_count": 6,
   "metadata": {},
   "outputs": [
    {
     "name": "stdout",
     "output_type": "stream",
     "text": [
      "1\n",
      "mejora\n",
      "Coste antiguo: 564.9951766145007\n",
      "Coste nuevo: 375.15261936180923\n",
      "2\n",
      "mejora\n",
      "Coste antiguo: 375.15261936180923\n",
      "Coste nuevo: 374.2942479149146\n",
      "3\n",
      "no mejora\n",
      "4\n",
      "no mejora\n",
      "5\n",
      "no mejora\n",
      "6\n",
      "mejora\n",
      "Coste antiguo: 374.2942479149146\n",
      "Coste nuevo: 373.9783525025424\n",
      "7\n",
      "no mejora\n",
      "8\n",
      "mejora\n",
      "Coste antiguo: 373.9783525025424\n",
      "Coste nuevo: 373.4942826545511\n",
      "9\n",
      "mejora\n",
      "Coste antiguo: 373.4942826545511\n",
      "Coste nuevo: 373.03445225832417\n",
      "10\n",
      "mejora\n",
      "Coste antiguo: 373.03445225832417\n",
      "Coste nuevo: 372.1944671808838\n",
      "11\n",
      "no mejora\n",
      "12\n",
      "no mejora\n",
      "13\n",
      "mejora\n",
      "Coste antiguo: 372.1944671808838\n",
      "Coste nuevo: 371.51420862258544\n",
      "14\n",
      "no mejora\n",
      "15\n",
      "no mejora\n",
      "16\n",
      "no mejora\n",
      "17\n",
      "no mejora\n",
      "371.51420862258544\n",
      "[15 12 20 15 20 14  9 13 12 14 12 24  2 13 13 12]\n"
     ]
    }
   ],
   "source": [
    "# local_search(granularity, evaluation, initial_sol = None, path=None)\n",
    "\n",
    "np.random.seed(seeds[0])\n",
    "\n",
    "# generate random solution\n",
    "global_sol      = generate_random_solution()\n",
    "global_sol_cost = ev.evaluate(global_sol)\n",
    "\n",
    "\n",
    "k  = 1\n",
    "bl = 0\n",
    "bl_max = 20\n",
    "\n",
    "while k <= k_max and bl <= bl_max :\n",
    "\n",
    "    neighbor = neighbor_generation_operator(\n",
    "        solution = global_sol, \n",
    "        k        = k\n",
    "    )\n",
    "\n",
    "    candidate_sol, candidate_sol_cost = local_search(\n",
    "        granularity = granularity,\n",
    "        evaluation  = ev,\n",
    "        initial_sol = neighbor\n",
    "    )\n",
    "\n",
    "    bl += 1\n",
    "    print(bl)\n",
    "\n",
    "    if candidate_sol_cost < global_sol_cost:\n",
    "        print(f'mejora')\n",
    "        print(f'Coste antiguo: {global_sol_cost}')\n",
    "        print(f'Coste nuevo: {candidate_sol_cost}')\n",
    "        global_sol      = candidate_sol\n",
    "        global_sol_cost = candidate_sol_cost\n",
    "\n",
    "        k = 1\n",
    "    else:\n",
    "        print('no mejora')\n",
    "        k += 1\n",
    "\n",
    "print(global_sol_cost)\n",
    "print(global_sol)\n",
    "\n"
   ]
  }
 ],
 "metadata": {
  "interpreter": {
   "hash": "7d779d0e5915710bac6ba9c7b3edbd525c48ff05a7164abbc05df9554ec16650"
  },
  "kernelspec": {
   "display_name": "Python 3.9.7 ('datascience')",
   "language": "python",
   "name": "python3"
  },
  "language_info": {
   "codemirror_mode": {
    "name": "ipython",
    "version": 3
   },
   "file_extension": ".py",
   "mimetype": "text/x-python",
   "name": "python",
   "nbconvert_exporter": "python",
   "pygments_lexer": "ipython3",
   "version": "3.9.7"
  },
  "orig_nbformat": 4
 },
 "nbformat": 4,
 "nbformat_minor": 2
}
