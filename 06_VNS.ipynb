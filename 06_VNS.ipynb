{
 "cells": [
  {
   "cell_type": "markdown",
   "metadata": {},
   "source": [
    "# Libraries"
   ]
  },
  {
   "cell_type": "code",
   "execution_count": 1,
   "metadata": {},
   "outputs": [],
   "source": [
    "import numpy as np\n",
    "\n",
    "from pkg.constants    import *\n",
    "from pkg.evaluation   import Evaluation\n",
    "from pkg.utils        import *\n",
    "from pkg.algorithims  import local_search"
   ]
  },
  {
   "cell_type": "markdown",
   "metadata": {},
   "source": [
    "# VNS"
   ]
  },
  {
   "cell_type": "code",
   "execution_count": 2,
   "metadata": {},
   "outputs": [],
   "source": [
    "seeds = np.array([7054, 1354, 23503, 11268, 58283])\n",
    "ev    = Evaluation()\n",
    "\n",
    "granularity = 2 # calculada previamente"
   ]
  },
  {
   "cell_type": "code",
   "execution_count": 3,
   "metadata": {},
   "outputs": [
    {
     "name": "stdout",
     "output_type": "stream",
     "text": [
      "[ 8 23 20 11  8  6 14 11 17 11 23  6 23 14 11 14]\n",
      "[ 6 17  8 23 11 23 23 11 14 11 11 14 20 14  6  8]\n"
     ]
    }
   ],
   "source": [
    "solution = generate_random_solution()\n",
    "k = 4\n",
    "\n",
    "print(solution)\n",
    "\n",
    "neighbor = neighbor_generation_operator(\n",
    "    solution = solution, \n",
    "    k        = k\n",
    ")\n",
    "\n",
    "print(neighbor)"
   ]
  },
  {
   "cell_type": "code",
   "execution_count": 7,
   "metadata": {},
   "outputs": [
    {
     "name": "stdout",
     "output_type": "stream",
     "text": [
      "1\n",
      "mejora\n",
      "Coste antiguo: 494.99265776674383\n",
      "Coste nuevo: 414.1047597059338\n",
      "2\n",
      "no mejora\n",
      "3\n",
      "mejora\n",
      "Coste antiguo: 414.1047597059338\n",
      "Coste nuevo: 409.6756059650655\n",
      "4\n",
      "no mejora\n",
      "5\n",
      "no mejora\n",
      "6\n",
      "no mejora\n",
      "7\n",
      "no mejora\n",
      "409.6756059650655\n",
      "[16 10 18 20 20 14 12 12 12 14 10 24  2 18  2 12]\n"
     ]
    }
   ],
   "source": [
    "# local_search(granularity, evaluation, initial_sol = None, path=None)\n",
    "\n",
    "np.random.seed(seeds[4])\n",
    "\n",
    "# generate random solution\n",
    "global_sol      = generate_random_solution()\n",
    "global_sol_cost = ev.evaluate(global_sol)\n",
    "\n",
    "\n",
    "k  = 1\n",
    "bl = 0\n",
    "bl_max = 20 # criterio de salida. Calcular en funcion de la experimentacion\n",
    "\n",
    "while k <= k_max and bl <= bl_max :\n",
    "\n",
    "    neighbor = neighbor_generation_operator(\n",
    "        solution = global_sol, \n",
    "        k        = k\n",
    "    )\n",
    "\n",
    "    candidate_sol, candidate_sol_cost = local_search(\n",
    "        granularity = granularity,\n",
    "        evaluation  = ev,\n",
    "        initial_sol = neighbor\n",
    "    )\n",
    "\n",
    "    bl += 1\n",
    "    print(bl)\n",
    "\n",
    "    if candidate_sol_cost < global_sol_cost:\n",
    "        print(f'mejora')\n",
    "        print(f'Coste antiguo: {global_sol_cost}')\n",
    "        print(f'Coste nuevo: {candidate_sol_cost}')\n",
    "        global_sol      = candidate_sol\n",
    "        global_sol_cost = candidate_sol_cost\n",
    "\n",
    "        k = 1\n",
    "    else:\n",
    "        print('no mejora')\n",
    "        k += 1\n",
    "\n",
    "print(global_sol_cost)\n",
    "print(global_sol)\n",
    "\n"
   ]
  }
 ],
 "metadata": {
  "interpreter": {
   "hash": "7d779d0e5915710bac6ba9c7b3edbd525c48ff05a7164abbc05df9554ec16650"
  },
  "kernelspec": {
   "display_name": "Python 3.9.7 ('datascience')",
   "language": "python",
   "name": "python3"
  },
  "language_info": {
   "codemirror_mode": {
    "name": "ipython",
    "version": 3
   },
   "file_extension": ".py",
   "mimetype": "text/x-python",
   "name": "python",
   "nbconvert_exporter": "python",
   "pygments_lexer": "ipython3",
   "version": "3.9.7"
  },
  "orig_nbformat": 4
 },
 "nbformat": 4,
 "nbformat_minor": 2
}
