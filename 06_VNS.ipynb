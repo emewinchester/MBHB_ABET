{
 "cells": [
  {
   "cell_type": "markdown",
   "metadata": {},
   "source": [
    "# Libraries"
   ]
  },
  {
   "cell_type": "code",
   "execution_count": 1,
   "metadata": {},
   "outputs": [],
   "source": [
    "import numpy as np\n",
    "\n",
    "from pkg.constants    import *\n",
    "from pkg.evaluation   import Evaluation\n",
    "from pkg.utils        import *"
   ]
  },
  {
   "cell_type": "markdown",
   "metadata": {},
   "source": [
    "Dudas:\n",
    "- Pone que kmax = 4, pero luego dice que probamos con 5 entornos diferentes. 5 entornos o 4?\n",
    "- valor de bl_max?\n",
    "- s: tamaño de la sublista.\n",
    "- No entiendo el parrafo: El operador de generación de vecino hará uso de una Sublista Aleatoria de Tamaño Fijo, donde se redistribuyen entre los distintos elementos de la sublista elementos de otras estaciones de la misma. Esto se puede realizar mediante n intercambios estaciones en pares\n",
    "dentro de la sublista l ."
   ]
  },
  {
   "cell_type": "markdown",
   "metadata": {},
   "source": [
    "# VNS"
   ]
  },
  {
   "cell_type": "code",
   "execution_count": 2,
   "metadata": {},
   "outputs": [],
   "source": [
    "seeds = np.array([7054, 1354, 23503, 11268, 58283])\n",
    "ev    = Evaluation()\n",
    "\n",
    "granularity = 2 # calculada previamente"
   ]
  },
  {
   "cell_type": "code",
   "execution_count": 6,
   "metadata": {},
   "outputs": [
    {
     "name": "stdout",
     "output_type": "stream",
     "text": [
      "[15 20 15 10  5  8 20  5  5 18 18 18 18 23 13  8]\n",
      "indice: 0\n",
      "tamaño sublista: 16\n",
      "[ 8 10 18 15  8  5 23 18 20 18  5 15 18 20  5 13]\n"
     ]
    }
   ],
   "source": [
    "solution = generate_random_solution()\n",
    "k = 4\n",
    "\n",
    "print(solution)\n",
    "\n",
    "neighbor = neighbor_generation_operator(\n",
    "    solution = solution, \n",
    "    k        = k\n",
    ")\n",
    "\n",
    "print(neighbor)"
   ]
  },
  {
   "cell_type": "markdown",
   "metadata": {},
   "source": []
  }
 ],
 "metadata": {
  "interpreter": {
   "hash": "7d779d0e5915710bac6ba9c7b3edbd525c48ff05a7164abbc05df9554ec16650"
  },
  "kernelspec": {
   "display_name": "Python 3.9.7 ('datascience')",
   "language": "python",
   "name": "python3"
  },
  "language_info": {
   "codemirror_mode": {
    "name": "ipython",
    "version": 3
   },
   "file_extension": ".py",
   "mimetype": "text/x-python",
   "name": "python",
   "nbconvert_exporter": "python",
   "pygments_lexer": "ipython3",
   "version": "3.9.7"
  },
  "orig_nbformat": 4
 },
 "nbformat": 4,
 "nbformat_minor": 2
}
