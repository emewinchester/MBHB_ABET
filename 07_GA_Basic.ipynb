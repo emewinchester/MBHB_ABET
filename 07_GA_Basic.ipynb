{
 "cells": [
  {
   "cell_type": "markdown",
   "metadata": {},
   "source": [
    "# Libraries"
   ]
  },
  {
   "cell_type": "code",
   "execution_count": 1,
   "metadata": {},
   "outputs": [],
   "source": [
    "import numpy as np\n",
    "\n",
    "from pkg.constants    import *\n",
    "from pkg.evaluation   import Evaluation\n",
    "from pkg.utils        import *\n",
    "from pkg.algorithims  import local_search"
   ]
  },
  {
   "cell_type": "markdown",
   "metadata": {},
   "source": [
    "# Parámetros del Algoritmo genético Básico"
   ]
  },
  {
   "cell_type": "code",
   "execution_count": 2,
   "metadata": {},
   "outputs": [],
   "source": [
    "# Posibles tamaños de la poblacion. Debe ser un numero par.\n",
    "tam_poblacion = np.array([18,22,26,30])\n",
    "\n",
    "# Objeto evaluation. Permi\n",
    "ev = Evaluation()"
   ]
  },
  {
   "cell_type": "markdown",
   "metadata": {},
   "source": [
    "# Funciones necesarias"
   ]
  },
  {
   "cell_type": "markdown",
   "metadata": {},
   "source": [
    "## Generación población inicial"
   ]
  },
  {
   "cell_type": "markdown",
   "metadata": {},
   "source": [
    "En cada población añadimos 3 cromosomas conocidos con buenas heurísticas, calculados previamente con otros algoritmos (práctica 1)\n",
    "- [16 12 19 17 20 13 12 11 10 13 14 24  2  2 22 13] -> 375.7658566586277\n",
    "- [16 12 20 18 20 13 12 11  9 15 14 24  2 16  6 12] -> 378.2038511496476\n",
    "- [13 12 20 21 17 14 14  8 11  8 17 24  3 11 14 13] -> 381.8566495953962\n",
    "\n",
    "Estos cromosomas se han evaluado según la función coste (antigua), y no sobre la función fitness (nueva)."
   ]
  },
  {
   "cell_type": "code",
   "execution_count": 3,
   "metadata": {},
   "outputs": [],
   "source": [
    "conocido1 = np.array([16, 12, 19, 17, 20, 13, 12, 11, 10, 13, 14, 24,  2,  2, 22, 13])\n",
    "conocido2 = np.array([16, 12, 20, 18, 20, 13, 12, 11,  9, 15, 14, 24,  2, 16,  6, 12])\n",
    "conocido3 = np.array([13, 12, 20, 21, 17, 14, 14,  8, 11,  8, 17, 24,  3, 11, 14, 13])\n",
    "\n",
    "conocidos = np.array([conocido1, conocido2, conocido3])"
   ]
  },
  {
   "cell_type": "code",
   "execution_count": 4,
   "metadata": {},
   "outputs": [
    {
     "data": {
      "text/plain": [
       "array([[16, 12, 19, 17, 20, 13, 12, 11, 10, 13, 14, 24,  2,  2, 22, 13],\n",
       "       [16, 12, 20, 18, 20, 13, 12, 11,  9, 15, 14, 24,  2, 16,  6, 12],\n",
       "       [13, 12, 20, 21, 17, 14, 14,  8, 11,  8, 17, 24,  3, 11, 14, 13],\n",
       "       [15, 10, 15, 20, 21, 20, 18,  5,  8, 22,  8, 15, 12,  8, 15,  8],\n",
       "       [20, 11, 11,  9, 15, 15, 15, 13, 20,  4, 11,  9, 17, 13, 20, 17],\n",
       "       [19, 11, 11, 15, 19,  9, 11, 19, 13, 19, 19, 13, 17,  6,  6, 13],\n",
       "       [16, 19, 12, 12, 12, 16,  9, 16, 14,  9,  9, 14, 16, 14, 19, 12],\n",
       "       [15, 20, 17, 17,  5, 15, 12, 20, 15, 20, 15,  5, 10, 15,  7, 12],\n",
       "       [ 8, 21, 19,  5,  8, 24,  5, 19, 13, 19, 21, 11,  8,  5, 13, 19],\n",
       "       [18,  8, 20, 18, 20, 20, 10,  8, 10, 18, 10,  8, 12, 10, 10, 20],\n",
       "       [ 5, 18, 20, 21, 12, 10, 10, 10, 15,  8, 20,  5, 20, 18, 10, 18],\n",
       "       [12, 22, 15,  8, 15,  5, 20, 20, 12, 12,  5, 15, 18, 10, 12, 18],\n",
       "       [ 8, 21, 13, 16, 10,  5, 18,  8, 13, 10, 16, 21, 22, 21,  5, 13],\n",
       "       [12, 12, 16, 14,  7,  9, 16, 21, 21, 19, 12, 12,  7,  7, 16, 19],\n",
       "       [22, 20, 15, 12, 20, 17,  7, 17, 17,  5, 20,  5,  7, 10,  7, 17],\n",
       "       [19, 11, 16, 23,  5, 24, 16, 21, 11,  8, 16,  8,  5, 21,  8,  8],\n",
       "       [20, 19, 17, 12, 10, 17, 22, 19, 10, 15,  5, 10, 17,  5, 10, 12],\n",
       "       [19, 12,  7, 14,  9, 16,  7, 19,  7, 16, 16, 19, 19,  9, 21,  9]],\n",
       "      dtype=int64)"
      ]
     },
     "execution_count": 4,
     "metadata": {},
     "output_type": "execute_result"
    }
   ],
   "source": [
    "poblacion = inicializa_poblacion(tam_poblacion[0], conocidos)\n",
    "poblacion"
   ]
  },
  {
   "cell_type": "markdown",
   "metadata": {},
   "source": [
    "## Evalua poblacion"
   ]
  },
  {
   "cell_type": "code",
   "execution_count": 5,
   "metadata": {},
   "outputs": [
    {
     "data": {
      "text/plain": [
       "array([375.76585666, 378.20385115, 381.8566496 , 504.9347866 ,\n",
       "       549.55364054, 469.68239827, 519.21988462, 644.28157207,\n",
       "       605.98254333, 507.38292947, 600.59501724, 543.80068651,\n",
       "       516.69430218, 510.59656576, 600.91942227, 624.16376403,\n",
       "       580.94351454, 510.25276669])"
      ]
     },
     "execution_count": 5,
     "metadata": {},
     "output_type": "execute_result"
    }
   ],
   "source": [
    "evalua_poblacion(poblacion=poblacion, evaluation=ev)\n",
    "    "
   ]
  },
  {
   "cell_type": "markdown",
   "metadata": {},
   "source": []
  },
  {
   "cell_type": "markdown",
   "metadata": {},
   "source": [
    "# Algoritmo Genético Básico (Estacionario)"
   ]
  },
  {
   "cell_type": "markdown",
   "metadata": {},
   "source": [
    "Modelo estacionario: Durante cada iteración se crea una población completa con nuevos individuos, que reemplaza a la anterior."
   ]
  },
  {
   "cell_type": "markdown",
   "metadata": {},
   "source": [
    "# Algoritmo Genético Básico (Generacional)"
   ]
  },
  {
   "cell_type": "markdown",
   "metadata": {},
   "source": [
    "Durante cada iteración, se escogen 2 padres de la población y se les aplica los operadores genéticos.\n",
    "\n",
    "El/los descendientes reemplazan a uno/dos cromosoma/s de la población inicial.\n",
    "\n",
    "Presión selectiva alta (enfoque está muy dirigido a reproducir los mejores individuos y eliminar los peores de la población). Produce una convergencia rápida cuando se reemplazan los peores cromosomas de la población."
   ]
  },
  {
   "cell_type": "markdown",
   "metadata": {},
   "source": [
    "Élite de 5 individuos"
   ]
  },
  {
   "cell_type": "code",
   "execution_count": null,
   "metadata": {},
   "outputs": [],
   "source": [
    "# pseudo del algoritmo genetico\n",
    "t = 0\n",
    "poblacion    = poblacion # poblacion inicializada fuera\n",
    "evaluaciones = evaluar_poblacion()\n",
    "while condicion == True:\n",
    "    t += 1\n",
    "    padres = seleccionar_padres(P)\n",
    "    hijos = cruce(padres)\n",
    "    hijos_mutados, ev_hijos_mutados = mutacion(hijos)"
   ]
  }
 ],
 "metadata": {
  "interpreter": {
   "hash": "ec5498714c8a00cfa21adbf7af1c7a95b2ac142bd720b37f8f357108b338ab28"
  },
  "kernelspec": {
   "display_name": "Python 3.9.7 ('datascience')",
   "language": "python",
   "name": "python3"
  },
  "language_info": {
   "codemirror_mode": {
    "name": "ipython",
    "version": 3
   },
   "file_extension": ".py",
   "mimetype": "text/x-python",
   "name": "python",
   "nbconvert_exporter": "python",
   "pygments_lexer": "ipython3",
   "version": "3.9.7"
  },
  "orig_nbformat": 4
 },
 "nbformat": 4,
 "nbformat_minor": 2
}
