{
 "cells": [
  {
   "cell_type": "markdown",
   "metadata": {},
   "source": [
    "# Libraries"
   ]
  },
  {
   "cell_type": "code",
   "execution_count": 2,
   "metadata": {},
   "outputs": [],
   "source": [
    "import numpy as np\n",
    "\n",
    "from pkg.constants    import *\n",
    "from pkg.evaluation   import Evaluation\n",
    "from pkg.utils        import *\n",
    "from pkg.algorithims  import local_search"
   ]
  },
  {
   "cell_type": "markdown",
   "metadata": {},
   "source": [
    "# Generación población inicial"
   ]
  },
  {
   "cell_type": "markdown",
   "metadata": {},
   "source": [
    "Número par de individuos. Probamos con distintos tamaños: 18, 22, 26, 30."
   ]
  },
  {
   "cell_type": "code",
   "execution_count": 13,
   "metadata": {},
   "outputs": [],
   "source": [
    "tam_poblacion = np.array([18,22,26,30])"
   ]
  },
  {
   "cell_type": "markdown",
   "metadata": {},
   "source": [
    "En cada población añadimos 3 cromosomas conocidos con buenas heurísticas, calculados previamente con otros algoritmos (práctica 1)\n",
    "- [16 12 19 17 20 13 12 11 10 13 14 24  2  2 22 13] -> 375.7658566586277\n",
    "- [16 12 20 18 20 13 12 11  9 15 14 24  2 16  6 12] -> 378.2038511496476\n",
    "- [13 12 20 21 17 14 14  8 11  8 17 24  3 11 14 13] -> 381.8566495953962\n",
    "\n",
    "Estos cromosomas se han evaluado según la función coste (antigua), y no sobre la función fitness (nueva)."
   ]
  },
  {
   "cell_type": "code",
   "execution_count": 31,
   "metadata": {},
   "outputs": [],
   "source": [
    "conocido1 = np.array([16, 12, 19, 17, 20, 13, 12, 11, 10, 13, 14, 24,  2,  2, 22, 13])\n",
    "conocido2 = np.array([16, 12, 20, 18, 20, 13, 12, 11,  9, 15, 14, 24,  2, 16,  6, 12])\n",
    "conocido3 = np.array([13, 12, 20, 21, 17, 14, 14,  8, 11,  8, 17, 24,  3, 11, 14, 13])\n",
    "\n",
    "conocidos = np.array([conocido1, conocido2, conocido3])"
   ]
  },
  {
   "cell_type": "code",
   "execution_count": 35,
   "metadata": {},
   "outputs": [],
   "source": [
    "def inicializa_poblacion(tam, conocidos=None):\n",
    "\n",
    "    if conocidos is None:\n",
    "        cromosoma = generate_random_solution()\n",
    "        poblacion = np.array([cromosoma])\n",
    "    else:\n",
    "        poblacion = conocidos\n",
    "    \n",
    "\n",
    "    for i in range(tam_poblacion[1]- poblacion.shape[0]):\n",
    "        cromosoma = generate_random_solution()\n",
    "        poblacion = np.append(poblacion,[cromosoma],0)  \n",
    "    \n",
    "    return poblacion"
   ]
  },
  {
   "cell_type": "code",
   "execution_count": 38,
   "metadata": {},
   "outputs": [
    {
     "name": "stdout",
     "output_type": "stream",
     "text": [
      "[[16 12 19 17 20 13 12 11 10 13 14 24  2  2 22 13]\n",
      " [16 12 20 18 20 13 12 11  9 15 14 24  2 16  6 12]\n",
      " [13 12 20 21 17 14 14  8 11  8 17 24  3 11 14 13]\n",
      " [ 6 14  8 17 25  8 17 14 25 14 11 14 14  8 19  6]\n",
      " [12 12 17  5 12 17 15  5 17 15 12 22 12 10 20 15]\n",
      " [20 20  5 17  7 17  5 17  7 22  7 10  5 17 22 22]\n",
      " [ 9 24 25  9 12 24  6 12 12  6 27 15  6  6 12 15]\n",
      " [20 10 22 12 22 17 17 10 10  7 12 22 15  7  7 10]\n",
      " [ 5 16 16  9  9 12 14 12 16 21 21 12 12 12 19 14]\n",
      " [17 11 17  4  4 15 15 15  9 19 17 19 17 11 17 13]\n",
      " [12 10 20 15 17 12 15 12 17 17 17  7 12 10 10 15]\n",
      " [ 8 19 21  6  6 22  6  6  6 22 19 11 14 19 19 16]\n",
      " [15 15 20  5 10 15 15 17  7 20 17 10  5 22  7 20]\n",
      " [10 10 13 13 16 23 10 10 18  5  5 13 16 21 13 23]\n",
      " [15 18 19 10 20  5 13 18 10 20 20  5 13 13 13  8]\n",
      " [15  9 13  7 15 17 17 20 15  9 11 15 20 13 13 11]\n",
      " [ 9  9 14  9 20 12 17  6  6 14 23 26 17  6 12 20]\n",
      " [ 5  7 14 20  9 16 12 19 19  5 19  9 19 21  7 19]\n",
      " [17 15 19  5 10 10 20 17 15 10 15  5 20  7 20 15]\n",
      " [20 17 17 17 14  6  6  6 23  8 23  6 23  8 20  6]\n",
      " [17  5  5 17 14 14 19 17 17  7 17 19 10  7 14 21]\n",
      " [25 21 18 15  6  6 24  6 12  9 12 12 27  6 12  9]]\n",
      "[16 12 19 17 20 13 12 11 10 13 14 24  2  2 22 13] total slots: 220\n",
      "[16 12 20 18 20 13 12 11  9 15 14 24  2 16  6 12] total slots: 220\n",
      "[13 12 20 21 17 14 14  8 11  8 17 24  3 11 14 13] total slots: 220\n",
      "[ 6 14  8 17 25  8 17 14 25 14 11 14 14  8 19  6] total slots: 220\n",
      "[12 12 17  5 12 17 15  5 17 15 12 22 12 10 20 15] total slots: 218\n",
      "[20 20  5 17  7 17  5 17  7 22  7 10  5 17 22 22] total slots: 220\n",
      "[ 9 24 25  9 12 24  6 12 12  6 27 15  6  6 12 15] total slots: 220\n",
      "[20 10 22 12 22 17 17 10 10  7 12 22 15  7  7 10] total slots: 220\n",
      "[ 5 16 16  9  9 12 14 12 16 21 21 12 12 12 19 14] total slots: 220\n",
      "[17 11 17  4  4 15 15 15  9 19 17 19 17 11 17 13] total slots: 220\n",
      "[12 10 20 15 17 12 15 12 17 17 17  7 12 10 10 15] total slots: 218\n",
      "[ 8 19 21  6  6 22  6  6  6 22 19 11 14 19 19 16] total slots: 220\n",
      "[15 15 20  5 10 15 15 17  7 20 17 10  5 22  7 20] total slots: 220\n",
      "[10 10 13 13 16 23 10 10 18  5  5 13 16 21 13 23] total slots: 219\n",
      "[15 18 19 10 20  5 13 18 10 20 20  5 13 13 13  8] total slots: 220\n",
      "[15  9 13  7 15 17 17 20 15  9 11 15 20 13 13 11] total slots: 220\n",
      "[ 9  9 14  9 20 12 17  6  6 14 23 26 17  6 12 20] total slots: 220\n",
      "[ 5  7 14 20  9 16 12 19 19  5 19  9 19 21  7 19] total slots: 220\n",
      "[17 15 19  5 10 10 20 17 15 10 15  5 20  7 20 15] total slots: 220\n",
      "[20 17 17 17 14  6  6  6 23  8 23  6 23  8 20  6] total slots: 220\n",
      "[17  5  5 17 14 14 19 17 17  7 17 19 10  7 14 21] total slots: 220\n",
      "[25 21 18 15  6  6 24  6 12  9 12 12 27  6 12  9] total slots: 220\n"
     ]
    }
   ],
   "source": [
    "poblacion = inicializa_poblacion(tam_poblacion<[0], conocidos)\n",
    "print(poblacion)\n",
    "\n",
    "for i in range(poblacion.shape[0]):\n",
    "    c = poblacion[i,:]\n",
    "    print(f'{c} total slots: {sum(c)}')"
   ]
  },
  {
   "cell_type": "code",
   "execution_count": 29,
   "metadata": {},
   "outputs": [
    {
     "name": "stdout",
     "output_type": "stream",
     "text": [
      "[[16 12 19 17 20 13 12 11 10 13 14 24  2  2 22 13]\n",
      " [16 12 20 18 20 13 12 11  9 15 14 24  2 16  6 12]\n",
      " [13 12 20 21 17 14 14  8 11  8 17 24  3 11 14 13]\n",
      " [20 13 13  9 16 13 20 18  9  9 20 20 11  7 18  4]\n",
      " [ 9 19  7 20  9 20  9 18 18  4  7 16 13 13 18 20]\n",
      " [ 5 23  8  8  8  8  8 13 24 24 21 13 19 11 16 11]\n",
      " [ 9  7 18 18 18 20 18  4 13 20 13 11 16 11 13 11]\n",
      " [11 13 11  7 18 13 13 20 20 20 15 11 13 15 15  4]\n",
      " [20  7 18  7  7 18 18 16 16 21 14  5 18 14 16  5]\n",
      " [ 5  8 20 18 22 18 12 22 20  5 12  5  5 22  8 18]\n",
      " [19 17 11  7 11 13 15  9 20 11  9  7 17 17 20 17]\n",
      " [ 7  5 20 17 19 19 21  7  5 21 12  5 17 19  7 19]\n",
      " [16  8  8  5 24  5 18 21 18 10 16  5  8 21 13 24]\n",
      " [13 18 22  5 20  5 18  8 10  5  8 20 15 10 23 20]\n",
      " [20 12 10 15 20 12 22 15 10 15  8  5 10 15 12 18]\n",
      " [ 4 17 11 20  9 17 15 13  4 20 15 17  4 13 20 20]\n",
      " [18 18 16 14 11 18 21  7 21 11  5  7 21 11  5 16]\n",
      " [ 9  9 23 18 12  9 12 15 12 23 15 12  9 12  9 21]\n",
      " [ 4 10 14 16 18 18 16 12 18 16 18  4  8 18 16 12]\n",
      " [ 7 10 20 20 10 20 15 17 15 20  7  7  7 22  7 15]\n",
      " [18 16  9 18 11  7 18 11  4 20  7 20 18  7 20 16]\n",
      " [15 15 13 17 15 19 13  4 15 17 13  6 13 19 13 13]]\n",
      "220\n",
      "220\n",
      "220\n",
      "220\n",
      "220\n",
      "220\n",
      "220\n",
      "219\n",
      "220\n",
      "220\n",
      "220\n",
      "220\n",
      "220\n",
      "220\n",
      "219\n",
      "219\n",
      "220\n",
      "220\n",
      "218\n",
      "219\n",
      "220\n",
      "220\n"
     ]
    },
    {
     "data": {
      "text/plain": [
       "(22, 16)"
      ]
     },
     "execution_count": 29,
     "metadata": {},
     "output_type": "execute_result"
    }
   ],
   "source": [
    "\n",
    "# print(poblacion)\n",
    "\n",
    "# numero de cromosomas conocidos\n",
    "poblacion.shape[0] \n",
    "\n",
    "\n",
    "for i in range(tam_poblacion[1]- poblacion.shape[0]):\n",
    "    cromosoma = generate_random_solution()\n",
    "    poblacion = np.append(poblacion,[cromosoma],0)\n",
    "\n",
    "print(poblacion)\n",
    "\n",
    "for i in range(poblacion.shape[0]):\n",
    "    cromosoma = poblacion[i,:]\n",
    "    print(sum(cromosoma))\n",
    "\n",
    "poblacion.shape\n"
   ]
  },
  {
   "cell_type": "code",
   "execution_count": 30,
   "metadata": {},
   "outputs": [
    {
     "ename": "ValueError",
     "evalue": "all the input arrays must have same number of dimensions, but the array at index 0 has 1 dimension(s) and the array at index 1 has 2 dimension(s)",
     "output_type": "error",
     "traceback": [
      "\u001b[1;31m---------------------------------------------------------------------------\u001b[0m",
      "\u001b[1;31mValueError\u001b[0m                                Traceback (most recent call last)",
      "\u001b[1;32mc:\\Users\\Marina\\Desktop\\MBHBp\\MBHB_ABET\\07_GA_Basic.ipynb Cell 9'\u001b[0m in \u001b[0;36m<cell line: 3>\u001b[1;34m()\u001b[0m\n\u001b[0;32m      <a href='vscode-notebook-cell:/c%3A/Users/Marina/Desktop/MBHBp/MBHB_ABET/07_GA_Basic.ipynb#ch0000022?line=0'>1</a>\u001b[0m poblacion \u001b[39m=\u001b[39m np\u001b[39m.\u001b[39marray([])\n\u001b[0;32m      <a href='vscode-notebook-cell:/c%3A/Users/Marina/Desktop/MBHBp/MBHB_ABET/07_GA_Basic.ipynb#ch0000022?line=1'>2</a>\u001b[0m poblacion\u001b[39m.\u001b[39mshape\n\u001b[1;32m----> <a href='vscode-notebook-cell:/c%3A/Users/Marina/Desktop/MBHBp/MBHB_ABET/07_GA_Basic.ipynb#ch0000022?line=2'>3</a>\u001b[0m poblacion \u001b[39m=\u001b[39m np\u001b[39m.\u001b[39;49mappend(poblacion,[conocido1],\u001b[39m0\u001b[39;49m)\n",
      "File \u001b[1;32m<__array_function__ internals>:5\u001b[0m, in \u001b[0;36mappend\u001b[1;34m(*args, **kwargs)\u001b[0m\n",
      "File \u001b[1;32mc:\\Users\\Marina\\anaconda3\\envs\\datascience\\lib\\site-packages\\numpy\\lib\\function_base.py:4817\u001b[0m, in \u001b[0;36mappend\u001b[1;34m(arr, values, axis)\u001b[0m\n\u001b[0;32m   <a href='file:///c%3A/Users/Marina/anaconda3/envs/datascience/lib/site-packages/numpy/lib/function_base.py?line=4814'>4815</a>\u001b[0m     values \u001b[39m=\u001b[39m ravel(values)\n\u001b[0;32m   <a href='file:///c%3A/Users/Marina/anaconda3/envs/datascience/lib/site-packages/numpy/lib/function_base.py?line=4815'>4816</a>\u001b[0m     axis \u001b[39m=\u001b[39m arr\u001b[39m.\u001b[39mndim\u001b[39m-\u001b[39m\u001b[39m1\u001b[39m\n\u001b[1;32m-> <a href='file:///c%3A/Users/Marina/anaconda3/envs/datascience/lib/site-packages/numpy/lib/function_base.py?line=4816'>4817</a>\u001b[0m \u001b[39mreturn\u001b[39;00m concatenate((arr, values), axis\u001b[39m=\u001b[39;49maxis)\n",
      "File \u001b[1;32m<__array_function__ internals>:5\u001b[0m, in \u001b[0;36mconcatenate\u001b[1;34m(*args, **kwargs)\u001b[0m\n",
      "\u001b[1;31mValueError\u001b[0m: all the input arrays must have same number of dimensions, but the array at index 0 has 1 dimension(s) and the array at index 1 has 2 dimension(s)"
     ]
    }
   ],
   "source": [
    "poblacion = np.array([])\n",
    "poblacion.shape\n",
    "poblacion = np.append(poblacion,[conocido1],0)"
   ]
  },
  {
   "cell_type": "markdown",
   "metadata": {},
   "source": [
    "# Funciones necesarias"
   ]
  },
  {
   "cell_type": "markdown",
   "metadata": {},
   "source": [
    "Partimos de una población inicial aleatoria a la que incorporamos 3 cromosomas conocidos, que bajo la función de coste de la práctica 1, presentaban buenas caracteristicas."
   ]
  },
  {
   "cell_type": "markdown",
   "metadata": {},
   "source": []
  },
  {
   "cell_type": "markdown",
   "metadata": {},
   "source": []
  },
  {
   "cell_type": "markdown",
   "metadata": {},
   "source": [
    "# Algoritmo Genético Básico (Estacionario)"
   ]
  },
  {
   "cell_type": "markdown",
   "metadata": {},
   "source": [
    "Modelo estacionario: Durante cada iteración se crea una población completa con nuevos individuos, que reemplaza a la anterior."
   ]
  },
  {
   "cell_type": "markdown",
   "metadata": {},
   "source": [
    "# Algoritmo Genético Básico (Generacional)"
   ]
  },
  {
   "cell_type": "markdown",
   "metadata": {},
   "source": [
    "Durante cada iteración, se escogen 2 padres de la población y se les aplica los operadores genéticos.\n",
    "\n",
    "El/los descendientes reemplazan a uno/dos cromosoma/s de la población inicial.\n",
    "\n",
    "Presión selectiva alta (enfoque está muy dirigido a reproducir los mejores individuos y eliminar los peores de la población). Produce una convergencia rápida cuando se reemplazan los peores cromosomas de la población."
   ]
  },
  {
   "cell_type": "markdown",
   "metadata": {},
   "source": [
    "Élite de 5 individuos"
   ]
  },
  {
   "cell_type": "code",
   "execution_count": null,
   "metadata": {},
   "outputs": [],
   "source": [
    "# pseudo del algoritmo genetico\n",
    "t = 0\n",
    "poblacion    = inicializa_poblacion(tama, conocidos)\n",
    "evaluaciones = evaluar_poblacion()\n",
    "while condicion == True:\n",
    "    t += 1\n",
    "    padres = seleccionar_padres(P)\n",
    "    hijos = cruce(padres)\n",
    "    hijos_mutados, ev_hijos_mutados = mutacion(hijos)"
   ]
  }
 ],
 "metadata": {
  "interpreter": {
   "hash": "ec5498714c8a00cfa21adbf7af1c7a95b2ac142bd720b37f8f357108b338ab28"
  },
  "kernelspec": {
   "display_name": "Python 3.9.7 ('datascience')",
   "language": "python",
   "name": "python3"
  },
  "language_info": {
   "codemirror_mode": {
    "name": "ipython",
    "version": 3
   },
   "file_extension": ".py",
   "mimetype": "text/x-python",
   "name": "python",
   "nbconvert_exporter": "python",
   "pygments_lexer": "ipython3",
   "version": "3.9.7"
  },
  "orig_nbformat": 4
 },
 "nbformat": 4,
 "nbformat_minor": 2
}
