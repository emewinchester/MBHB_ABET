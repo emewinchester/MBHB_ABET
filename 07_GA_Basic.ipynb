{
 "cells": [
  {
   "cell_type": "markdown",
   "metadata": {},
   "source": [
    "# Libraries"
   ]
  },
  {
   "cell_type": "code",
   "execution_count": 1,
   "metadata": {},
   "outputs": [],
   "source": [
    "import numpy as np\n",
    "\n",
    "from pkg.constants    import *\n",
    "from pkg.evaluation   import Evaluation\n",
    "from pkg.utils        import *\n",
    "from pkg.algorithims  import local_search"
   ]
  },
  {
   "cell_type": "markdown",
   "metadata": {},
   "source": [
    "# Generación población inicial"
   ]
  },
  {
   "cell_type": "markdown",
   "metadata": {},
   "source": [
    "Número par de individuos. Probamos con distintos tamaños: 18, 22, 26, 30."
   ]
  },
  {
   "cell_type": "code",
   "execution_count": 6,
   "metadata": {},
   "outputs": [],
   "source": [
    "tam_poblacion = np.array([18,22,26,30])"
   ]
  },
  {
   "cell_type": "markdown",
   "metadata": {},
   "source": [
    "En cada población añadimos varias posibles soluciones con buenas heurísticas, calculadas previamente con otros algoritmos.\n",
    "- [16 12 19 17 20 13 12 11 10 13 14 24  2  2 22 13] -> 375.7658566586277\n",
    "- [16 12 20 18 20 13 12 11  9 15 14 24  2 16  6 12] -> 378.2038511496476\n",
    "- [13 12 20 21 17 14 14  8 11  8 17 24  3 11 14 13] -> 381.8566495953962\n",
    "\n",
    "Estas posibles soluciones se han evaluado según la función coste (antigua), y no sobre la función fitness (nueva)."
   ]
  },
  {
   "cell_type": "markdown",
   "metadata": {},
   "source": []
  },
  {
   "cell_type": "markdown",
   "metadata": {},
   "source": [
    "# Algoritmo Genético Básico (Estacionario)"
   ]
  },
  {
   "cell_type": "markdown",
   "metadata": {},
   "source": [
    "Modelo estacionario: Durante cada iteración se crea una población completa con nuevos individuos, que reemplaza a la anterior."
   ]
  },
  {
   "cell_type": "markdown",
   "metadata": {},
   "source": [
    "# Algoritmo Genétido Básico (Generacional)"
   ]
  },
  {
   "cell_type": "markdown",
   "metadata": {},
   "source": [
    "Durante cada iteración, se escogen 2 padres de la población y se les aplica los operadores genéticos.\n",
    "\n",
    "El/los descendientes reemplazan a uno/dos cromosoma/s de la población inicial.\n",
    "\n",
    "Presión selectiva alta (enfoque está muy dirigido a reproducir los mejores individuos y eliminar los peores de la población). Produce una convergencia rápida cuando se reemplazan los peores cromosomas de la población."
   ]
  },
  {
   "cell_type": "markdown",
   "metadata": {},
   "source": [
    "Élite de 5 individuos"
   ]
  }
 ],
 "metadata": {
  "interpreter": {
   "hash": "ec5498714c8a00cfa21adbf7af1c7a95b2ac142bd720b37f8f357108b338ab28"
  },
  "kernelspec": {
   "display_name": "Python 3.9.7 ('datascience')",
   "language": "python",
   "name": "python3"
  },
  "language_info": {
   "codemirror_mode": {
    "name": "ipython",
    "version": 3
   },
   "file_extension": ".py",
   "mimetype": "text/x-python",
   "name": "python",
   "nbconvert_exporter": "python",
   "pygments_lexer": "ipython3",
   "version": "3.9.7"
  },
  "orig_nbformat": 4
 },
 "nbformat": 4,
 "nbformat_minor": 2
}
