{
 "cells": [
  {
   "cell_type": "markdown",
   "metadata": {},
   "source": [
    "# Libraries"
   ]
  },
  {
   "cell_type": "code",
   "execution_count": 4,
   "metadata": {},
   "outputs": [],
   "source": [
    "import numpy as np\n",
    "\n",
    "from pkg.constants    import *\n",
    "from pkg.evaluation   import Evaluation\n",
    "from pkg.algorithims  import *\n",
    "\n",
    "from time import time"
   ]
  },
  {
   "cell_type": "markdown",
   "metadata": {},
   "source": [
    "# Busqueda Local"
   ]
  },
  {
   "cell_type": "markdown",
   "metadata": {},
   "source": [
    "Primer mejor vecino"
   ]
  },
  {
   "cell_type": "code",
   "execution_count": 5,
   "metadata": {},
   "outputs": [],
   "source": [
    "seeds = np.array([7054, 1354, 23503, 11268, 58283])\n",
    "ev = Evaluation()"
   ]
  },
  {
   "cell_type": "markdown",
   "metadata": {},
   "source": [
    "## Estudio de la granularidad"
   ]
  },
  {
   "cell_type": "markdown",
   "metadata": {},
   "source": [
    "Previamente estudiada en la práctica anterior."
   ]
  },
  {
   "cell_type": "code",
   "execution_count": 6,
   "metadata": {},
   "outputs": [],
   "source": [
    "granularidad = 2"
   ]
  },
  {
   "cell_type": "markdown",
   "metadata": {},
   "source": [
    "## Experimentación"
   ]
  },
  {
   "cell_type": "code",
   "execution_count": 7,
   "metadata": {},
   "outputs": [
    {
     "name": "stdout",
     "output_type": "stream",
     "text": [
      "[16 12 19 17 20 13 12 11 10 13 14 24  2  2 22 13]\n",
      "375.7658566586277\n",
      "[16 12 20 18 20 13 12 11  9 15 14 24  2 16  6 12]\n",
      "378.2038511496476\n",
      "[12  8 20 14 20 12 13 12 10 12 13 24  4 12 19 13]\n",
      "398.7077088119181\n",
      "[13 12 20 21 17 14 14  8 11  8 17 24  3 11 14 13]\n",
      "381.8566495953962\n",
      "[16 10 18 14 20 14 12 12 12 14 10 24  2 12 14 12]\n",
      "409.6756059650655\n"
     ]
    }
   ],
   "source": [
    "costs       = np.array([])\n",
    "evaluations = np.array([])\n",
    "slots       = np.array([])\n",
    "\n",
    "for s in seeds:\n",
    "\n",
    "    # set evauation calls counter to 0\n",
    "    ev.total_calls = 0\n",
    "\n",
    "    np.random.seed(s)\n",
    "\n",
    "    solution, cost = local_search(\n",
    "        granularity = granularidad,\n",
    "        evaluation  = ev,\n",
    "        # path = './01_stats/local_search_' + str(s) + '.xlsx'\n",
    "    )\n",
    "\n",
    "    print(solution)\n",
    "    print(cost)\n",
    "    \n",
    "    costs       = np.append(costs, cost)\n",
    "    evaluations = np.append(evaluations, ev.total_calls)\n",
    "    slots       = np.append(slots, solution.sum())\n",
    "\n",
    "\n",
    "df = pd.DataFrame({\n",
    "    \"ev_medias\"    : [evaluations.mean()],\n",
    "    \"ev_mejor\"     : [evaluations.min()],\n",
    "    \"ev_std\"       : [evaluations.std()],\n",
    "    \"coste_medio\"  : [costs.mean()],\n",
    "    \"coste_mejor\"  : [costs.min()],\n",
    "    \"coste_std\"    : [costs.std()],\n",
    "    \"slots_medio\"  : [slots.mean()],\n",
    "    \"slots_min\"    : [slots.min()],\n",
    "    \"slots_std\"    : [slots.std()]\n",
    "})\n",
    "\n",
    "df_2 = pd.DataFrame({\n",
    "    'Ejecución'    : [1,2,3,4,5],\n",
    "    \"Coste mejor\"  : costs,\n",
    "    \"Evaluaciones\" : evaluations,\n",
    "    \"slots\"        : slots\n",
    "})"
   ]
  },
  {
   "cell_type": "code",
   "execution_count": 8,
   "metadata": {},
   "outputs": [
    {
     "data": {
      "text/html": [
       "<div>\n",
       "<style scoped>\n",
       "    .dataframe tbody tr th:only-of-type {\n",
       "        vertical-align: middle;\n",
       "    }\n",
       "\n",
       "    .dataframe tbody tr th {\n",
       "        vertical-align: top;\n",
       "    }\n",
       "\n",
       "    .dataframe thead th {\n",
       "        text-align: right;\n",
       "    }\n",
       "</style>\n",
       "<table border=\"1\" class=\"dataframe\">\n",
       "  <thead>\n",
       "    <tr style=\"text-align: right;\">\n",
       "      <th></th>\n",
       "      <th>ev_medias</th>\n",
       "      <th>ev_mejor</th>\n",
       "      <th>ev_std</th>\n",
       "      <th>coste_medio</th>\n",
       "      <th>coste_mejor</th>\n",
       "      <th>coste_std</th>\n",
       "      <th>slots_medio</th>\n",
       "      <th>slots_min</th>\n",
       "      <th>slots_std</th>\n",
       "    </tr>\n",
       "  </thead>\n",
       "  <tbody>\n",
       "    <tr>\n",
       "      <th>0</th>\n",
       "      <td>892.6</td>\n",
       "      <td>507.0</td>\n",
       "      <td>227.19912</td>\n",
       "      <td>388.841934</td>\n",
       "      <td>375.765857</td>\n",
       "      <td>13.147792</td>\n",
       "      <td>218.8</td>\n",
       "      <td>216.0</td>\n",
       "      <td>1.6</td>\n",
       "    </tr>\n",
       "  </tbody>\n",
       "</table>\n",
       "</div>"
      ],
      "text/plain": [
       "   ev_medias  ev_mejor     ev_std  coste_medio  coste_mejor  coste_std  \\\n",
       "0      892.6     507.0  227.19912   388.841934   375.765857  13.147792   \n",
       "\n",
       "   slots_medio  slots_min  slots_std  \n",
       "0        218.8      216.0        1.6  "
      ]
     },
     "execution_count": 8,
     "metadata": {},
     "output_type": "execute_result"
    }
   ],
   "source": [
    "df"
   ]
  },
  {
   "cell_type": "code",
   "execution_count": 9,
   "metadata": {},
   "outputs": [
    {
     "data": {
      "text/html": [
       "<div>\n",
       "<style scoped>\n",
       "    .dataframe tbody tr th:only-of-type {\n",
       "        vertical-align: middle;\n",
       "    }\n",
       "\n",
       "    .dataframe tbody tr th {\n",
       "        vertical-align: top;\n",
       "    }\n",
       "\n",
       "    .dataframe thead th {\n",
       "        text-align: right;\n",
       "    }\n",
       "</style>\n",
       "<table border=\"1\" class=\"dataframe\">\n",
       "  <thead>\n",
       "    <tr style=\"text-align: right;\">\n",
       "      <th></th>\n",
       "      <th>Ejecución</th>\n",
       "      <th>Coste mejor</th>\n",
       "      <th>Evaluaciones</th>\n",
       "      <th>slots</th>\n",
       "    </tr>\n",
       "  </thead>\n",
       "  <tbody>\n",
       "    <tr>\n",
       "      <th>0</th>\n",
       "      <td>1</td>\n",
       "      <td>375.765857</td>\n",
       "      <td>991.0</td>\n",
       "      <td>220.0</td>\n",
       "    </tr>\n",
       "    <tr>\n",
       "      <th>1</th>\n",
       "      <td>2</td>\n",
       "      <td>378.203851</td>\n",
       "      <td>1176.0</td>\n",
       "      <td>220.0</td>\n",
       "    </tr>\n",
       "    <tr>\n",
       "      <th>2</th>\n",
       "      <td>3</td>\n",
       "      <td>398.707709</td>\n",
       "      <td>993.0</td>\n",
       "      <td>218.0</td>\n",
       "    </tr>\n",
       "    <tr>\n",
       "      <th>3</th>\n",
       "      <td>4</td>\n",
       "      <td>381.856650</td>\n",
       "      <td>507.0</td>\n",
       "      <td>220.0</td>\n",
       "    </tr>\n",
       "    <tr>\n",
       "      <th>4</th>\n",
       "      <td>5</td>\n",
       "      <td>409.675606</td>\n",
       "      <td>796.0</td>\n",
       "      <td>216.0</td>\n",
       "    </tr>\n",
       "  </tbody>\n",
       "</table>\n",
       "</div>"
      ],
      "text/plain": [
       "   Ejecución  Coste mejor  Evaluaciones  slots\n",
       "0          1   375.765857         991.0  220.0\n",
       "1          2   378.203851        1176.0  220.0\n",
       "2          3   398.707709         993.0  218.0\n",
       "3          4   381.856650         507.0  220.0\n",
       "4          5   409.675606         796.0  216.0"
      ]
     },
     "execution_count": 9,
     "metadata": {},
     "output_type": "execute_result"
    }
   ],
   "source": [
    "df_2"
   ]
  },
  {
   "cell_type": "code",
   "execution_count": 10,
   "metadata": {},
   "outputs": [],
   "source": [
    "df.to_excel('./01_stats_p2/bl_ejecuciones.xlsx')\n",
    "df_2.to_excel('./01_stats_p2/bl_stats.xlsx')"
   ]
  }
 ],
 "metadata": {
  "interpreter": {
   "hash": "ec5498714c8a00cfa21adbf7af1c7a95b2ac142bd720b37f8f357108b338ab28"
  },
  "kernelspec": {
   "display_name": "Python 3.9.7 ('datascience')",
   "language": "python",
   "name": "python3"
  },
  "language_info": {
   "codemirror_mode": {
    "name": "ipython",
    "version": 3
   },
   "file_extension": ".py",
   "mimetype": "text/x-python",
   "name": "python",
   "nbconvert_exporter": "python",
   "pygments_lexer": "ipython3",
   "version": "3.9.7"
  },
  "orig_nbformat": 4
 },
 "nbformat": 4,
 "nbformat_minor": 2
}
