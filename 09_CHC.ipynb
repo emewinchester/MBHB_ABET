{
 "cells": [
  {
   "cell_type": "markdown",
   "metadata": {},
   "source": [
    "# Libraries"
   ]
  },
  {
   "cell_type": "code",
   "execution_count": 1,
   "metadata": {},
   "outputs": [],
   "source": [
    "import numpy  as np\n",
    "import pandas as pd\n",
    "import matplotlib.pyplot as plt\n",
    "\n",
    "\n",
    "from pkg.constants    import *\n",
    "from pkg.evaluation   import Evaluation\n",
    "from pkg.utils        import *"
   ]
  },
  {
   "cell_type": "markdown",
   "metadata": {},
   "source": [
    "# Objeto evaluacion"
   ]
  },
  {
   "cell_type": "code",
   "execution_count": 2,
   "metadata": {},
   "outputs": [],
   "source": [
    "ev = Evaluation()"
   ]
  },
  {
   "cell_type": "markdown",
   "metadata": {},
   "source": [
    "# Funciones necesarias"
   ]
  },
  {
   "cell_type": "markdown",
   "metadata": {},
   "source": [
    "## Distancia de Hamming"
   ]
  },
  {
   "cell_type": "markdown",
   "metadata": {},
   "source": [
    "Calcula la cantidad de genes que se diferencian entre 2 cromosomas, es decir, cuántas posiciones tienen alelos distintos."
   ]
  },
  {
   "cell_type": "code",
   "execution_count": 5,
   "metadata": {},
   "outputs": [],
   "source": [
    "padre1 = np.array([1,2,2,5,6,4,7,7,9])\n",
    "padre2 = np.array([1,2,3,4,3,6,7,8,9])"
   ]
  },
  {
   "cell_type": "code",
   "execution_count": 6,
   "metadata": {},
   "outputs": [
    {
     "data": {
      "text/plain": [
       "5"
      ]
     },
     "execution_count": 6,
     "metadata": {},
     "output_type": "execute_result"
    }
   ],
   "source": [
    "distancia_hamming(padre1,padre2)"
   ]
  },
  {
   "cell_type": "markdown",
   "metadata": {},
   "source": [
    "## Operador de cruce"
   ]
  },
  {
   "cell_type": "markdown",
   "metadata": {},
   "source": [
    "Los cruces en CHC se hacen cambiando exactamente la mitad de los elementos que son distintos en ambos padres y luego se aplica Parent Centered o BLX-Alpha"
   ]
  },
  {
   "cell_type": "markdown",
   "metadata": {},
   "source": [
    "### Cruce Parent Centered"
   ]
  },
  {
   "cell_type": "markdown",
   "metadata": {},
   "source": [
    "Mutación gaussiana del valor intercambiado."
   ]
  },
  {
   "cell_type": "markdown",
   "metadata": {},
   "source": [
    "### Cruce BLX-Alfa"
   ]
  },
  {
   "cell_type": "markdown",
   "metadata": {},
   "source": [
    "# Experimentación"
   ]
  },
  {
   "cell_type": "code",
   "execution_count": 15,
   "metadata": {},
   "outputs": [
    {
     "ename": "ValueError",
     "evalue": "all the input array dimensions for the concatenation axis must match exactly, but along dimension 1, the array at index 0 has size 0 and the array at index 1 has size 9",
     "output_type": "error",
     "traceback": [
      "\u001b[1;31m---------------------------------------------------------------------------\u001b[0m",
      "\u001b[1;31mValueError\u001b[0m                                Traceback (most recent call last)",
      "\u001b[1;32mc:\\Users\\Marina\\Desktop\\MBHBp\\MBHB_ABET\\09_CHC.ipynb Cell 16'\u001b[0m in \u001b[0;36m<cell line: 6>\u001b[1;34m()\u001b[0m\n\u001b[0;32m      <a href='vscode-notebook-cell:/c%3A/Users/Marina/Desktop/MBHBp/MBHB_ABET/09_CHC.ipynb#ch0000029?line=1'>2</a>\u001b[0m padre2 \u001b[39m=\u001b[39m np\u001b[39m.\u001b[39marray([\u001b[39m1\u001b[39m,\u001b[39m2\u001b[39m,\u001b[39m3\u001b[39m,\u001b[39m4\u001b[39m,\u001b[39m3\u001b[39m,\u001b[39m6\u001b[39m,\u001b[39m7\u001b[39m,\u001b[39m8\u001b[39m,\u001b[39m9\u001b[39m])\n\u001b[0;32m      <a href='vscode-notebook-cell:/c%3A/Users/Marina/Desktop/MBHBp/MBHB_ABET/09_CHC.ipynb#ch0000029?line=3'>4</a>\u001b[0m hijos \u001b[39m=\u001b[39m np\u001b[39m.\u001b[39marray([[]])\n\u001b[1;32m----> <a href='vscode-notebook-cell:/c%3A/Users/Marina/Desktop/MBHBp/MBHB_ABET/09_CHC.ipynb#ch0000029?line=5'>6</a>\u001b[0m hijos \u001b[39m=\u001b[39m np\u001b[39m.\u001b[39;49mappend(hijos, [padre1], \u001b[39m0\u001b[39;49m)\n\u001b[0;32m      <a href='vscode-notebook-cell:/c%3A/Users/Marina/Desktop/MBHBp/MBHB_ABET/09_CHC.ipynb#ch0000029?line=6'>7</a>\u001b[0m hijos \u001b[39m=\u001b[39m np\u001b[39m.\u001b[39mappend(hijos, padre2)\n\u001b[0;32m      <a href='vscode-notebook-cell:/c%3A/Users/Marina/Desktop/MBHBp/MBHB_ABET/09_CHC.ipynb#ch0000029?line=7'>8</a>\u001b[0m hijos\n",
      "File \u001b[1;32m<__array_function__ internals>:5\u001b[0m, in \u001b[0;36mappend\u001b[1;34m(*args, **kwargs)\u001b[0m\n",
      "File \u001b[1;32mc:\\Users\\Marina\\anaconda3\\envs\\datascience\\lib\\site-packages\\numpy\\lib\\function_base.py:4817\u001b[0m, in \u001b[0;36mappend\u001b[1;34m(arr, values, axis)\u001b[0m\n\u001b[0;32m   <a href='file:///c%3A/Users/Marina/anaconda3/envs/datascience/lib/site-packages/numpy/lib/function_base.py?line=4814'>4815</a>\u001b[0m     values \u001b[39m=\u001b[39m ravel(values)\n\u001b[0;32m   <a href='file:///c%3A/Users/Marina/anaconda3/envs/datascience/lib/site-packages/numpy/lib/function_base.py?line=4815'>4816</a>\u001b[0m     axis \u001b[39m=\u001b[39m arr\u001b[39m.\u001b[39mndim\u001b[39m-\u001b[39m\u001b[39m1\u001b[39m\n\u001b[1;32m-> <a href='file:///c%3A/Users/Marina/anaconda3/envs/datascience/lib/site-packages/numpy/lib/function_base.py?line=4816'>4817</a>\u001b[0m \u001b[39mreturn\u001b[39;00m concatenate((arr, values), axis\u001b[39m=\u001b[39;49maxis)\n",
      "File \u001b[1;32m<__array_function__ internals>:5\u001b[0m, in \u001b[0;36mconcatenate\u001b[1;34m(*args, **kwargs)\u001b[0m\n",
      "\u001b[1;31mValueError\u001b[0m: all the input array dimensions for the concatenation axis must match exactly, but along dimension 1, the array at index 0 has size 0 and the array at index 1 has size 9"
     ]
    }
   ],
   "source": [
    "padre1 = np.array([1,2,2,5,6,4,7,7,9])\n",
    "padre2 = np.array([1,2,3,4,3,6,7,8,9])\n",
    "\n",
    "hijos = np.array([[]])\n",
    "\n",
    "hijos = np.append(hijos, [padre1], 0)\n",
    "hijos = np.append(hijos, padre2)\n",
    "hijos"
   ]
  },
  {
   "cell_type": "code",
   "execution_count": null,
   "metadata": {},
   "outputs": [],
   "source": [
    "def recombinar(poblacion, umbral):\n",
    "\n",
    "    hijos = None\n",
    "\n",
    "    for i in range(0,poblacion.shape[0],2):\n",
    "\n",
    "        padre1 = poblacion[i,:]\n",
    "        padre2 = poblacion[i+1,:]\n",
    "\n",
    "        \n",
    "\n",
    "        if distancia_hamming(padre1, padre2) > umbral:\n",
    "            \n",
    "            # swap half the differing bits at random\n",
    "            hijo = operador_cruce() # crea hijo\n",
    "\n",
    "            if hijos is None:\n",
    "                hijos = np.array([hijo])\n",
    "            else:\n",
    "                hijos = np.append(hijos,[hijo],0)  \n",
    "\n",
    "            \n",
    "    return hijos\n",
    "\n"
   ]
  },
  {
   "cell_type": "code",
   "execution_count": null,
   "metadata": {},
   "outputs": [],
   "source": [
    "def chc(tama, alpha, ):\n",
    "    \n",
    "    t = 0\n",
    "    d = TOTAL_STATIONS/4\n",
    "\n",
    "    # Inicializamos poblacion con todos cromosomas generados aleatoriamente\n",
    "    P = inicializa_poblacion(tama)\n",
    "    \n",
    "\n",
    "    # Condicion de parada: numero de rearranques\n",
    "    while True: \n",
    "        t += 1\n",
    "\n",
    "        # select_r -> hacer un shuffle\n",
    "        np.random.shuffle(P)\n",
    "\n",
    "        fitness_p, km_p, slots_p = evalua_poblacion(P,alpha)\n",
    "\n",
    "        # recombine\n",
    "        # evaluate\n",
    "        # select_s\n",
    "\n",
    "\n",
    "\n",
    "\n",
    "\n",
    "\n"
   ]
  }
 ],
 "metadata": {
  "interpreter": {
   "hash": "ec5498714c8a00cfa21adbf7af1c7a95b2ac142bd720b37f8f357108b338ab28"
  },
  "kernelspec": {
   "display_name": "Python 3.9.7 ('datascience')",
   "language": "python",
   "name": "python3"
  },
  "language_info": {
   "codemirror_mode": {
    "name": "ipython",
    "version": 3
   },
   "file_extension": ".py",
   "mimetype": "text/x-python",
   "name": "python",
   "nbconvert_exporter": "python",
   "pygments_lexer": "ipython3",
   "version": "3.9.7"
  },
  "orig_nbformat": 4
 },
 "nbformat": 4,
 "nbformat_minor": 2
}
