{
 "cells": [
  {
   "cell_type": "markdown",
   "metadata": {},
   "source": [
    "# Libraries"
   ]
  },
  {
   "cell_type": "code",
   "execution_count": 5,
   "metadata": {},
   "outputs": [],
   "source": [
    "import numpy             as np\n",
    "import pandas            as pd\n",
    "import matplotlib.pyplot as plt\n",
    "\n",
    "\n",
    "from pkg.constants    import *\n",
    "from pkg.evaluation   import Evaluation\n",
    "from pkg.utils        import *\n",
    "from pkg.algorithims  import chc"
   ]
  },
  {
   "cell_type": "markdown",
   "metadata": {},
   "source": [
    "# Objeto evaluacion"
   ]
  },
  {
   "cell_type": "code",
   "execution_count": 6,
   "metadata": {},
   "outputs": [],
   "source": [
    "ev = Evaluation()"
   ]
  },
  {
   "cell_type": "markdown",
   "metadata": {},
   "source": [
    "# Funciones necesarias"
   ]
  },
  {
   "cell_type": "markdown",
   "metadata": {},
   "source": [
    "## Distancia de Hamming"
   ]
  },
  {
   "cell_type": "markdown",
   "metadata": {},
   "source": [
    "Calcula la cantidad de genes que se diferencian entre 2 cromosomas, es decir, cuántas posiciones tienen alelos distintos."
   ]
  },
  {
   "cell_type": "code",
   "execution_count": 7,
   "metadata": {},
   "outputs": [
    {
     "data": {
      "text/plain": [
       "(array([14, 20, 17,  5, 12, 12, 12, 22,  7, 12, 17, 10, 14, 22, 19,  5],\n",
       "       dtype=int64),\n",
       " array([ 5, 16, 11,  8, 21, 24, 24, 21,  5,  8, 19,  8, 19,  5,  8, 16],\n",
       "       dtype=int64))"
      ]
     },
     "execution_count": 7,
     "metadata": {},
     "output_type": "execute_result"
    }
   ],
   "source": [
    "padre1 = generate_random_solution()\n",
    "padre2 = generate_random_solution()\n",
    "\n",
    "padre1, padre2"
   ]
  },
  {
   "cell_type": "code",
   "execution_count": 5,
   "metadata": {},
   "outputs": [
    {
     "data": {
      "text/plain": [
       "15"
      ]
     },
     "execution_count": 5,
     "metadata": {},
     "output_type": "execute_result"
    }
   ],
   "source": [
    "distancia_hamming(padre1,padre2)"
   ]
  },
  {
   "cell_type": "markdown",
   "metadata": {},
   "source": [
    "## Operador de cruce"
   ]
  },
  {
   "cell_type": "markdown",
   "metadata": {},
   "source": [
    "Los cruces en CHC se hacen cambiando exactamente la mitad de los elementos que son distintos en ambos padres y luego se aplica Parent Centered."
   ]
  },
  {
   "cell_type": "markdown",
   "metadata": {},
   "source": [
    "### Cruce Parent Centered"
   ]
  },
  {
   "cell_type": "markdown",
   "metadata": {},
   "source": [
    "1. Selección de los genes a mutar\n",
    "2. Mutación gaussiana del valor intercambiado.\n",
    "\n",
    "Mutación gaussiana: Dado un cromosoma p con un gen seleccionado para la mutación i, se le aplica una distribución normal de media el valor a mutar y desviación estandar 2, para que el 68% de las mutaciones estén entre media-2 y media+2"
   ]
  },
  {
   "cell_type": "code",
   "execution_count": 8,
   "metadata": {},
   "outputs": [
    {
     "data": {
      "text/plain": [
       "(array([14, 14, 17,  5, 21, 12, 23, 21,  7,  9, 16,  6, 22, 22, 19,  5],\n",
       "       dtype=int64),\n",
       " array([14, 16, 16,  8, 21, 12, 24, 21,  8,  8, 19,  8, 19, 23, 22,  8],\n",
       "       dtype=int64))"
      ]
     },
     "execution_count": 8,
     "metadata": {},
     "output_type": "execute_result"
    }
   ],
   "source": [
    "cruce_parent_centered(padre1, padre2)"
   ]
  },
  {
   "cell_type": "markdown",
   "metadata": {},
   "source": [
    "# Experimentación"
   ]
  },
  {
   "cell_type": "code",
   "execution_count": 9,
   "metadata": {},
   "outputs": [
    {
     "name": "stdout",
     "output_type": "stream",
     "text": [
      "rearranque: 0\n",
      "iteracion: 0\n",
      "rearranque: 0\n",
      "iteracion: 1\n",
      "rearranque: 0\n",
      "iteracion: 2\n"
     ]
    },
    {
     "ename": "KeyboardInterrupt",
     "evalue": "",
     "output_type": "error",
     "traceback": [
      "\u001b[1;31m---------------------------------------------------------------------------\u001b[0m",
      "\u001b[1;31mKeyboardInterrupt\u001b[0m                         Traceback (most recent call last)",
      "\u001b[1;32mc:\\Users\\Marina\\Desktop\\MBHBp\\MBHB_ABET\\09_CHC.ipynb Cell 16'\u001b[0m in \u001b[0;36m<cell line: 5>\u001b[1;34m()\u001b[0m\n\u001b[0;32m      <a href='vscode-notebook-cell:/c%3A/Users/Marina/Desktop/MBHBp/MBHB_ABET/09_CHC.ipynb#ch0000020?line=0'>1</a>\u001b[0m np\u001b[39m.\u001b[39mrandom\u001b[39m.\u001b[39mseed(\u001b[39m0\u001b[39m)\n\u001b[0;32m      <a href='vscode-notebook-cell:/c%3A/Users/Marina/Desktop/MBHBp/MBHB_ABET/09_CHC.ipynb#ch0000020?line=2'>3</a>\u001b[0m ev\u001b[39m.\u001b[39mtotal_calls \u001b[39m=\u001b[39m \u001b[39m0\u001b[39m\n\u001b[1;32m----> <a href='vscode-notebook-cell:/c%3A/Users/Marina/Desktop/MBHBp/MBHB_ABET/09_CHC.ipynb#ch0000020?line=4'>5</a>\u001b[0m cromosoma, fitness \u001b[39m=\u001b[39m chc(\u001b[39m26\u001b[39;49m, \u001b[39m9\u001b[39;49m, \u001b[39m3\u001b[39;49m, ev, \u001b[39mTrue\u001b[39;49;00m)\n",
      "File \u001b[1;32mc:\\Users\\Marina\\Desktop\\MBHBp\\MBHB_ABET\\pkg\\algorithims.py:665\u001b[0m, in \u001b[0;36mchc\u001b[1;34m(tama, alpha, rearranques, ev, grafica)\u001b[0m\n\u001b[0;32m    <a href='file:///c%3A/Users/Marina/Desktop/MBHBp/MBHB_ABET/pkg/algorithims.py?line=661'>662</a>\u001b[0m \u001b[39m# select_r -> hacer un shuffle\u001b[39;00m\n\u001b[0;32m    <a href='file:///c%3A/Users/Marina/Desktop/MBHBp/MBHB_ABET/pkg/algorithims.py?line=662'>663</a>\u001b[0m np\u001b[39m.\u001b[39mrandom\u001b[39m.\u001b[39mshuffle(P)\n\u001b[1;32m--> <a href='file:///c%3A/Users/Marina/Desktop/MBHBp/MBHB_ABET/pkg/algorithims.py?line=664'>665</a>\u001b[0m fitness_p, km_p, slots_p \u001b[39m=\u001b[39m evalua_poblacion(P,ev,alpha)\n\u001b[0;32m    <a href='file:///c%3A/Users/Marina/Desktop/MBHBp/MBHB_ABET/pkg/algorithims.py?line=668'>669</a>\u001b[0m \u001b[39m# actualizacion estadisticos\u001b[39;00m\n\u001b[0;32m    <a href='file:///c%3A/Users/Marina/Desktop/MBHBp/MBHB_ABET/pkg/algorithims.py?line=669'>670</a>\u001b[0m media_fitness \u001b[39m=\u001b[39m np\u001b[39m.\u001b[39mappend(media_fitness, np\u001b[39m.\u001b[39mmean(fitness_p))\n",
      "File \u001b[1;32mc:\\Users\\Marina\\Desktop\\MBHBp\\MBHB_ABET\\pkg\\utils.py:182\u001b[0m, in \u001b[0;36mevalua_poblacion\u001b[1;34m(poblacion, evaluation, alpha)\u001b[0m\n\u001b[0;32m    <a href='file:///c%3A/Users/Marina/Desktop/MBHBp/MBHB_ABET/pkg/utils.py?line=179'>180</a>\u001b[0m     fitness, km, slots \u001b[39m=\u001b[39m evaluation\u001b[39m.\u001b[39mfitness(poblacion[individuo,:])\n\u001b[0;32m    <a href='file:///c%3A/Users/Marina/Desktop/MBHBp/MBHB_ABET/pkg/utils.py?line=180'>181</a>\u001b[0m \u001b[39melse\u001b[39;00m:\n\u001b[1;32m--> <a href='file:///c%3A/Users/Marina/Desktop/MBHBp/MBHB_ABET/pkg/utils.py?line=181'>182</a>\u001b[0m     fitness, km, slots \u001b[39m=\u001b[39m evaluation\u001b[39m.\u001b[39;49mfitness(poblacion[individuo,:], alpha)\n\u001b[0;32m    <a href='file:///c%3A/Users/Marina/Desktop/MBHBp/MBHB_ABET/pkg/utils.py?line=183'>184</a>\u001b[0m fitness_poblacion[individuo] \u001b[39m=\u001b[39m fitness\n\u001b[0;32m    <a href='file:///c%3A/Users/Marina/Desktop/MBHBp/MBHB_ABET/pkg/utils.py?line=184'>185</a>\u001b[0m km_poblacion[individuo]      \u001b[39m=\u001b[39m km\n",
      "File \u001b[1;32mc:\\Users\\Marina\\Desktop\\MBHBp\\MBHB_ABET\\pkg\\evaluation.py:180\u001b[0m, in \u001b[0;36mEvaluation.fitness\u001b[1;34m(self, solution, alpha)\u001b[0m\n\u001b[0;32m    <a href='file:///c%3A/Users/Marina/Desktop/MBHBp/MBHB_ABET/pkg/evaluation.py?line=176'>177</a>\u001b[0m \u001b[39mif\u001b[39;00m alpha \u001b[39mis\u001b[39;00m \u001b[39mNone\u001b[39;00m:\n\u001b[0;32m    <a href='file:///c%3A/Users/Marina/Desktop/MBHBp/MBHB_ABET/pkg/evaluation.py?line=177'>178</a>\u001b[0m     alpha \u001b[39m=\u001b[39m \u001b[39m0\u001b[39m\n\u001b[1;32m--> <a href='file:///c%3A/Users/Marina/Desktop/MBHBp/MBHB_ABET/pkg/evaluation.py?line=179'>180</a>\u001b[0m total_distance \u001b[39m=\u001b[39m \u001b[39mself\u001b[39;49m\u001b[39m.\u001b[39;49mevaluate(solution)\n\u001b[0;32m    <a href='file:///c%3A/Users/Marina/Desktop/MBHBp/MBHB_ABET/pkg/evaluation.py?line=180'>181</a>\u001b[0m value \u001b[39m=\u001b[39m total_distance \u001b[39m+\u001b[39m alpha \u001b[39m*\u001b[39m solution\u001b[39m.\u001b[39msum()\n\u001b[0;32m    <a href='file:///c%3A/Users/Marina/Desktop/MBHBp/MBHB_ABET/pkg/evaluation.py?line=181'>182</a>\u001b[0m slots \u001b[39m=\u001b[39m solution\u001b[39m.\u001b[39msum()\n",
      "File \u001b[1;32mc:\\Users\\Marina\\Desktop\\MBHBp\\MBHB_ABET\\pkg\\evaluation.py:161\u001b[0m, in \u001b[0;36mEvaluation.evaluate\u001b[1;34m(self, solution)\u001b[0m\n\u001b[0;32m    <a href='file:///c%3A/Users/Marina/Desktop/MBHBp/MBHB_ABET/pkg/evaluation.py?line=155'>156</a>\u001b[0m \u001b[39mfor\u001b[39;00m row \u001b[39min\u001b[39;00m \u001b[39mrange\u001b[39m(\u001b[39mself\u001b[39m\u001b[39m.\u001b[39mmovements\u001b[39m.\u001b[39mshape[\u001b[39m0\u001b[39m]):\n\u001b[0;32m    <a href='file:///c%3A/Users/Marina/Desktop/MBHBp/MBHB_ABET/pkg/evaluation.py?line=156'>157</a>\u001b[0m \n\u001b[0;32m    <a href='file:///c%3A/Users/Marina/Desktop/MBHBp/MBHB_ABET/pkg/evaluation.py?line=157'>158</a>\u001b[0m     \u001b[39m# Movements that occur along 5 minutes\u001b[39;00m\n\u001b[0;32m    <a href='file:///c%3A/Users/Marina/Desktop/MBHBp/MBHB_ABET/pkg/evaluation.py?line=158'>159</a>\u001b[0m     current_time \u001b[39m=\u001b[39m \u001b[39mself\u001b[39m\u001b[39m.\u001b[39mmovements[row,:] \n\u001b[1;32m--> <a href='file:///c%3A/Users/Marina/Desktop/MBHBp/MBHB_ABET/pkg/evaluation.py?line=160'>161</a>\u001b[0m     total_distance \u001b[39m+\u001b[39m\u001b[39m=\u001b[39m \u001b[39mself\u001b[39;49m\u001b[39m.\u001b[39;49m_get_timestamp_distance(\n\u001b[0;32m    <a href='file:///c%3A/Users/Marina/Desktop/MBHBp/MBHB_ABET/pkg/evaluation.py?line=161'>162</a>\u001b[0m         bikes        \u001b[39m=\u001b[39;49m bikes,\n\u001b[0;32m    <a href='file:///c%3A/Users/Marina/Desktop/MBHBp/MBHB_ABET/pkg/evaluation.py?line=162'>163</a>\u001b[0m         capacity     \u001b[39m=\u001b[39;49m solution,\n\u001b[0;32m    <a href='file:///c%3A/Users/Marina/Desktop/MBHBp/MBHB_ABET/pkg/evaluation.py?line=163'>164</a>\u001b[0m         current_time \u001b[39m=\u001b[39;49m current_time,\n\u001b[0;32m    <a href='file:///c%3A/Users/Marina/Desktop/MBHBp/MBHB_ABET/pkg/evaluation.py?line=164'>165</a>\u001b[0m         index_matrix \u001b[39m=\u001b[39;49m \u001b[39mself\u001b[39;49m\u001b[39m.\u001b[39;49mindex_matrix,\n\u001b[0;32m    <a href='file:///c%3A/Users/Marina/Desktop/MBHBp/MBHB_ABET/pkg/evaluation.py?line=165'>166</a>\u001b[0m         count_km     \u001b[39m=\u001b[39;49m count_km\n\u001b[0;32m    <a href='file:///c%3A/Users/Marina/Desktop/MBHBp/MBHB_ABET/pkg/evaluation.py?line=166'>167</a>\u001b[0m     )\n\u001b[0;32m    <a href='file:///c%3A/Users/Marina/Desktop/MBHBp/MBHB_ABET/pkg/evaluation.py?line=168'>169</a>\u001b[0m     \u001b[39m# First movement doesn't count km, every other movement does\u001b[39;00m\n\u001b[0;32m    <a href='file:///c%3A/Users/Marina/Desktop/MBHBp/MBHB_ABET/pkg/evaluation.py?line=169'>170</a>\u001b[0m     count_km \u001b[39m=\u001b[39m \u001b[39mTrue\u001b[39;00m\n",
      "File \u001b[1;32mc:\\Users\\Marina\\Desktop\\MBHBp\\MBHB_ABET\\pkg\\evaluation.py:114\u001b[0m, in \u001b[0;36mEvaluation._get_timestamp_distance\u001b[1;34m(self, bikes, capacity, current_time, index_matrix, count_km)\u001b[0m\n\u001b[0;32m    <a href='file:///c%3A/Users/Marina/Desktop/MBHBp/MBHB_ABET/pkg/evaluation.py?line=111'>112</a>\u001b[0m         jump_matrix \u001b[39m=\u001b[39m jumps\n\u001b[0;32m    <a href='file:///c%3A/Users/Marina/Desktop/MBHBp/MBHB_ABET/pkg/evaluation.py?line=112'>113</a>\u001b[0m     \u001b[39melse\u001b[39;00m:\n\u001b[1;32m--> <a href='file:///c%3A/Users/Marina/Desktop/MBHBp/MBHB_ABET/pkg/evaluation.py?line=113'>114</a>\u001b[0m         jump_matrix \u001b[39m=\u001b[39m np\u001b[39m.\u001b[39;49mvstack((jump_matrix,jumps))\n\u001b[0;32m    <a href='file:///c%3A/Users/Marina/Desktop/MBHBp/MBHB_ABET/pkg/evaluation.py?line=115'>116</a>\u001b[0m \u001b[39mif\u001b[39;00m count_km:\n\u001b[0;32m    <a href='file:///c%3A/Users/Marina/Desktop/MBHBp/MBHB_ABET/pkg/evaluation.py?line=116'>117</a>\u001b[0m     \u001b[39m# ya tenemos la matriz 16x16\u001b[39;00m\n\u001b[0;32m    <a href='file:///c%3A/Users/Marina/Desktop/MBHBp/MBHB_ABET/pkg/evaluation.py?line=117'>118</a>\u001b[0m \n\u001b[0;32m    <a href='file:///c%3A/Users/Marina/Desktop/MBHBp/MBHB_ABET/pkg/evaluation.py?line=118'>119</a>\u001b[0m     \u001b[39m# aplicamos las ponderaciones\u001b[39;00m\n\u001b[0;32m    <a href='file:///c%3A/Users/Marina/Desktop/MBHBp/MBHB_ABET/pkg/evaluation.py?line=119'>120</a>\u001b[0m     jump_matrix[jump_matrix \u001b[39m<\u001b[39m \u001b[39m0\u001b[39m] \u001b[39m*\u001b[39m\u001b[39m=\u001b[39m WALKING_WEIGHT\n",
      "File \u001b[1;32m<__array_function__ internals>:5\u001b[0m, in \u001b[0;36mvstack\u001b[1;34m(*args, **kwargs)\u001b[0m\n",
      "File \u001b[1;32mc:\\Users\\Marina\\anaconda3\\envs\\datascience\\lib\\site-packages\\numpy\\core\\shape_base.py:282\u001b[0m, in \u001b[0;36mvstack\u001b[1;34m(tup)\u001b[0m\n\u001b[0;32m    <a href='file:///c%3A/Users/Marina/anaconda3/envs/datascience/lib/site-packages/numpy/core/shape_base.py?line=279'>280</a>\u001b[0m \u001b[39mif\u001b[39;00m \u001b[39mnot\u001b[39;00m \u001b[39misinstance\u001b[39m(arrs, \u001b[39mlist\u001b[39m):\n\u001b[0;32m    <a href='file:///c%3A/Users/Marina/anaconda3/envs/datascience/lib/site-packages/numpy/core/shape_base.py?line=280'>281</a>\u001b[0m     arrs \u001b[39m=\u001b[39m [arrs]\n\u001b[1;32m--> <a href='file:///c%3A/Users/Marina/anaconda3/envs/datascience/lib/site-packages/numpy/core/shape_base.py?line=281'>282</a>\u001b[0m \u001b[39mreturn\u001b[39;00m _nx\u001b[39m.\u001b[39;49mconcatenate(arrs, \u001b[39m0\u001b[39;49m)\n",
      "File \u001b[1;32m<__array_function__ internals>:5\u001b[0m, in \u001b[0;36mconcatenate\u001b[1;34m(*args, **kwargs)\u001b[0m\n",
      "\u001b[1;31mKeyboardInterrupt\u001b[0m: "
     ]
    }
   ],
   "source": [
    "np.random.seed(0)\n",
    "\n",
    "ev.total_calls = 0\n",
    "\n",
    "cromosoma, fitness = chc(26, 9, 3, ev, True)"
   ]
  }
 ],
 "metadata": {
  "interpreter": {
   "hash": "ec5498714c8a00cfa21adbf7af1c7a95b2ac142bd720b37f8f357108b338ab28"
  },
  "kernelspec": {
   "display_name": "Python 3.9.7 ('datascience')",
   "language": "python",
   "name": "python3"
  },
  "language_info": {
   "codemirror_mode": {
    "name": "ipython",
    "version": 3
   },
   "file_extension": ".py",
   "mimetype": "text/x-python",
   "name": "python",
   "nbconvert_exporter": "python",
   "pygments_lexer": "ipython3",
   "version": "3.9.7"
  },
  "orig_nbformat": 4
 },
 "nbformat": 4,
 "nbformat_minor": 2
}
