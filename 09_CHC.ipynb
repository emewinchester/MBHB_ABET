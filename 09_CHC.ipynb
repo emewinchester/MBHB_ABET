{
 "cells": [
  {
   "cell_type": "markdown",
   "metadata": {},
   "source": [
    "# Libraries"
   ]
  },
  {
   "cell_type": "code",
   "execution_count": 3,
   "metadata": {},
   "outputs": [],
   "source": [
    "import numpy             as np\n",
    "import pandas            as pd\n",
    "import matplotlib.pyplot as plt\n",
    "\n",
    "\n",
    "from pkg.constants    import *\n",
    "from pkg.evaluation   import Evaluation\n",
    "from pkg.utils        import *\n",
    "from pkg.algorithims  import chc"
   ]
  },
  {
   "cell_type": "markdown",
   "metadata": {},
   "source": [
    "# Objeto evaluacion"
   ]
  },
  {
   "cell_type": "code",
   "execution_count": 4,
   "metadata": {},
   "outputs": [],
   "source": [
    "ev = Evaluation()"
   ]
  },
  {
   "cell_type": "markdown",
   "metadata": {},
   "source": [
    "# Funciones necesarias"
   ]
  },
  {
   "cell_type": "markdown",
   "metadata": {},
   "source": [
    "## Distancia de Hamming"
   ]
  },
  {
   "cell_type": "markdown",
   "metadata": {},
   "source": [
    "Calcula la cantidad de genes que se diferencian entre 2 cromosomas, es decir, cuántas posiciones tienen alelos distintos."
   ]
  },
  {
   "cell_type": "code",
   "execution_count": 5,
   "metadata": {},
   "outputs": [
    {
     "data": {
      "text/plain": [
       "(array([16,  8, 18, 16, 18, 12,  6, 10, 16, 12, 16, 10, 12, 18, 16, 16],\n",
       "       dtype=int64),\n",
       " array([19, 13, 13, 11, 15, 11,  4,  9, 15, 15, 17, 17, 17, 13, 11, 19],\n",
       "       dtype=int64))"
      ]
     },
     "execution_count": 5,
     "metadata": {},
     "output_type": "execute_result"
    }
   ],
   "source": [
    "padre1 = generate_random_solution()\n",
    "padre2 = generate_random_solution()\n",
    "\n",
    "padre1, padre2"
   ]
  },
  {
   "cell_type": "code",
   "execution_count": 6,
   "metadata": {},
   "outputs": [
    {
     "data": {
      "text/plain": [
       "16"
      ]
     },
     "execution_count": 6,
     "metadata": {},
     "output_type": "execute_result"
    }
   ],
   "source": [
    "distancia_hamming(padre1,padre2)"
   ]
  },
  {
   "cell_type": "markdown",
   "metadata": {},
   "source": [
    "## Operador de cruce"
   ]
  },
  {
   "cell_type": "markdown",
   "metadata": {},
   "source": [
    "Los cruces en CHC se hacen cambiando exactamente la mitad de los elementos que son distintos en ambos padres y luego se aplica Parent Centered."
   ]
  },
  {
   "cell_type": "markdown",
   "metadata": {},
   "source": [
    "### Cruce Parent Centered"
   ]
  },
  {
   "cell_type": "markdown",
   "metadata": {},
   "source": [
    "1. Selección de los genes a mutar\n",
    "2. Mutación gaussiana del valor intercambiado.\n",
    "\n",
    "Mutación gaussiana: Dado un cromosoma p con un gen seleccionado para la mutación i, se le aplica una distribución normal de media el valor a mutar y desviación estandar 2, para que el 68% de las mutaciones estén entre media-2 y media+2"
   ]
  },
  {
   "cell_type": "code",
   "execution_count": 7,
   "metadata": {},
   "outputs": [
    {
     "data": {
      "text/plain": [
       "(array([16, 13, 18, 16, 18, 12,  6,  6, 17, 17, 13, 16, 12, 16, 11, 16],\n",
       "       dtype=int64),\n",
       " array([20, 13, 17, 18, 19, 17,  4,  9, 15, 15, 17, 17, 12, 13, 11, 15],\n",
       "       dtype=int64))"
      ]
     },
     "execution_count": 7,
     "metadata": {},
     "output_type": "execute_result"
    }
   ],
   "source": [
    "cruce_parent_centered(padre1, padre2)"
   ]
  },
  {
   "cell_type": "markdown",
   "metadata": {},
   "source": [
    "# Comprobación correcto funcionamiento algoritmo"
   ]
  },
  {
   "cell_type": "code",
   "execution_count": null,
   "metadata": {},
   "outputs": [],
   "source": [
    "np.random.seed(0)\n",
    "\n",
    "ev.total_calls = 0\n",
    "\n",
    "cromosoma, fitness = chc(26, 9, 3, ev, True)"
   ]
  },
  {
   "cell_type": "code",
   "execution_count": null,
   "metadata": {},
   "outputs": [],
   "source": [
    "ev.fitness(cromosoma,9)"
   ]
  },
  {
   "cell_type": "markdown",
   "metadata": {},
   "source": [
    "# Experimentación"
   ]
  },
  {
   "cell_type": "code",
   "execution_count": 8,
   "metadata": {},
   "outputs": [],
   "source": [
    "# Parametros obtenidos en ag basico\n",
    "alpha = 9\n",
    "tama_poblacion = 24\n",
    "\n",
    "# semillas utilizadas en todos los algoritmos\n",
    "seeds = np.array([7054, 1354, 23503, 11268, 58283])\n",
    "\n",
    "# otros parametros\n",
    "num_rearranques = 5\n"
   ]
  },
  {
   "cell_type": "markdown",
   "metadata": {},
   "source": [
    "Obtenemos los datos con los que elaboraremos las tablas comparativas y extraeremos conclusiones."
   ]
  },
  {
   "cell_type": "code",
   "execution_count": 9,
   "metadata": {},
   "outputs": [
    {
     "name": "stdout",
     "output_type": "stream",
     "text": [
      "[18 12 20 21 20 14 12 10 12 14 14 24  2 14  5 11]\n",
      "2344.7874161816253\n",
      "[18 12 17 22 19 14 12 11 12 16 14 24  2 10  7 13]\n",
      "2347.658947921934\n",
      "[18 12 21 19 19 14 12  9 12 15 16 22  2  7 13 12]\n",
      "2349.4557411959595\n",
      "[18 12 20 21 20 14 11 11 12 13 13 24  2  8 13 11]\n",
      "2347.4475964774037\n",
      "[13 12 20 22 18 14 15  7 12 14 19 23  2 16  4 12]\n",
      "2350.504227987584\n"
     ]
    }
   ],
   "source": [
    "costs       = np.array([])\n",
    "evaluations = np.array([])\n",
    "slots       = np.array([])\n",
    "\n",
    "for s in seeds:\n",
    "\n",
    "    # set evauation calls counter to 0\n",
    "    ev.total_calls = 0\n",
    "\n",
    "    np.random.seed(s)\n",
    "\n",
    "    \n",
    "    crom, fit = chc(\n",
    "        tama        = tama_poblacion,\n",
    "        alpha       = alpha,\n",
    "        rearranques = num_rearranques,\n",
    "        ev= ev\n",
    "    )\n",
    "\n",
    "    print(crom)\n",
    "    print(fit)\n",
    "\n",
    "    value, total_distance, slot = ev.fitness(crom,alpha)\n",
    "    \n",
    "    costs       = np.append(costs, total_distance)\n",
    "    evaluations = np.append(evaluations, ev.total_calls)\n",
    "    slots       = np.append(slots, slot)\n",
    "\n",
    "\n",
    "df = pd.DataFrame({\n",
    "    \"ev_medias\"    : [evaluations.mean()],\n",
    "    \"ev_mejor\"     : [evaluations.min()],\n",
    "    \"ev_std\"       : [evaluations.std()],\n",
    "    \"coste_medio\"  : [costs.mean()],\n",
    "    \"coste_mejor\"  : [costs.min()],\n",
    "    \"coste_std\"    : [costs.std()],\n",
    "    \"slots_medio\"  : [slots.mean()],\n",
    "    \"slots_min\"    : [slots.min()],\n",
    "    \"slots_std\"    : [slots.std()]\n",
    "})\n",
    "\n",
    "df_2 = pd.DataFrame({\n",
    "    'Ejecución'    : [1,2,3,4,5],\n",
    "    \"Coste mejor\"  : costs,\n",
    "    \"Evaluaciones\" : evaluations,\n",
    "    \"slots\"        : slots\n",
    "})"
   ]
  },
  {
   "cell_type": "code",
   "execution_count": 10,
   "metadata": {},
   "outputs": [
    {
     "data": {
      "text/html": [
       "<div>\n",
       "<style scoped>\n",
       "    .dataframe tbody tr th:only-of-type {\n",
       "        vertical-align: middle;\n",
       "    }\n",
       "\n",
       "    .dataframe tbody tr th {\n",
       "        vertical-align: top;\n",
       "    }\n",
       "\n",
       "    .dataframe thead th {\n",
       "        text-align: right;\n",
       "    }\n",
       "</style>\n",
       "<table border=\"1\" class=\"dataframe\">\n",
       "  <thead>\n",
       "    <tr style=\"text-align: right;\">\n",
       "      <th></th>\n",
       "      <th>ev_medias</th>\n",
       "      <th>ev_mejor</th>\n",
       "      <th>ev_std</th>\n",
       "      <th>coste_medio</th>\n",
       "      <th>coste_mejor</th>\n",
       "      <th>coste_std</th>\n",
       "      <th>slots_medio</th>\n",
       "      <th>slots_min</th>\n",
       "      <th>slots_std</th>\n",
       "    </tr>\n",
       "  </thead>\n",
       "  <tbody>\n",
       "    <tr>\n",
       "      <th>0</th>\n",
       "      <td>13461.4</td>\n",
       "      <td>11257.0</td>\n",
       "      <td>1200.43752</td>\n",
       "      <td>340.970786</td>\n",
       "      <td>337.787416</td>\n",
       "      <td>1.955926</td>\n",
       "      <td>223.0</td>\n",
       "      <td>223.0</td>\n",
       "      <td>0.0</td>\n",
       "    </tr>\n",
       "  </tbody>\n",
       "</table>\n",
       "</div>"
      ],
      "text/plain": [
       "   ev_medias  ev_mejor      ev_std  coste_medio  coste_mejor  coste_std  \\\n",
       "0    13461.4   11257.0  1200.43752   340.970786   337.787416   1.955926   \n",
       "\n",
       "   slots_medio  slots_min  slots_std  \n",
       "0        223.0      223.0        0.0  "
      ]
     },
     "execution_count": 10,
     "metadata": {},
     "output_type": "execute_result"
    }
   ],
   "source": [
    "df"
   ]
  },
  {
   "cell_type": "code",
   "execution_count": 11,
   "metadata": {},
   "outputs": [
    {
     "data": {
      "text/html": [
       "<div>\n",
       "<style scoped>\n",
       "    .dataframe tbody tr th:only-of-type {\n",
       "        vertical-align: middle;\n",
       "    }\n",
       "\n",
       "    .dataframe tbody tr th {\n",
       "        vertical-align: top;\n",
       "    }\n",
       "\n",
       "    .dataframe thead th {\n",
       "        text-align: right;\n",
       "    }\n",
       "</style>\n",
       "<table border=\"1\" class=\"dataframe\">\n",
       "  <thead>\n",
       "    <tr style=\"text-align: right;\">\n",
       "      <th></th>\n",
       "      <th>Ejecución</th>\n",
       "      <th>Coste mejor</th>\n",
       "      <th>Evaluaciones</th>\n",
       "      <th>slots</th>\n",
       "    </tr>\n",
       "  </thead>\n",
       "  <tbody>\n",
       "    <tr>\n",
       "      <th>0</th>\n",
       "      <td>1</td>\n",
       "      <td>337.787416</td>\n",
       "      <td>14381.0</td>\n",
       "      <td>223.0</td>\n",
       "    </tr>\n",
       "    <tr>\n",
       "      <th>1</th>\n",
       "      <td>2</td>\n",
       "      <td>340.658948</td>\n",
       "      <td>14441.0</td>\n",
       "      <td>223.0</td>\n",
       "    </tr>\n",
       "    <tr>\n",
       "      <th>2</th>\n",
       "      <td>3</td>\n",
       "      <td>342.455741</td>\n",
       "      <td>13117.0</td>\n",
       "      <td>223.0</td>\n",
       "    </tr>\n",
       "    <tr>\n",
       "      <th>3</th>\n",
       "      <td>4</td>\n",
       "      <td>340.447596</td>\n",
       "      <td>14111.0</td>\n",
       "      <td>223.0</td>\n",
       "    </tr>\n",
       "    <tr>\n",
       "      <th>4</th>\n",
       "      <td>5</td>\n",
       "      <td>343.504228</td>\n",
       "      <td>11257.0</td>\n",
       "      <td>223.0</td>\n",
       "    </tr>\n",
       "  </tbody>\n",
       "</table>\n",
       "</div>"
      ],
      "text/plain": [
       "   Ejecución  Coste mejor  Evaluaciones  slots\n",
       "0          1   337.787416       14381.0  223.0\n",
       "1          2   340.658948       14441.0  223.0\n",
       "2          3   342.455741       13117.0  223.0\n",
       "3          4   340.447596       14111.0  223.0\n",
       "4          5   343.504228       11257.0  223.0"
      ]
     },
     "execution_count": 11,
     "metadata": {},
     "output_type": "execute_result"
    }
   ],
   "source": [
    "df_2"
   ]
  },
  {
   "cell_type": "code",
   "execution_count": 12,
   "metadata": {},
   "outputs": [],
   "source": [
    "df.to_excel('./01_stats_p2/chc_stats.xlsx')\n",
    "df_2.to_excel('./01_stats_p2/chc_ejecuciones.xlsx')"
   ]
  }
 ],
 "metadata": {
  "interpreter": {
   "hash": "ec5498714c8a00cfa21adbf7af1c7a95b2ac142bd720b37f8f357108b338ab28"
  },
  "kernelspec": {
   "display_name": "Python 3.9.7 ('datascience')",
   "language": "python",
   "name": "python3"
  },
  "language_info": {
   "codemirror_mode": {
    "name": "ipython",
    "version": 3
   },
   "file_extension": ".py",
   "mimetype": "text/x-python",
   "name": "python",
   "nbconvert_exporter": "python",
   "pygments_lexer": "ipython3",
   "version": "3.9.7"
  },
  "orig_nbformat": 4
 },
 "nbformat": 4,
 "nbformat_minor": 2
}
