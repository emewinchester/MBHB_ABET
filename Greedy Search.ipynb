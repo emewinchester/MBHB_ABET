{
 "cells": [
  {
   "cell_type": "markdown",
   "metadata": {},
   "source": [
    "# Libraries"
   ]
  },
  {
   "cell_type": "code",
   "execution_count": 1,
   "metadata": {},
   "outputs": [],
   "source": [
    "import pandas as pd\n",
    "import numpy  as np\n",
    "\n",
    "from pkg.algorithims import greedy\n",
    "from pkg.constants   import *\n",
    "from pkg.evaluation  import Evaluation\n"
   ]
  },
  {
   "cell_type": "markdown",
   "metadata": {},
   "source": [
    "# Greedy Search"
   ]
  },
  {
   "cell_type": "code",
   "execution_count": 2,
   "metadata": {},
   "outputs": [],
   "source": [
    "# seeds\n",
    "seeds = np.array([7054, 1354, 23503, 11268, 58283])"
   ]
  },
  {
   "cell_type": "code",
   "execution_count": 3,
   "metadata": {},
   "outputs": [],
   "source": [
    "# evaluation object\n",
    "# loads data and contains evaluation function\n",
    "ev = Evaluation()"
   ]
  },
  {
   "cell_type": "code",
   "execution_count": 4,
   "metadata": {},
   "outputs": [],
   "source": [
    "# data loading\n",
    "deltas_df     = pd.read_csv(DELTAS_5M_PATH) \n",
    "deltas_matrix = deltas_df.to_numpy()"
   ]
  },
  {
   "cell_type": "code",
   "execution_count": 5,
   "metadata": {},
   "outputs": [],
   "source": [
    "# set evaluation counter to 0\n",
    "ev.total_calls = 0\n",
    "\n",
    "# get initial state\n",
    "initial_state = deltas_matrix[0,:]\n",
    "\n",
    "\n",
    "greedy_sol, greedy_sol_cost = greedy(\n",
    "    initial_state = initial_state, \n",
    "    evaluation    = ev\n",
    ")"
   ]
  },
  {
   "cell_type": "code",
   "execution_count": 6,
   "metadata": {},
   "outputs": [
    {
     "name": "stdout",
     "output_type": "stream",
     "text": [
      "Greedy Solution: [ 7  9 18  8 11 18 11 12  8 13 13 24 11 18 20 19]\n",
      "Cost: 574.5513854177129\n",
      "Calls to evaluation function: 1\n"
     ]
    }
   ],
   "source": [
    "print(f'Greedy Solution: {greedy_sol}')\n",
    "print(f'Cost: {greedy_sol_cost}')\n",
    "print(f'Calls to evaluation function: {ev.total_calls}')"
   ]
  }
 ],
 "metadata": {
  "interpreter": {
   "hash": "7d779d0e5915710bac6ba9c7b3edbd525c48ff05a7164abbc05df9554ec16650"
  },
  "kernelspec": {
   "display_name": "Python 3.9.7 ('datascience')",
   "language": "python",
   "name": "python3"
  },
  "language_info": {
   "codemirror_mode": {
    "name": "ipython",
    "version": 3
   },
   "file_extension": ".py",
   "mimetype": "text/x-python",
   "name": "python",
   "nbconvert_exporter": "python",
   "pygments_lexer": "ipython3",
   "version": "3.9.7"
  },
  "orig_nbformat": 4
 },
 "nbformat": 4,
 "nbformat_minor": 2
}
