{
 "cells": [
  {
   "cell_type": "markdown",
   "metadata": {},
   "source": [
    "# Libraries"
   ]
  },
  {
   "cell_type": "code",
   "execution_count": 1,
   "metadata": {},
   "outputs": [],
   "source": [
    "import numpy as pd\n",
    "\n",
    "from pkg.constants    import *\n",
    "from pkg.evaluation   import Evaluation\n",
    "from pkg.algorithims  import *\n",
    "\n",
    "from time import time"
   ]
  },
  {
   "cell_type": "markdown",
   "metadata": {},
   "source": [
    "# Local Search: first best neighbor"
   ]
  },
  {
   "cell_type": "code",
   "execution_count": 2,
   "metadata": {},
   "outputs": [],
   "source": [
    "seeds = np.array([7054, 1354, 23503, 11268, 58283])\n",
    "\n",
    "ev = Evaluation()"
   ]
  },
  {
   "cell_type": "markdown",
   "metadata": {},
   "source": [
    "Granularity: 1"
   ]
  },
  {
   "cell_type": "code",
   "execution_count": 3,
   "metadata": {},
   "outputs": [
    {
     "name": "stdout",
     "output_type": "stream",
     "text": [
      "Tiempo total de ejecucion: 283.0664327144623\n",
      "Evaluaciones por ejecucion: [1341. 1593. 1211.  890.  726.]\n",
      "Costes por evaluacion: [370.857527   399.48869621 392.83515037 373.32602584 408.57238213]\n",
      "Evaluaciones medias 1152.2, evaluaciones std 311.06359478408916\n",
      "Coste medio 389.01595630890137, coste std 14.714759855861763\n"
     ]
    }
   ],
   "source": [
    "granularity = 1\n",
    "\n",
    "costs       = np.array([])\n",
    "evaluations = np.array([])\n",
    "\n",
    "ini = time()\n",
    "\n",
    "for s in seeds:\n",
    "\n",
    "    # set evauation calls counter to 0\n",
    "    ev.total_calls = 0\n",
    "\n",
    "    np.random.seed(s)\n",
    "\n",
    "    solution, cost = local_search(\n",
    "        granularity = granularity,\n",
    "        evaluation  = ev\n",
    "    )\n",
    "    \n",
    "    costs = np.append(costs, cost)\n",
    "    evaluations = np.append(evaluations, ev.total_calls)\n",
    "\n",
    "fin = time()\n",
    "\n",
    "print(f'Tiempo total de ejecucion: {fin-ini}')\n",
    "print(f'Evaluaciones por ejecucion: {evaluations}')\n",
    "print(f'Costes por evaluacion: {costs}')\n",
    "print(f'Evaluaciones medias {evaluations.mean()}, evaluaciones std {evaluations.std()}')\n",
    "print(f'Coste medio {costs.mean()}, coste std {costs.std()}')"
   ]
  },
  {
   "cell_type": "code",
   "execution_count": 4,
   "metadata": {},
   "outputs": [
    {
     "name": "stdout",
     "output_type": "stream",
     "text": [
      "Tiempo total de ejecucion: 217.34131741523743\n",
      "Evaluaciones por ejecucion: [ 991. 1176.  993.  507.  796.]\n",
      "Costes por evaluacion: [375.76585666 378.20385115 398.70770881 381.8566496  409.67560597]\n",
      "Evaluaciones medias 892.6, evaluaciones std 227.1991197166045\n",
      "Coste medio 388.84193443613106, coste std 13.147792238768794\n"
     ]
    }
   ],
   "source": [
    "granularity = 2\n",
    "\n",
    "costs       = np.array([])\n",
    "evaluations = np.array([])\n",
    "\n",
    "ini = time()\n",
    "\n",
    "for s in seeds:\n",
    "\n",
    "    # set evauation calls counter to 0\n",
    "    ev.total_calls = 0\n",
    "\n",
    "    np.random.seed(s)\n",
    "\n",
    "    solution, cost = local_search(\n",
    "        granularity = granularity,\n",
    "        evaluation  = ev\n",
    "    )\n",
    "    \n",
    "    costs = np.append(costs, cost)\n",
    "    evaluations = np.append(evaluations, ev.total_calls)\n",
    "\n",
    "fin = time()\n",
    "\n",
    "print(f'Tiempo total de ejecucion: {fin-ini}')\n",
    "print(f'Evaluaciones por ejecucion: {evaluations}')\n",
    "print(f'Costes por evaluacion: {costs}')\n",
    "print(f'Evaluaciones medias {evaluations.mean()}, evaluaciones std {evaluations.std()}')\n",
    "print(f'Coste medio {costs.mean()}, coste std {costs.std()}')"
   ]
  },
  {
   "cell_type": "code",
   "execution_count": 5,
   "metadata": {},
   "outputs": [
    {
     "name": "stdout",
     "output_type": "stream",
     "text": [
      "Tiempo total de ejecucion: 158.53598737716675\n",
      "Evaluaciones por ejecucion: [836. 671. 522. 571. 558.]\n",
      "Costes por evaluacion: [379.61505335 383.4743878  405.04529058 383.76803154 418.65330202]\n",
      "Evaluaciones medias 631.6, evaluaciones std 113.51933755973033\n",
      "Coste medio 394.1112130559422, coste std 15.179791063318186\n"
     ]
    }
   ],
   "source": [
    "granularity = 3\n",
    "\n",
    "costs       = np.array([])\n",
    "evaluations = np.array([])\n",
    "\n",
    "ini = time()\n",
    "\n",
    "for s in seeds:\n",
    "\n",
    "    # set evauation calls counter to 0\n",
    "    ev.total_calls = 0\n",
    "\n",
    "    np.random.seed(s)\n",
    "\n",
    "    solution, cost = local_search(\n",
    "        granularity = granularity,\n",
    "        evaluation  = ev\n",
    "    )\n",
    "    \n",
    "    costs = np.append(costs, cost)\n",
    "    evaluations = np.append(evaluations, ev.total_calls)\n",
    "\n",
    "fin = time()\n",
    "\n",
    "print(f'Tiempo total de ejecucion: {fin-ini}')\n",
    "print(f'Evaluaciones por ejecucion: {evaluations}')\n",
    "print(f'Costes por evaluacion: {costs}')\n",
    "print(f'Evaluaciones medias {evaluations.mean()}, evaluaciones std {evaluations.std()}')\n",
    "print(f'Coste medio {costs.mean()}, coste std {costs.std()}')"
   ]
  },
  {
   "cell_type": "code",
   "execution_count": 6,
   "metadata": {},
   "outputs": [
    {
     "name": "stdout",
     "output_type": "stream",
     "text": [
      "Tiempo total de ejecucion: 161.67233681678772\n",
      "Evaluaciones por ejecucion: [798. 735. 571. 494. 677.]\n",
      "Costes por evaluacion: [385.08296092 386.43358218 405.2946371  387.70697672 420.18068239]\n",
      "Evaluaciones medias 655.0, evaluaciones std 109.82713690158731\n",
      "Coste medio 396.93976786110636, coste std 13.756105473241693\n"
     ]
    }
   ],
   "source": [
    "granularity = 4\n",
    "\n",
    "costs       = np.array([])\n",
    "evaluations = np.array([])\n",
    "\n",
    "ini = time()\n",
    "\n",
    "for s in seeds:\n",
    "\n",
    "    # set evauation calls counter to 0\n",
    "    ev.total_calls = 0\n",
    "\n",
    "    np.random.seed(s)\n",
    "\n",
    "    solution, cost = local_search(\n",
    "        granularity = granularity,\n",
    "        evaluation  = ev\n",
    "    )\n",
    "    \n",
    "    costs = np.append(costs, cost)\n",
    "    evaluations = np.append(evaluations, ev.total_calls)\n",
    "\n",
    "fin = time()\n",
    "\n",
    "print(f'Tiempo total de ejecucion: {fin-ini}')\n",
    "print(f'Evaluaciones por ejecucion: {evaluations}')\n",
    "print(f'Costes por evaluacion: {costs}')\n",
    "print(f'Evaluaciones medias {evaluations.mean()}, evaluaciones std {evaluations.std()}')\n",
    "print(f'Coste medio {costs.mean()}, coste std {costs.std()}')"
   ]
  },
  {
   "cell_type": "code",
   "execution_count": 7,
   "metadata": {},
   "outputs": [
    {
     "name": "stdout",
     "output_type": "stream",
     "text": [
      "Tiempo total de ejecucion: 134.35945391654968\n",
      "Evaluaciones por ejecucion: [404. 469. 629. 543. 646.]\n",
      "Costes por evaluacion: [385.61613584 384.17878232 413.03955353 389.24454131 426.22149044]\n",
      "Evaluaciones medias 538.2, evaluaciones std 92.3978354724828\n",
      "Coste medio 399.6601006857325, coste std 16.910974119760002\n"
     ]
    }
   ],
   "source": [
    "granularity = 5\n",
    "\n",
    "costs       = np.array([])\n",
    "evaluations = np.array([])\n",
    "\n",
    "ini = time()\n",
    "\n",
    "for s in seeds:\n",
    "\n",
    "    # set evauation calls counter to 0\n",
    "    ev.total_calls = 0\n",
    "\n",
    "    np.random.seed(s)\n",
    "\n",
    "    solution, cost = local_search(\n",
    "        granularity = granularity,\n",
    "        evaluation  = ev\n",
    "    )\n",
    "    \n",
    "    costs = np.append(costs, cost)\n",
    "    evaluations = np.append(evaluations, ev.total_calls)\n",
    "\n",
    "fin = time()\n",
    "\n",
    "print(f'Tiempo total de ejecucion: {fin-ini}')\n",
    "print(f'Evaluaciones por ejecucion: {evaluations}')\n",
    "print(f'Costes por evaluacion: {costs}')\n",
    "print(f'Evaluaciones medias {evaluations.mean()}, evaluaciones std {evaluations.std()}')\n",
    "print(f'Coste medio {costs.mean()}, coste std {costs.std()}')"
   ]
  },
  {
   "cell_type": "code",
   "execution_count": 8,
   "metadata": {},
   "outputs": [
    {
     "name": "stdout",
     "output_type": "stream",
     "text": [
      "Tiempo total de ejecucion: 136.34985494613647\n",
      "Evaluaciones por ejecucion: [605. 602. 479. 505. 327.]\n",
      "Costes por evaluacion: [394.27138539 395.58614629 419.95739228 396.98084256 428.42151877]\n",
      "Evaluaciones medias 503.6, evaluaciones std 101.74399245164307\n",
      "Coste medio 407.04345705725717, coste std 14.278958230524724\n"
     ]
    }
   ],
   "source": [
    "granularity = 6\n",
    "\n",
    "costs       = np.array([])\n",
    "evaluations = np.array([])\n",
    "\n",
    "ini = time()\n",
    "\n",
    "for s in seeds:\n",
    "\n",
    "    # set evauation calls counter to 0\n",
    "    ev.total_calls = 0\n",
    "\n",
    "    np.random.seed(s)\n",
    "\n",
    "    solution, cost = local_search(\n",
    "        granularity = granularity,\n",
    "        evaluation  = ev\n",
    "    )\n",
    "    \n",
    "    costs = np.append(costs, cost)\n",
    "    evaluations = np.append(evaluations, ev.total_calls)\n",
    "\n",
    "fin = time()\n",
    "\n",
    "print(f'Tiempo total de ejecucion: {fin-ini}')\n",
    "print(f'Evaluaciones por ejecucion: {evaluations}')\n",
    "print(f'Costes por evaluacion: {costs}')\n",
    "print(f'Evaluaciones medias {evaluations.mean()}, evaluaciones std {evaluations.std()}')\n",
    "print(f'Coste medio {costs.mean()}, coste std {costs.std()}')"
   ]
  },
  {
   "cell_type": "markdown",
   "metadata": {},
   "source": [
    "# Local Search: best neighbor"
   ]
  }
 ],
 "metadata": {
  "interpreter": {
   "hash": "7d779d0e5915710bac6ba9c7b3edbd525c48ff05a7164abbc05df9554ec16650"
  },
  "kernelspec": {
   "display_name": "Python 3.9.7 ('datascience')",
   "language": "python",
   "name": "python3"
  },
  "language_info": {
   "codemirror_mode": {
    "name": "ipython",
    "version": 3
   },
   "file_extension": ".py",
   "mimetype": "text/x-python",
   "name": "python",
   "nbconvert_exporter": "python",
   "pygments_lexer": "ipython3",
   "version": "3.9.7"
  },
  "orig_nbformat": 4
 },
 "nbformat": 4,
 "nbformat_minor": 2
}
