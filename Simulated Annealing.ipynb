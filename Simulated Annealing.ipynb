{
 "cells": [
  {
   "cell_type": "markdown",
   "metadata": {},
   "source": [
    "# Libraries"
   ]
  },
  {
   "cell_type": "code",
   "execution_count": 1,
   "metadata": {},
   "outputs": [],
   "source": [
    "import numpy as np\n",
    "\n",
    "from pkg.constants    import *\n",
    "from pkg.evaluation   import Evaluation\n",
    "from pkg.algorithims  import *\n",
    "\n",
    "from time import time"
   ]
  },
  {
   "cell_type": "markdown",
   "metadata": {},
   "source": [
    "# Simulates Annealing"
   ]
  },
  {
   "cell_type": "code",
   "execution_count": 4,
   "metadata": {},
   "outputs": [],
   "source": [
    "seeds = np.array([7054, 1354, 23503, 11268, 58283])\n",
    "\n",
    "ev = Evaluation()\n",
    "\n",
    "granularity = 2 # estudiado en local search\n",
    "greedy_cost = 574.5513854177129"
   ]
  },
  {
   "cell_type": "markdown",
   "metadata": {},
   "source": [
    "A continuación se muestran los parámetros que quedan por ajustar y que ajustaremos en las siguientes celdas"
   ]
  },
  {
   "cell_type": "code",
   "execution_count": 5,
   "metadata": {},
   "outputs": [],
   "source": [
    "# k_max: maximo numero iteraciones: en el entorno de 80\n",
    "# condicion de parada\n",
    "k_max = 80\n",
    "\n",
    "# L(T): condicion enfriamiento. Numero fijo para cada iteracion\n",
    "# Se enfria la temperatura al final de una iteracion\n",
    "# La iteracion finaliza al visitar todos los vecinos\n",
    "L = 20\n",
    "\n",
    "# mu: tanto por uno [0,1], indica la probabilidad de aceptar una solucion peor que la inicial\n",
    "mu = 0.2\n",
    "\n",
    "# fi: probabilidad de aceptar una solucion un mu por 1 peor que la inicial\n",
    "fi = 0.2\n",
    "\n",
    "# Temperatura inicial\n",
    "t0 = mu * greedy_cost / (- np.log(fi))\n",
    "\n",
    "# Temperatura final\n",
    "tf = t0 / (1 + k_max)\n"
   ]
  },
  {
   "cell_type": "code",
   "execution_count": 8,
   "metadata": {},
   "outputs": [
    {
     "name": "stdout",
     "output_type": "stream",
     "text": [
      "Tiempo total de ejecucion: 404.46426272392273\n",
      "Evaluaciones por ejecucion: [1641. 1641. 1641. 1641. 1641.]\n",
      "Costes por evaluacion: [381.59247664 377.25661066 396.52623694 375.32203308 412.18449144]\n",
      "Evaluaciones medias 1641.0, evaluaciones std 0.0\n",
      "Coste medio 388.5763697532507, coste std 13.950863395706605\n"
     ]
    }
   ],
   "source": [
    "costs       = np.array([])\n",
    "evaluations = np.array([])\n",
    "\n",
    "ini = time()\n",
    "\n",
    "for s in seeds:\n",
    "\n",
    "    # set evaluation calls counter to 0\n",
    "    ev.total_calls = 0\n",
    "\n",
    "    np.random.seed(s)\n",
    "\n",
    "    solution, cost = simulated_an(\n",
    "        t0         = t0,\n",
    "        tf         = tf,\n",
    "        L          = L, \n",
    "        slots      = granularity, \n",
    "        evaluation = ev\n",
    "    )\n",
    "\n",
    "    costs = np.append(costs, cost)\n",
    "    evaluations = np.append(evaluations, ev.total_calls)\n",
    "\n",
    "fin = time()\n",
    "\n",
    "print(f'Tiempo total de ejecucion: {fin-ini}')\n",
    "print(f'Evaluaciones por ejecucion: {evaluations}')\n",
    "print(f'Costes por evaluacion: {costs}')\n",
    "print(f'Evaluaciones medias {evaluations.mean()}, evaluaciones std {evaluations.std()}')\n",
    "print(f'Coste medio {costs.mean()}, coste std {costs.std()}')"
   ]
  }
 ],
 "metadata": {
  "interpreter": {
   "hash": "7d779d0e5915710bac6ba9c7b3edbd525c48ff05a7164abbc05df9554ec16650"
  },
  "kernelspec": {
   "display_name": "Python 3.9.7 ('datascience')",
   "language": "python",
   "name": "python3"
  },
  "language_info": {
   "codemirror_mode": {
    "name": "ipython",
    "version": 3
   },
   "file_extension": ".py",
   "mimetype": "text/x-python",
   "name": "python",
   "nbconvert_exporter": "python",
   "pygments_lexer": "ipython3",
   "version": "3.9.7"
  },
  "orig_nbformat": 4
 },
 "nbformat": 4,
 "nbformat_minor": 2
}
