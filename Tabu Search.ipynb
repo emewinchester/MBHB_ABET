{
 "cells": [
  {
   "cell_type": "markdown",
   "metadata": {},
   "source": [
    "# Libraries"
   ]
  },
  {
   "cell_type": "code",
   "execution_count": 1,
   "metadata": {},
   "outputs": [],
   "source": [
    "import numpy as np\n",
    "\n",
    "from pkg.constants    import *\n",
    "from pkg.evaluation   import Evaluation\n",
    "from pkg.algorithims  import *\n",
    "\n",
    "from time import time"
   ]
  },
  {
   "cell_type": "markdown",
   "metadata": {},
   "source": [
    "# Tabu Search"
   ]
  },
  {
   "cell_type": "code",
   "execution_count": 4,
   "metadata": {},
   "outputs": [],
   "source": [
    "seeds = np.array([7054, 1354, 23503, 11268, 58283])\n",
    "\n",
    "ev = Evaluation()\n",
    "\n",
    "granularity = 2 # estudiado en local search\n",
    "reboots = 4\n"
   ]
  },
  {
   "cell_type": "code",
   "execution_count": 3,
   "metadata": {},
   "outputs": [],
   "source": [
    "# parametros para ajustar\n",
    "tenure = 4\n",
    "total_iterations = 40\n",
    "total_neighbors = 20"
   ]
  },
  {
   "cell_type": "code",
   "execution_count": 8,
   "metadata": {},
   "outputs": [
    {
     "name": "stdout",
     "output_type": "stream",
     "text": [
      "[9.0e+000 4.9e-324 1.9e+001 1.0e+000 2.6e+001 2.5e-323 5.0e+000 2.9e+001\n",
      " 1.2e+001 4.0e+000 1.6e+001 2.5e+001 4.0e+000 2.4e+001 2.1e+001 2.4e+001] 219.0\n",
      "[2.2e+001 4.9e-324 1.0e+000 2.7e+001 2.3e+001 1.0e+001 2.6e+001 2.5e+001\n",
      " 4.0e-323 1.1e+001 1.8e+001 2.0e+001 2.9e+001 5.0e+000 1.0e+000 7.4e-323] 218.0\n",
      "[10. 25. 18. 21. 30.  6.  2.  7.  2. 16.  9.  2. 16. 27. 19.  6.] 216.0\n",
      "[2.4e+001 1.4e+001 1.3e+001 1.0e+000 2.6e+001 5.0e+000 3.0e-323 3.0e+001\n",
      " 2.2e+001 2.1e+001 2.0e+000 6.0e+000 5.0e+000 8.0e+000 1.9e+001 2.2e+001] 218.0\n",
      "[2.8e+001 4.0e+000 3.0e+000 2.9e+001 2.0e+000 2.2e+001 4.0e+000 3.0e+000\n",
      " 2.5e+001 5.0e+000 9.0e+000 9.0e+000 2.2e+001 2.6e+001 6.9e-323 2.7e+001] 218.0\n",
      "[1.6e+001 2.0e+000 2.8e+001 1.5e-323 1.9e+001 2.8e+001 7.0e+000 2.9e+001\n",
      " 8.0e+000 2.0e+000 1.0e+000 2.7e+001 2.7e+001 2.1e+001 6.9e-323 2.0e+000] 217.0\n",
      "[3.0e+001 4.9e-324 9.9e-324 1.5e-323 3.0e+000 1.8e+001 2.9e+001 2.5e+001\n",
      " 3.0e+000 2.0e+001 2.8e+001 9.0e+000 1.5e+001 8.0e+000 6.9e-323 3.0e+001] 218.0\n",
      "[0.0e+000 1.6e+001 3.0e+001 2.3e+001 2.6e+001 3.0e+001 3.0e+000 3.5e-323\n",
      " 2.4e+001 4.4e-323 4.9e-323 5.4e-323 2.8e+001 2.8e+001 4.0e+000 5.0e+000] 217.0\n",
      "Tiempo total de ejecucion: 197.92280387878418\n",
      "Evaluaciones por ejecucion: [805. 804. 804. 805. 804.]\n",
      "Costes por evaluacion: [421.49300811 388.7057194  420.353249   411.08242532 375.09899863]\n",
      "Evaluaciones medias 804.4, evaluaciones std 0.48989794855663565\n",
      "Coste medio 403.34668009087443, coste std 18.388276692947574\n"
     ]
    }
   ],
   "source": [
    "costs       = np.array([])\n",
    "evaluations = np.array([])\n",
    "\n",
    "ini = time()\n",
    "\n",
    "for s in seeds:\n",
    "\n",
    "    # set evaluation calls counter to 0\n",
    "    ev.total_calls = 0\n",
    "\n",
    "    np.random.seed(s)\n",
    "\n",
    "    solution, cost = tabu_search(\n",
    "        tenure           = tenure,\n",
    "        reboots          = reboots,\n",
    "        total_iterations = total_iterations,\n",
    "        slots            = granularity,\n",
    "        total_neighbors  = total_neighbors,\n",
    "        evaluation       = ev\n",
    "    )\n",
    "\n",
    "    costs = np.append(costs, cost)\n",
    "    evaluations = np.append(evaluations, ev.total_calls)\n",
    "\n",
    "fin = time()\n",
    "\n",
    "print(f'Tiempo total de ejecucion: {fin-ini}')\n",
    "print(f'Evaluaciones por ejecucion: {evaluations}')\n",
    "print(f'Costes por evaluacion: {costs}')\n",
    "print(f'Evaluaciones medias {evaluations.mean()}, evaluaciones std {evaluations.std()}')\n",
    "print(f'Coste medio {costs.mean()}, coste std {costs.std()}')\n",
    "    "
   ]
  }
 ],
 "metadata": {
  "interpreter": {
   "hash": "7d779d0e5915710bac6ba9c7b3edbd525c48ff05a7164abbc05df9554ec16650"
  },
  "kernelspec": {
   "display_name": "Python 3.9.7 ('datascience')",
   "language": "python",
   "name": "python3"
  },
  "language_info": {
   "codemirror_mode": {
    "name": "ipython",
    "version": 3
   },
   "file_extension": ".py",
   "mimetype": "text/x-python",
   "name": "python",
   "nbconvert_exporter": "python",
   "pygments_lexer": "ipython3",
   "version": "3.9.7"
  },
  "orig_nbformat": 4
 },
 "nbformat": 4,
 "nbformat_minor": 2
}
