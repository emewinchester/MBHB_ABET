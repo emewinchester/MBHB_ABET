{
 "cells": [
  {
   "cell_type": "code",
   "execution_count": 1,
   "metadata": {},
   "outputs": [],
   "source": [
    "import pkg.utils\n"
   ]
  },
  {
   "cell_type": "code",
   "execution_count": 2,
   "metadata": {},
   "outputs": [
    {
     "ename": "TypeError",
     "evalue": "generate_capacities_for_RS() missing 5 required positional arguments: 'sequence', 'stations', 'total_seeds', 'iterations_per_seed', and 'max_capacity'",
     "output_type": "error",
     "traceback": [
      "\u001b[1;31m---------------------------------------------------------------------------\u001b[0m",
      "\u001b[1;31mTypeError\u001b[0m                                 Traceback (most recent call last)",
      "\u001b[1;32mc:\\Users\\Marina\\Desktop\\MBHBp\\MBHB_ABET\\cuaderno_pruebas.ipynb Cell 2'\u001b[0m in \u001b[0;36m<cell line: 1>\u001b[1;34m()\u001b[0m\n\u001b[1;32m----> <a href='vscode-notebook-cell:/c%3A/Users/Marina/Desktop/MBHBp/MBHB_ABET/cuaderno_pruebas.ipynb#ch0000001?line=0'>1</a>\u001b[0m pkg\u001b[39m.\u001b[39;49mutils\u001b[39m.\u001b[39;49mgenerate_capacities_for_RS()\n",
      "\u001b[1;31mTypeError\u001b[0m: generate_capacities_for_RS() missing 5 required positional arguments: 'sequence', 'stations', 'total_seeds', 'iterations_per_seed', and 'max_capacity'"
     ]
    }
   ],
   "source": [
    "pkg.utils.generate_capacities_for_RS()"
   ]
  }
 ],
 "metadata": {
  "interpreter": {
   "hash": "7d779d0e5915710bac6ba9c7b3edbd525c48ff05a7164abbc05df9554ec16650"
  },
  "kernelspec": {
   "display_name": "Python 3.9.7 ('datascience')",
   "language": "python",
   "name": "python3"
  },
  "language_info": {
   "codemirror_mode": {
    "name": "ipython",
    "version": 3
   },
   "file_extension": ".py",
   "mimetype": "text/x-python",
   "name": "python",
   "nbconvert_exporter": "python",
   "pygments_lexer": "ipython3",
   "version": "3.9.7"
  },
  "orig_nbformat": 4
 },
 "nbformat": 4,
 "nbformat_minor": 2
}
