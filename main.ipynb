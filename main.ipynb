{
 "cells": [
  {
   "cell_type": "markdown",
   "metadata": {},
   "source": [
    "# LIBRARIES"
   ]
  },
  {
   "cell_type": "code",
   "execution_count": 1,
   "metadata": {},
   "outputs": [],
   "source": [
    "import pandas as pd\n",
    "import numpy as np\n",
    "from pkg.constants import *\n",
    "from pkg.greedy import greedy\n",
    "from pkg.evaluation import Evaluation\n",
    "from time import time\n",
    "from pkg.utils import *\n",
    "from pkg.random_search import random_search\n",
    "\n"
   ]
  },
  {
   "cell_type": "markdown",
   "metadata": {},
   "source": [
    "# LECTURA DE DATOS"
   ]
  },
  {
   "cell_type": "code",
   "execution_count": 2,
   "metadata": {},
   "outputs": [],
   "source": [
    "deltas_df   = pd.read_csv(DELTAS_5M_PATH) \n",
    "deltas_matrix   = deltas_df.to_numpy()"
   ]
  },
  {
   "cell_type": "markdown",
   "metadata": {},
   "source": [
    "# SOLUCIÓN GREEDY"
   ]
  },
  {
   "cell_type": "markdown",
   "metadata": {},
   "source": [
    "## GENERA SOLUCION "
   ]
  },
  {
   "cell_type": "code",
   "execution_count": 3,
   "metadata": {},
   "outputs": [
    {
     "data": {
      "text/plain": [
       "220.0"
      ]
     },
     "execution_count": 3,
     "metadata": {},
     "output_type": "execute_result"
    }
   ],
   "source": [
    "initial_state = deltas_matrix[0,:]\n",
    "greedy_sol = greedy(initial_state)\n",
    "greedy_sol.sum()"
   ]
  },
  {
   "cell_type": "markdown",
   "metadata": {},
   "source": [
    "## EVALUA SOLUCION"
   ]
  },
  {
   "cell_type": "code",
   "execution_count": 4,
   "metadata": {},
   "outputs": [
    {
     "data": {
      "text/plain": [
       "574.5513854177129"
      ]
     },
     "execution_count": 4,
     "metadata": {},
     "output_type": "execute_result"
    }
   ],
   "source": [
    "# 574.5513854177129\n",
    "\n",
    "evaluation = Evaluation()\n",
    "\n",
    "evaluation.evaluate(greedy_sol)"
   ]
  },
  {
   "cell_type": "markdown",
   "metadata": {},
   "source": [
    "# BUSQUEDA ALEATORIA"
   ]
  },
  {
   "cell_type": "markdown",
   "metadata": {},
   "source": [
    "### GENERACIÓN DE SEMILLAS\n",
    "Las semillas deben guardarse para poder repetir las ejecuciones y compaar resul"
   ]
  },
  {
   "cell_type": "code",
   "execution_count": 5,
   "metadata": {},
   "outputs": [
    {
     "name": "stdout",
     "output_type": "stream",
     "text": [
      "[81934 37419 81433 53545 35011]\n"
     ]
    }
   ],
   "source": [
    "seeds = np.random.randint(0,99999,SEEDS)\n",
    "print(seeds)"
   ]
  },
  {
   "cell_type": "markdown",
   "metadata": {},
   "source": [
    "### GENERACIÓN SOLUCIONES VIABLES"
   ]
  },
  {
   "cell_type": "code",
   "execution_count": 6,
   "metadata": {},
   "outputs": [],
   "source": [
    "# random_sequence guarda todos los numeros necesarios para generar todas las\n",
    "# soluciones pedidas por cada semilla\n",
    "\n",
    "stations = deltas_matrix.shape[1]\n",
    "\n",
    "random_sequence = np.empty((SEEDS, stations* BA_TOTAL_ITERATIONS))\n",
    "\n",
    "for i in range(SEEDS):\n",
    "    np.random.seed(seeds[i])\n",
    "    random_sequence[i,:] = np.random.randint(2, 10, stations * BA_TOTAL_ITERATIONS)"
   ]
  },
  {
   "cell_type": "code",
   "execution_count": 7,
   "metadata": {},
   "outputs": [],
   "source": [
    "capacities = generate_capacities_for_RS(\n",
    "    sequence            = random_sequence, \n",
    "    stations            = stations\n",
    ")\n"
   ]
  },
  {
   "cell_type": "markdown",
   "metadata": {},
   "source": [
    "### ALGORITMO"
   ]
  },
  {
   "cell_type": "code",
   "execution_count": 9,
   "metadata": {},
   "outputs": [],
   "source": [
    "best_solution_per_seed = np.empty((SEEDS, stations))\n",
    "\n",
    "\n",
    "for i in range(SEEDS):\n",
    "    best_solution_per_seed[i,:] = random_search(\n",
    "        capacities = capacities[i,:,:].copy(),\n",
    "        evaluation = evaluation\n",
    "    )"
   ]
  },
  {
   "cell_type": "markdown",
   "metadata": {},
   "source": [
    "# BUSQUEDA LOCAL"
   ]
  },
  {
   "cell_type": "code",
   "execution_count": null,
   "metadata": {},
   "outputs": [],
   "source": []
  },
  {
   "cell_type": "code",
   "execution_count": null,
   "metadata": {},
   "outputs": [],
   "source": []
  },
  {
   "cell_type": "code",
   "execution_count": null,
   "metadata": {},
   "outputs": [],
   "source": []
  },
  {
   "cell_type": "code",
   "execution_count": null,
   "metadata": {},
   "outputs": [],
   "source": []
  },
  {
   "cell_type": "code",
   "execution_count": null,
   "metadata": {},
   "outputs": [],
   "source": []
  },
  {
   "cell_type": "code",
   "execution_count": null,
   "metadata": {},
   "outputs": [],
   "source": []
  },
  {
   "cell_type": "code",
   "execution_count": null,
   "metadata": {},
   "outputs": [],
   "source": []
  },
  {
   "cell_type": "markdown",
   "metadata": {},
   "source": [
    "# ANOTACIONES DIA 21/03/2022\n",
    "Dia 4: defensa de la práctica\n",
    "la bsuqueda  tabu deberá tardar más o menos lo que tarda el enfriamiento simulado.\n",
    "No tenemos en cuenta si los vecinos se repiten o no (no lo combprobamos.)\n",
    "velocidad de movimiento: 5 (nos dice cuantas posibilidades hay)\n",
    "matriz de frecuencias: como se hace??? \n",
    "greedy: queremos hacer algo inversamente prorporcional a lo que ha salido (hacemos la inversa de cada casilla de la matriz de frecuencias???) y luego normalizo (?)\n",
    "ruleta de probabilidad inversa -> buscar libreria, que seguro que está hecho en algun lado. Si no, está el pseudo en la práctica.\n",
    "\n",
    "la condicion de parada: que sea mayor o igual al numero de iteraciones \n",
    "generar vecinos tiene la restriccion tabu\n",
    "cogemos el algoritmo de busqueda local y vmos añadiendo trocitos\n",
    "la parte que suele generar más dudas suele ser la parte del greedy\n"
   ]
  },
  {
   "cell_type": "markdown",
   "metadata": {},
   "source": []
  },
  {
   "cell_type": "markdown",
   "metadata": {},
   "source": []
  },
  {
   "cell_type": "markdown",
   "metadata": {},
   "source": []
  }
 ],
 "metadata": {
  "interpreter": {
   "hash": "7d779d0e5915710bac6ba9c7b3edbd525c48ff05a7164abbc05df9554ec16650"
  },
  "kernelspec": {
   "display_name": "Python 3.9.7 ('datascience')",
   "language": "python",
   "name": "python3"
  },
  "language_info": {
   "codemirror_mode": {
    "name": "ipython",
    "version": 3
   },
   "file_extension": ".py",
   "mimetype": "text/x-python",
   "name": "python",
   "nbconvert_exporter": "python",
   "pygments_lexer": "ipython3",
   "version": "3.9.7"
  },
  "orig_nbformat": 4
 },
 "nbformat": 4,
 "nbformat_minor": 2
}
