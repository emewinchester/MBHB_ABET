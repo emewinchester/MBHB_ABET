{
 "cells": [
  {
   "cell_type": "markdown",
   "metadata": {},
   "source": [
    "# LIBRARIES"
   ]
  },
  {
   "cell_type": "code",
   "execution_count": 1,
   "metadata": {},
   "outputs": [],
   "source": [
    "import pandas as pd\n",
    "import numpy  as np\n",
    "import time\n",
    "import matplotlib.pyplot as plt\n",
    "\n",
    "from pkg.constants    import *\n",
    "from pkg.evaluation   import Evaluation\n",
    "from pkg.utils        import *\n",
    "from pkg.algorithims  import *\n",
    "from pkg.neighborhood import *\n",
    "\n",
    "\n",
    "\n",
    "from pkg.tabu_list import TabuList\n",
    "\n",
    "from itertools import permutations\n",
    "from random    import shuffle\n",
    "\n"
   ]
  },
  {
   "cell_type": "markdown",
   "metadata": {},
   "source": [
    "# SEED PRODUCTION"
   ]
  },
  {
   "cell_type": "code",
   "execution_count": 2,
   "metadata": {},
   "outputs": [
    {
     "name": "stdout",
     "output_type": "stream",
     "text": [
      "[ 7054  1354 23503 11268 58283]\n"
     ]
    }
   ],
   "source": [
    "# Semillas adri\n",
    "# seeds = np.array([12345, 54321, 12221, 22211, 22212])\n",
    "\n",
    "# semillas preestablecidas\n",
    "seeds = np.array([7054, 1354, 23503, 11268, 58283])\n",
    "print(seeds)"
   ]
  },
  {
   "cell_type": "markdown",
   "metadata": {},
   "source": [
    "# EVALUATION OBJECT"
   ]
  },
  {
   "cell_type": "code",
   "execution_count": 3,
   "metadata": {},
   "outputs": [],
   "source": [
    "ev = Evaluation()"
   ]
  },
  {
   "cell_type": "markdown",
   "metadata": {},
   "source": [
    "# IMPLEMENATION OF ALGORITHIMS"
   ]
  },
  {
   "cell_type": "markdown",
   "metadata": {},
   "source": [
    "## LOCAL SEARCH\n",
    "first best neighbor"
   ]
  },
  {
   "cell_type": "code",
   "execution_count": null,
   "metadata": {},
   "outputs": [],
   "source": [
    "granularity = 1\n",
    "\n",
    "for i in range(SEEDS):\n",
    "\n",
    "    np.random.seed(seeds[i])\n",
    "\n",
    "    ls_sol, ls_sol_cost, calls = local_search(\n",
    "        granularity = granularity,\n",
    "        evaluation  = ev\n",
    "    )\n",
    "    \n",
    "    print(ls_sol, round(ls_sol_cost,4), calls)\n",
    "\n",
    "  "
   ]
  },
  {
   "cell_type": "markdown",
   "metadata": {},
   "source": [
    "## SIMULATED ANNEALING"
   ]
  },
  {
   "cell_type": "code",
   "execution_count": null,
   "metadata": {},
   "outputs": [],
   "source": [
    "# parametros a ajustar:\n",
    "slots = 1\n",
    "\n",
    "# k_max: maximo numero iteraciones: en el entorno de 80\n",
    "# condicion de parada\n",
    "k_max = 80\n",
    "\n",
    "# L(T): condicion enfriamiento. Numero fijo para cada iteracion\n",
    "# Se enfria la temperatura al final de una iteracion\n",
    "# La iteracion finaliza al visitar todos los vecinos\n",
    "L = 20\n",
    "\n",
    "\n",
    "# Esquema de enfriamiento: Cauchy\n",
    "# tk = t0/(1+k)\n",
    "\n",
    "# mu: tanto por uno [0,1], indica la probabilidad de aceptar una solucion peor que la inicial\n",
    "mu = 0.2\n",
    "\n",
    "# fi: probabilidad de aceptar una solucion un mu por 1 peor que la inicial\n",
    "fi = 0.2\n",
    "\n",
    "# Temperatura inicial\n",
    "t0 = mu * greedy_sol_cost / (- np.log(fi))\n",
    "\n",
    "# Temperatura final\n",
    "tf = t0 / (1 + k_max)\n",
    "\n"
   ]
  },
  {
   "cell_type": "code",
   "execution_count": null,
   "metadata": {},
   "outputs": [],
   "source": [
    "for i in range(SEEDS):\n",
    "    np.random.seed(seeds[i])\n",
    "    sa_solution, sa_cost = simulated_an(t0,L,tf,slots,ev)\n",
    "    print(sa_solution, round(sa_cost, 4))\n",
    "\n"
   ]
  },
  {
   "cell_type": "markdown",
   "metadata": {},
   "source": [
    "##  TABU SEARCH"
   ]
  },
  {
   "cell_type": "code",
   "execution_count": 4,
   "metadata": {},
   "outputs": [],
   "source": [
    "# externo\n",
    "reboots = 4\n",
    "total_iterations = 40\n",
    "\n",
    "total_neighbors = 20\n",
    "tenure = 4\n",
    "\n",
    "slots = 4 # esto por que????\n"
   ]
  },
  {
   "cell_type": "code",
   "execution_count": 7,
   "metadata": {},
   "outputs": [
    {
     "name": "stdout",
     "output_type": "stream",
     "text": [
      "[22.  4.  6. 23.  6. 18. 20. 19.  2. 17. 15.  8.  8.  9. 15. 23.] 215.0\n",
      "[21. 14. 19. 15. 18.  5. 11.  7.  9. 18. 15. 24. 11. 12.  9. 12.] 409.5282\n",
      "[2.0e+001 2.8e+001 3.0e+000 1.3e+001 2.7e+001 2.5e-323 8.0e+000 2.6e+001\n",
      " 2.9e+001 4.4e-323 6.0e+000 5.4e-323 5.9e-323 2.3e+001 7.0e+000 2.9e+001] 219.0\n",
      "[10. 11. 18. 22. 17. 15. 13. 12. 10. 16. 15. 24.  4.  6. 12. 14.] 393.0349\n",
      "[ 2.  1. 27. 22.  5. 27.  7.  5. 30. 19.  1. 15. 12. 25.  4. 15.] 217.0\n",
      "[10.  6. 19. 28.  2.  7.  2. 25.  1. 22. 25. 11. 20. 11.  8. 19.] 216.0\n",
      "[26. 13. 19.  8.  2. 17. 24.  1. 17.  3.  2. 26. 17.  2. 16. 25.] 218.0\n",
      "[17. 11. 14. 14. 17. 11. 11.  9. 10. 17. 18. 27.  6. 14. 11. 13.] 396.0466\n",
      "[0.0e+000 3.0e+001 9.9e-324 1.2e+001 2.0e-323 2.1e+001 3.0e+000 1.8e+001\n",
      " 6.0e+000 2.6e+001 2.0e+001 2.7e+001 2.4e+001 2.8e+001 6.9e-323 3.0e+000] 218.0\n",
      "[13. 12. 18. 18. 16. 15. 12.  7. 10. 18. 18. 25.  4. 14.  9. 11.] 388.136\n",
      "[1.5e+001 1.4e+001 2.4e+001 1.6e+001 2.0e-323 2.9e+001 2.6e+001 3.5e-323\n",
      " 4.0e-323 1.0e+001 4.9e-323 2.4e+001 1.6e+001 2.2e+001 6.9e-323 2.1e+001] 217.0\n",
      "[ 8. 28.  3.  4. 27.  4. 23.  1. 18. 28.  4.  5. 21. 14. 26.  2.] 216.0\n",
      "[19. 12. 20. 16. 20. 14. 10. 10. 11. 14. 12. 22.  3.  4. 20. 12.] 390.0415\n"
     ]
    }
   ],
   "source": [
    "for seed in seeds:\n",
    "    np.random.seed(seed)\n",
    "    ts_sol, ts_sol_cost = tabu_search(\n",
    "        tenure           = tenure,\n",
    "        reboots          = reboots,\n",
    "        total_iterations = total_iterations,\n",
    "        slots            = slots,\n",
    "        total_neighbors  = total_neighbors,\n",
    "        evaluation       = ev\n",
    "    )\n",
    "    b = ts_sol\n",
    "    print(ts_sol, round(ts_sol_cost, 4))"
   ]
  }
 ],
 "metadata": {
  "interpreter": {
   "hash": "7d779d0e5915710bac6ba9c7b3edbd525c48ff05a7164abbc05df9554ec16650"
  },
  "kernelspec": {
   "display_name": "Python 3.9.7 ('datascience')",
   "language": "python",
   "name": "python3"
  },
  "language_info": {
   "codemirror_mode": {
    "name": "ipython",
    "version": 3
   },
   "file_extension": ".py",
   "mimetype": "text/x-python",
   "name": "python",
   "nbconvert_exporter": "python",
   "pygments_lexer": "ipython3",
   "version": "3.9.7"
  },
  "orig_nbformat": 4
 },
 "nbformat": 4,
 "nbformat_minor": 2
}
