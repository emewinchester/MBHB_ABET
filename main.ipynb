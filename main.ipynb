{
 "cells": [
  {
   "cell_type": "markdown",
   "metadata": {},
   "source": [
    "# LIBRARIES"
   ]
  },
  {
   "cell_type": "code",
   "execution_count": 18,
   "metadata": {},
   "outputs": [],
   "source": [
    "import pandas as pd\n",
    "import numpy as np\n",
    "from pkg.constants import *\n",
    "from pkg.greedy import greedy\n",
    "from pkg.evaluation import Evaluation\n",
    "from time import time\n",
    "\n"
   ]
  },
  {
   "cell_type": "markdown",
   "metadata": {},
   "source": [
    "# LECTURA DE DATOS"
   ]
  },
  {
   "cell_type": "code",
   "execution_count": 19,
   "metadata": {},
   "outputs": [],
   "source": [
    "deltas_df   = pd.read_csv(DELTAS_5M_PATH) \n",
    "deltas_matrix   = deltas_df.to_numpy()"
   ]
  },
  {
   "cell_type": "markdown",
   "metadata": {},
   "source": [
    "# SOLUCIÓN GREEDY"
   ]
  },
  {
   "cell_type": "markdown",
   "metadata": {},
   "source": [
    "## GENERA SOLUCION "
   ]
  },
  {
   "cell_type": "code",
   "execution_count": 20,
   "metadata": {},
   "outputs": [
    {
     "data": {
      "text/plain": [
       "220.0"
      ]
     },
     "execution_count": 20,
     "metadata": {},
     "output_type": "execute_result"
    }
   ],
   "source": [
    "initial_state = deltas_matrix[0,:]\n",
    "greedy_sol = greedy(initial_state)\n",
    "greedy_sol.sum()"
   ]
  },
  {
   "cell_type": "markdown",
   "metadata": {},
   "source": [
    "## EVALUA SOLUCION"
   ]
  },
  {
   "cell_type": "code",
   "execution_count": 21,
   "metadata": {},
   "outputs": [
    {
     "data": {
      "text/plain": [
       "574.5513854177129"
      ]
     },
     "execution_count": 21,
     "metadata": {},
     "output_type": "execute_result"
    }
   ],
   "source": [
    "# 574.5513854177129\n",
    "\n",
    "evaluation = Evaluation()\n",
    "\n",
    "evaluation.evaluate(greedy_sol)"
   ]
  },
  {
   "cell_type": "markdown",
   "metadata": {},
   "source": [
    "# BUSQUEDA ALEATORIA"
   ]
  },
  {
   "cell_type": "markdown",
   "metadata": {},
   "source": [
    "### GENERACIÓN DE SEMILLAS\n",
    "Las semillas deben guardarse para poder repetir las ejecuciones y compaar resul"
   ]
  },
  {
   "cell_type": "code",
   "execution_count": 25,
   "metadata": {},
   "outputs": [
    {
     "name": "stdout",
     "output_type": "stream",
     "text": [
      "[88050 30580 60841  5078 35366]\n"
     ]
    }
   ],
   "source": [
    "seeds = np.random.randint(0,99999,5)\n",
    "print(seeds)"
   ]
  },
  {
   "cell_type": "markdown",
   "metadata": {},
   "source": [
    "### GENERAR SOLUCIONES VIABLES"
   ]
  },
  {
   "cell_type": "code",
   "execution_count": 26,
   "metadata": {},
   "outputs": [],
   "source": [
    "def generate_solution(vector, stations, limit_capacity):\n",
    "    capacity = vector.copy()\n",
    "\n",
    "    capacity = np.round(capacity * limit_capacity / np.sum(capacity))\n",
    "    total_gaps = np.sum(capacity)\n",
    "\n",
    "    if total_gaps > limit_capacity:\n",
    "        greater_station = np.argmax(capacity)\n",
    "        capacity[greater_station] -= total_gaps - limit_capacity\n",
    "    \n",
    "    return capacity"
   ]
  },
  {
   "cell_type": "code",
   "execution_count": 28,
   "metadata": {},
   "outputs": [],
   "source": [
    "# Generamos BA_TOTAL_ITERATIONS vectores de capacidad\n",
    "stations = deltas_matrix.shape[1]\n",
    "\n",
    "np.random.seed(seeds[0])\n",
    "random_sequence = np.random.randint(2,10,stations * (BA_TOTAL_ITERATIONS))\n",
    "\n",
    "# cada fila de capacities es una posible solucion de la BA\n",
    "capacities = np.zeros((BA_TOTAL_ITERATIONS,stations))\n",
    "\n",
    "# Relleneamos capacities con soluciones viables\n",
    "initial, leap = 0, stations\n",
    "\n",
    "control = np.zeros(BA_TOTAL_ITERATIONS)\n",
    "\n",
    "for i in range(0,BA_TOTAL_ITERATIONS):\n",
    "\n",
    "    # Rellenamos la fila con los numeros aleatorios\n",
    "    vector = random_sequence[initial:initial+leap].copy()\n",
    "    initial +=leap\n",
    "\n",
    "    capacities[i,:] = generate_solution(\n",
    "        vector         = vector,\n",
    "        stations       = stations,\n",
    "        limit_capacity = MAX_CAPACITY\n",
    "    )\n",
    "    \n",
    "    control[i] = np.sum(capacities[i,:])\n",
    "\n"
   ]
  },
  {
   "cell_type": "markdown",
   "metadata": {},
   "source": [
    "### ALGORITMO"
   ]
  },
  {
   "cell_type": "code",
   "execution_count": 32,
   "metadata": {},
   "outputs": [
    {
     "name": "stdout",
     "output_type": "stream",
     "text": [
      "[16.  9. 12. 16. 16. 19. 14. 12. 12. 16. 19. 21.  7.  9.  7. 14.]\n",
      "437.7384250726773\n",
      "219.0\n"
     ]
    }
   ],
   "source": [
    "initial_solution = capacities[0]\n",
    "current_solution = initial_solution\n",
    "best_solution = current_solution\n",
    "\n",
    "best_solution_cost = evaluation.evaluate(best_solution)\n",
    "\n",
    "for i in range(1,BA_TOTAL_ITERATIONS):\n",
    "    current_solution = capacities[i]\n",
    "    current_solution_cost = evaluation.evaluate(current_solution)\n",
    "\n",
    "    if current_solution_cost < best_solution_cost:\n",
    "        best_solution      = current_solution\n",
    "        best_solution_cost = current_solution_cost\n",
    "\n",
    "print(best_solution)\n",
    "print(best_solution_cost)\n",
    "print(np.sum(best_solution))\n",
    "\n",
    "# [16.  9. 12. 16. 16. 19. 14. 12. 12. 16. 19. 21.  7.  9.  7. 14.]"
   ]
  },
  {
   "cell_type": "markdown",
   "metadata": {},
   "source": [
    "# BUSQUEDA LOCAL"
   ]
  },
  {
   "cell_type": "code",
   "execution_count": null,
   "metadata": {},
   "outputs": [],
   "source": []
  },
  {
   "cell_type": "code",
   "execution_count": null,
   "metadata": {},
   "outputs": [],
   "source": []
  },
  {
   "cell_type": "code",
   "execution_count": null,
   "metadata": {},
   "outputs": [],
   "source": []
  },
  {
   "cell_type": "code",
   "execution_count": null,
   "metadata": {},
   "outputs": [],
   "source": []
  },
  {
   "cell_type": "code",
   "execution_count": null,
   "metadata": {},
   "outputs": [],
   "source": []
  },
  {
   "cell_type": "code",
   "execution_count": null,
   "metadata": {},
   "outputs": [],
   "source": []
  },
  {
   "cell_type": "code",
   "execution_count": null,
   "metadata": {},
   "outputs": [],
   "source": []
  },
  {
   "cell_type": "code",
   "execution_count": null,
   "metadata": {},
   "outputs": [],
   "source": []
  },
  {
   "cell_type": "code",
   "execution_count": null,
   "metadata": {},
   "outputs": [],
   "source": []
  },
  {
   "cell_type": "markdown",
   "metadata": {},
   "source": [
    "# ANOTACIONES DIA 21/03/2022\n",
    "Dia 4: defensa de la práctica\n",
    "la bsuqueda  tabu deberá tardar más o menos lo que tarda el enfriamiento simulado.\n",
    "No tenemos en cuenta si los vecinos se repiten o no (no lo combprobamos.)\n",
    "velocidad de movimiento: 5 (nos dice cuantas posibilidades hay)\n",
    "matriz de frecuencias: como se hace??? \n",
    "greedy: queremos hacer algo inversamente prorporcional a lo que ha salido (hacemos la inversa de cada casilla de la matriz de frecuencias???) y luego normalizo (?)\n",
    "ruleta de probabilidad inversa -> buscar libreria, que seguro que está hecho en algun lado. Si no, está el pseudo en la práctica.\n",
    "\n",
    "la condicion de parada: que sea mayor o igual al numero de iteraciones \n",
    "generar vecinos tiene la restriccion tabu\n",
    "cogemos el algoritmo de busqueda local y vmos añadiendo trocitos\n",
    "la parte que suele generar más dudas suele ser la parte del greedy\n"
   ]
  },
  {
   "cell_type": "markdown",
   "metadata": {},
   "source": []
  },
  {
   "cell_type": "markdown",
   "metadata": {},
   "source": []
  },
  {
   "cell_type": "markdown",
   "metadata": {},
   "source": []
  }
 ],
 "metadata": {
  "interpreter": {
   "hash": "7d779d0e5915710bac6ba9c7b3edbd525c48ff05a7164abbc05df9554ec16650"
  },
  "kernelspec": {
   "display_name": "Python 3.9.7 ('datascience')",
   "language": "python",
   "name": "python3"
  },
  "language_info": {
   "codemirror_mode": {
    "name": "ipython",
    "version": 3
   },
   "file_extension": ".py",
   "mimetype": "text/x-python",
   "name": "python",
   "nbconvert_exporter": "python",
   "pygments_lexer": "ipython3",
   "version": "3.9.7"
  },
  "orig_nbformat": 4
 },
 "nbformat": 4,
 "nbformat_minor": 2
}
