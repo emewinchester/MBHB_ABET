{
 "cells": [
  {
   "cell_type": "markdown",
   "metadata": {},
   "source": [
    "# LIBRARIES"
   ]
  },
  {
   "cell_type": "code",
   "execution_count": 1,
   "metadata": {},
   "outputs": [],
   "source": [
    "import pandas as pd\n",
    "import numpy  as np\n",
    "import time\n",
    "\n",
    "from pkg.constants    import *\n",
    "from pkg.evaluation   import Evaluation\n",
    "from pkg.utils        import *\n",
    "from pkg.algorithims  import *\n",
    "from pkg.neighborhood import *\n",
    "\n",
    "\n",
    "\n",
    "from pkg.tabu_list import TabuList\n",
    "\n",
    "from itertools import permutations\n",
    "from random    import shuffle\n",
    "\n"
   ]
  },
  {
   "cell_type": "markdown",
   "metadata": {},
   "source": [
    "# SEED PRODUCTION"
   ]
  },
  {
   "cell_type": "code",
   "execution_count": 2,
   "metadata": {},
   "outputs": [
    {
     "name": "stdout",
     "output_type": "stream",
     "text": [
      "[12345 54321 12221 22211 22212]\n"
     ]
    }
   ],
   "source": [
    "# seeds = np.random.randint(0,99999,SEEDS)\n",
    "# print(seeds)\n",
    "\n",
    "# Semillas adri\n",
    "seeds = np.array([12345, 54321, 12221, 22211, 22212])\n",
    "print(seeds)"
   ]
  },
  {
   "cell_type": "markdown",
   "metadata": {},
   "source": [
    "# EVALUATION OBJECT"
   ]
  },
  {
   "cell_type": "code",
   "execution_count": 3,
   "metadata": {},
   "outputs": [],
   "source": [
    "evaluation = Evaluation()"
   ]
  },
  {
   "cell_type": "markdown",
   "metadata": {},
   "source": [
    "# IMPLEMENATION OF ALGORITHIMS"
   ]
  },
  {
   "cell_type": "markdown",
   "metadata": {},
   "source": [
    "## DATA DUMP"
   ]
  },
  {
   "cell_type": "code",
   "execution_count": 4,
   "metadata": {},
   "outputs": [],
   "source": [
    "deltas_df   = pd.read_csv(DELTAS_5M_PATH) \n",
    "deltas_matrix   = deltas_df.to_numpy()"
   ]
  },
  {
   "cell_type": "markdown",
   "metadata": {},
   "source": [
    "## GREEDY SEARCH"
   ]
  },
  {
   "cell_type": "code",
   "execution_count": 5,
   "metadata": {},
   "outputs": [
    {
     "name": "stdout",
     "output_type": "stream",
     "text": [
      "0.05663776397705078\n"
     ]
    }
   ],
   "source": [
    "initial_state = deltas_matrix[0,:]\n",
    "start_time = time.time()\n",
    "greedy_sol, greedy_sol_cost = greedy(initial_state, evaluation)\n",
    "finish_time = time.time()\n",
    "print(finish_time - start_time)"
   ]
  },
  {
   "cell_type": "code",
   "execution_count": 7,
   "metadata": {},
   "outputs": [
    {
     "name": "stdout",
     "output_type": "stream",
     "text": [
      "[ 7.  9. 18.  8. 11. 18. 11. 12.  8. 13. 13. 24. 11. 18. 20. 19.]\n",
      "574.5513854177129\n"
     ]
    }
   ],
   "source": [
    "print(greedy_sol)\n",
    "print(greedy_sol_cost)"
   ]
  },
  {
   "cell_type": "markdown",
   "metadata": {},
   "source": [
    "## RANDOM SEARCH"
   ]
  },
  {
   "cell_type": "code",
   "execution_count": 8,
   "metadata": {},
   "outputs": [
    {
     "name": "stdout",
     "output_type": "stream",
     "text": [
      "[14. 14. 14. 24. 11.  5.  8. 16. 14. 19. 19. 19. 14.  8.  8. 14.]\n",
      "437.97332210029685\n",
      "[ 9. 15. 15. 19. 15. 19. 11. 15. 13. 17. 19. 11.  9.  6. 13. 15.]\n",
      "451.3225361187038\n",
      "[14. 12. 14. 18. 12. 16. 18. 12. 18.  4. 18. 18. 12. 10. 14. 16.]\n",
      "414.6951224947079\n",
      "[18.  6. 12. 12. 12. 24. 15. 12.  6. 18. 15. 21.  6. 21.  6. 18.]\n",
      "437.2945702887965\n",
      "[21. 10. 10. 13. 21.  5.  8. 13.  8. 16. 16. 21. 10. 10. 21. 18.]\n",
      "437.62379742709754\n"
     ]
    }
   ],
   "source": [
    "for i in range(SEEDS):\n",
    "    np.random.seed(seeds[i])\n",
    "    rs_sol, rs_sol_cost = random_search(evaluation = evaluation)\n",
    "\n",
    "    print(rs_sol)\n",
    "    print(rs_sol_cost)\n"
   ]
  },
  {
   "cell_type": "markdown",
   "metadata": {},
   "source": [
    "## LOCAL SEARCH\n",
    "first best neighbor"
   ]
  },
  {
   "cell_type": "code",
   "execution_count": 5,
   "metadata": {},
   "outputs": [
    {
     "name": "stdout",
     "output_type": "stream",
     "text": [
      "[18. 12. 12. 14. 20. 14. 14. 12. 10.  8. 12. 25. 15.  2.  6. 25.] 411.7068 919\n",
      "[12. 12. 20. 14. 19. 14. 13.  8. 11. 14. 16. 24.  2.  7. 22. 12.] 372.4192 2056\n",
      "[16. 12. 19. 14. 20. 14. 10. 12. 12. 12. 12. 24.  2. 13. 17. 12.] 361.1852 1086\n",
      "[16. 10. 22. 18. 20. 14. 14. 12.  9.  8. 12. 18.  2. 22.  7. 12.] 411.2291 874\n",
      "[18. 13. 12. 15. 20. 14. 21. 12. 10.  8. 24. 24.  8.  2.  6. 12.] 417.9571 733\n"
     ]
    }
   ],
   "source": [
    "granularity = 1\n",
    "\n",
    "for i in range(SEEDS):\n",
    "\n",
    "    np.random.seed(seeds[i])\n",
    "\n",
    "    ls_sol, ls_sol_cost, calls = local_search(\n",
    "        granularity = granularity,\n",
    "        evaluation  = evaluation\n",
    "    )\n",
    "    \n",
    "    print(ls_sol, round(ls_sol_cost,4), calls)\n",
    "\n",
    "  "
   ]
  },
  {
   "cell_type": "markdown",
   "metadata": {},
   "source": [
    "## SIMULATED ANNEALING"
   ]
  },
  {
   "cell_type": "code",
   "execution_count": 9,
   "metadata": {},
   "outputs": [],
   "source": [
    "# parametros a ajustar:\n",
    "slots = 1\n",
    "\n",
    "# k_max: maximo numero iteraciones: en el entorno de 80\n",
    "# condicion de parada\n",
    "k_max = 80\n",
    "\n",
    "# L(T): condicion enfriamiento. Numero fijo para cada iteracion\n",
    "# Se enfria la temperatura al final de una iteracion\n",
    "# La iteracion finaliza al visitar todos los vecinos\n",
    "L = 20\n",
    "\n",
    "\n",
    "# Esquema de enfriamiento: Cauchy\n",
    "# tk = t0/(1+k)\n",
    "\n",
    "# mu: tanto por uno [0,1], indica la probabilidad de aceptar una solucion peor que la inicial\n",
    "mu = 0.2\n",
    "\n",
    "# fi: probabilidad de aceptar una solucion un mu por 1 peor que la inicial\n",
    "fi = 0.2\n",
    "\n",
    "# Temperatura inicial\n",
    "t0 = mu * greedy_sol_cost / (- np.log(fi))\n",
    "\n",
    "# Temperatura final\n",
    "tf = t0 / (1 + k_max)\n",
    "\n"
   ]
  },
  {
   "cell_type": "code",
   "execution_count": 10,
   "metadata": {},
   "outputs": [
    {
     "name": "stdout",
     "output_type": "stream",
     "text": [
      "[12. 10. 20. 17. 19. 14. 13. 17. 11. 26. 17. 25.  2.  6.  6. 13.]\n",
      "315.27076534163615\n",
      "[16. 12. 21. 18. 19. 14. 12. 12. 12. 12. 16. 24.  2.  7. 16. 12.]\n",
      "330.7564742178211\n",
      "[21. 12. 20. 16. 17. 14.  8. 11. 12. 16. 13. 24.  2. 18.  4. 13.]\n",
      "362.78228901847797\n",
      "[18. 12. 19. 21. 20. 13. 10. 10. 12. 13. 16. 25.  3.  7. 14. 14.]\n",
      "310.4396266696855\n",
      "[19. 12. 23. 15. 19. 13.  8. 12. 12. 26. 12. 23.  3.  9.  3. 12.]\n",
      "365.58590769576847\n"
     ]
    }
   ],
   "source": [
    "for i in range(SEEDS):\n",
    "    np.random.seed(seeds[i])\n",
    "    sa_solution, cost_sa = simulated_an(t0,L,tf,slots,evaluation)\n",
    "    print(sa_solution)\n",
    "    print(cost_sa)\n",
    "\n"
   ]
  },
  {
   "cell_type": "markdown",
   "metadata": {},
   "source": [
    "##  TABU SEARCH"
   ]
  },
  {
   "cell_type": "code",
   "execution_count": 6,
   "metadata": {},
   "outputs": [],
   "source": [
    "# externo\n",
    "reboots = 4\n",
    "total_iterations = 40\n",
    "\n",
    "total_neighbors = 20\n",
    "tenure = 4\n",
    "\n",
    "slots = 5 # esto por que????\n"
   ]
  },
  {
   "cell_type": "code",
   "execution_count": 8,
   "metadata": {},
   "outputs": [
    {
     "name": "stdout",
     "output_type": "stream",
     "text": [
      "iteracion 0, reboot 0\n",
      "iteracion 1, reboot 0\n",
      "iteracion 2, reboot 0\n",
      "iteracion 3, reboot 0\n",
      "iteracion 4, reboot 0\n",
      "iteracion 5, reboot 0\n",
      "iteracion 6, reboot 0\n",
      "iteracion 7, reboot 0\n",
      "iteracion 8, reboot 0\n",
      "iteracion 9, reboot 0\n",
      "iteracion 0, reboot 1\n",
      "iteracion 1, reboot 1\n",
      "iteracion 2, reboot 1\n",
      "iteracion 3, reboot 1\n",
      "iteracion 4, reboot 1\n",
      "iteracion 5, reboot 1\n",
      "iteracion 6, reboot 1\n",
      "iteracion 7, reboot 1\n",
      "iteracion 8, reboot 1\n",
      "iteracion 9, reboot 1\n",
      "iteracion 0, reboot 2\n",
      "iteracion 1, reboot 2\n",
      "iteracion 2, reboot 2\n",
      "iteracion 3, reboot 2\n",
      "iteracion 4, reboot 2\n",
      "iteracion 5, reboot 2\n",
      "iteracion 6, reboot 2\n",
      "iteracion 7, reboot 2\n",
      "iteracion 8, reboot 2\n",
      "iteracion 9, reboot 2\n",
      "iteracion 0, reboot 3\n",
      "iteracion 1, reboot 3\n",
      "iteracion 2, reboot 3\n",
      "iteracion 3, reboot 3\n",
      "iteracion 4, reboot 3\n",
      "iteracion 5, reboot 3\n",
      "iteracion 6, reboot 3\n",
      "iteracion 7, reboot 3\n",
      "iteracion 8, reboot 3\n",
      "iteracion 9, reboot 3\n",
      "[11.  8. 23. 15. 18. 15. 14. 18. 20. 11. 16. 21. 23.  0.  6. 20.] 361.3094\n",
      "iteracion 0, reboot 0\n",
      "iteracion 1, reboot 0\n",
      "iteracion 2, reboot 0\n",
      "iteracion 3, reboot 0\n",
      "iteracion 4, reboot 0\n",
      "iteracion 5, reboot 0\n",
      "iteracion 6, reboot 0\n",
      "iteracion 7, reboot 0\n",
      "iteracion 8, reboot 0\n",
      "iteracion 9, reboot 0\n",
      "iteracion 0, reboot 1\n",
      "iteracion 1, reboot 1\n",
      "iteracion 2, reboot 1\n",
      "iteracion 3, reboot 1\n",
      "iteracion 4, reboot 1\n",
      "iteracion 5, reboot 1\n",
      "iteracion 6, reboot 1\n",
      "iteracion 7, reboot 1\n",
      "iteracion 8, reboot 1\n",
      "iteracion 9, reboot 1\n",
      "iteracion 0, reboot 2\n",
      "iteracion 1, reboot 2\n",
      "iteracion 2, reboot 2\n",
      "iteracion 3, reboot 2\n",
      "iteracion 4, reboot 2\n",
      "iteracion 5, reboot 2\n",
      "iteracion 6, reboot 2\n",
      "iteracion 7, reboot 2\n",
      "iteracion 8, reboot 2\n",
      "iteracion 9, reboot 2\n",
      "iteracion 0, reboot 3\n",
      "iteracion 1, reboot 3\n",
      "iteracion 2, reboot 3\n",
      "iteracion 3, reboot 3\n",
      "iteracion 4, reboot 3\n",
      "iteracion 5, reboot 3\n",
      "iteracion 6, reboot 3\n",
      "iteracion 7, reboot 3\n",
      "iteracion 8, reboot 3\n",
      "iteracion 9, reboot 3\n",
      "[13. 10. 20. 20. 20. 15. 20. 15. 15. 18. 23. 30.  5.  5. 18. 18.] 180.0194\n",
      "iteracion 0, reboot 0\n",
      "iteracion 1, reboot 0\n",
      "iteracion 2, reboot 0\n",
      "iteracion 3, reboot 0\n",
      "iteracion 4, reboot 0\n",
      "iteracion 5, reboot 0\n",
      "iteracion 6, reboot 0\n",
      "iteracion 7, reboot 0\n",
      "iteracion 8, reboot 0\n",
      "iteracion 9, reboot 0\n",
      "iteracion 0, reboot 1\n",
      "iteracion 1, reboot 1\n",
      "iteracion 2, reboot 1\n",
      "iteracion 3, reboot 1\n",
      "iteracion 4, reboot 1\n",
      "iteracion 5, reboot 1\n",
      "iteracion 6, reboot 1\n",
      "iteracion 7, reboot 1\n",
      "iteracion 8, reboot 1\n",
      "iteracion 9, reboot 1\n",
      "iteracion 0, reboot 2\n",
      "iteracion 1, reboot 2\n",
      "iteracion 2, reboot 2\n",
      "iteracion 3, reboot 2\n",
      "iteracion 4, reboot 2\n",
      "iteracion 5, reboot 2\n",
      "iteracion 6, reboot 2\n",
      "iteracion 7, reboot 2\n",
      "iteracion 8, reboot 2\n",
      "iteracion 9, reboot 2\n",
      "iteracion 0, reboot 3\n",
      "iteracion 1, reboot 3\n",
      "iteracion 2, reboot 3\n",
      "iteracion 3, reboot 3\n",
      "iteracion 4, reboot 3\n",
      "iteracion 5, reboot 3\n",
      "iteracion 6, reboot 3\n",
      "iteracion 7, reboot 3\n",
      "iteracion 8, reboot 3\n",
      "iteracion 9, reboot 3\n",
      "[16. 10. 14. 19. 21. 16. 11. 14. 16. 19. 12. 22.  2.  2. 17. 12.] 365.3092\n",
      "iteracion 0, reboot 0\n",
      "iteracion 1, reboot 0\n",
      "iteracion 2, reboot 0\n",
      "iteracion 3, reboot 0\n",
      "iteracion 4, reboot 0\n",
      "iteracion 5, reboot 0\n",
      "iteracion 6, reboot 0\n",
      "iteracion 7, reboot 0\n",
      "iteracion 8, reboot 0\n",
      "iteracion 9, reboot 0\n",
      "iteracion 0, reboot 1\n",
      "iteracion 1, reboot 1\n",
      "iteracion 2, reboot 1\n",
      "iteracion 3, reboot 1\n",
      "iteracion 4, reboot 1\n",
      "iteracion 5, reboot 1\n",
      "iteracion 6, reboot 1\n",
      "iteracion 7, reboot 1\n",
      "iteracion 8, reboot 1\n",
      "iteracion 9, reboot 1\n",
      "iteracion 0, reboot 2\n",
      "iteracion 1, reboot 2\n",
      "iteracion 2, reboot 2\n",
      "iteracion 3, reboot 2\n",
      "iteracion 4, reboot 2\n",
      "iteracion 5, reboot 2\n",
      "iteracion 6, reboot 2\n",
      "iteracion 7, reboot 2\n",
      "iteracion 8, reboot 2\n",
      "iteracion 9, reboot 2\n",
      "iteracion 0, reboot 3\n",
      "iteracion 1, reboot 3\n",
      "iteracion 2, reboot 3\n",
      "iteracion 3, reboot 3\n",
      "iteracion 4, reboot 3\n",
      "iteracion 5, reboot 3\n",
      "iteracion 6, reboot 3\n",
      "iteracion 7, reboot 3\n",
      "iteracion 8, reboot 3\n",
      "iteracion 9, reboot 3\n",
      "[15. 11. 13. 18. 16. 12. 16. 11. 13. 13. 13. 29.  5.  9. 14. 12.] 399.3427\n",
      "iteracion 0, reboot 0\n",
      "iteracion 1, reboot 0\n",
      "iteracion 2, reboot 0\n",
      "iteracion 3, reboot 0\n",
      "iteracion 4, reboot 0\n",
      "iteracion 5, reboot 0\n",
      "iteracion 6, reboot 0\n",
      "iteracion 7, reboot 0\n",
      "iteracion 8, reboot 0\n",
      "iteracion 9, reboot 0\n",
      "iteracion 0, reboot 1\n",
      "iteracion 1, reboot 1\n",
      "iteracion 2, reboot 1\n",
      "iteracion 3, reboot 1\n",
      "iteracion 4, reboot 1\n",
      "iteracion 5, reboot 1\n",
      "iteracion 6, reboot 1\n",
      "iteracion 7, reboot 1\n",
      "iteracion 8, reboot 1\n",
      "iteracion 9, reboot 1\n",
      "iteracion 0, reboot 2\n",
      "iteracion 1, reboot 2\n",
      "iteracion 2, reboot 2\n",
      "iteracion 3, reboot 2\n",
      "iteracion 4, reboot 2\n",
      "iteracion 5, reboot 2\n",
      "iteracion 6, reboot 2\n",
      "iteracion 7, reboot 2\n",
      "iteracion 8, reboot 2\n",
      "iteracion 9, reboot 2\n",
      "iteracion 0, reboot 3\n",
      "iteracion 1, reboot 3\n",
      "iteracion 2, reboot 3\n",
      "iteracion 3, reboot 3\n",
      "iteracion 4, reboot 3\n",
      "iteracion 5, reboot 3\n",
      "iteracion 6, reboot 3\n",
      "iteracion 7, reboot 3\n",
      "iteracion 8, reboot 3\n",
      "iteracion 9, reboot 3\n",
      "[19. 11. 18. 16. 19. 13. 12. 13. 11. 29. 21. 22.  0.  5. 23. 13.] 258.5817\n"
     ]
    }
   ],
   "source": [
    "for seed in seeds:\n",
    "    np.random.seed(seed)\n",
    "    ts_sol, ts_sol_cost = tabu_search(\n",
    "        tenure           = tenure,\n",
    "        reboots          = reboots,\n",
    "        total_iterations = total_iterations,\n",
    "        slots            = slots,\n",
    "        total_neighbors  = total_neighbors,\n",
    "        evaluation       = evaluation\n",
    "    )\n",
    "\n",
    "    print(ts_sol, round(ts_sol_cost, 4))"
   ]
  },
  {
   "cell_type": "code",
   "execution_count": 17,
   "metadata": {},
   "outputs": [],
   "source": [
    "def update_frecuency(matrix, vector):\n",
    "\n",
    "    for i in range(len(vector)):\n",
    "        matrix[ int(vector[i]) , i ] += 1\n",
    "\n",
    "    return matrix\n",
    "\n",
    "\n",
    "\n",
    "def generate_greedy_solution(matrix):\n",
    "\n",
    "    solution = np.empty(matrix.shape[1])\n",
    "\n",
    "    # calculamos la inversa\n",
    "    inversa = 1/matrix\n",
    "\n",
    "    \n",
    "    for i in range(matrix.shape[1]):\n",
    "\n",
    "        sumatorio = inversa[:,i].sum()\n",
    "\n",
    "        # normalizamos la columna\n",
    "        inversa[:,i] = inversa[:,i]/sumatorio\n",
    "\n",
    "        num = np.random.random()\n",
    "        sum = 0\n",
    "        control = 0\n",
    "\n",
    "        for row in range(matrix.shape[0]):\n",
    "            sum += inversa[row,i]\n",
    "            if num < sum:\n",
    "                solution[i] = row\n",
    "                control = row # indica cuantos slots se han metido\n",
    "                break\n",
    "    \n",
    "        # reajuste de matriz\n",
    "        if row != 0:\n",
    "            inversa = inversa[:-row, :]\n",
    "        if row is matrix.shape[0]-1:\n",
    "            pass\n",
    "    \n",
    "    return solution\n",
    "        \n",
    "        \n",
    "\n",
    "    \n"
   ]
  },
  {
   "cell_type": "markdown",
   "metadata": {},
   "source": [
    "# ALGORITHMS ADJUSTMENT"
   ]
  }
 ],
 "metadata": {
  "interpreter": {
   "hash": "7d779d0e5915710bac6ba9c7b3edbd525c48ff05a7164abbc05df9554ec16650"
  },
  "kernelspec": {
   "display_name": "Python 3.9.7 ('datascience')",
   "language": "python",
   "name": "python3"
  },
  "language_info": {
   "codemirror_mode": {
    "name": "ipython",
    "version": 3
   },
   "file_extension": ".py",
   "mimetype": "text/x-python",
   "name": "python",
   "nbconvert_exporter": "python",
   "pygments_lexer": "ipython3",
   "version": "3.9.7"
  },
  "orig_nbformat": 4
 },
 "nbformat": 4,
 "nbformat_minor": 2
}
