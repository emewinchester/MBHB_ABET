{
 "cells": [
  {
   "cell_type": "markdown",
   "metadata": {},
   "source": [
    "# LIBRARIES"
   ]
  },
  {
   "cell_type": "code",
   "execution_count": 2,
   "metadata": {},
   "outputs": [],
   "source": [
    "import pandas as pd\n",
    "import numpy as np\n",
    "from pkg.constants import *\n",
    "from pkg.greedy import greedy\n",
    "from pkg.evaluation import Evaluation\n",
    "from pkg.utils import *\n",
    "from pkg.random_search import random_search\n",
    "from pkg.local_search import local_search\n",
    "from pkg.neighborhood import *\n",
    "from itertools import permutations\n",
    "from random import shuffle\n"
   ]
  },
  {
   "cell_type": "markdown",
   "metadata": {},
   "source": [
    "# GENERACIÓN DE SEMILLAS\n",
    "Las semillas deben guardarse para poder repetir las ejecuciones y comparar resultados"
   ]
  },
  {
   "cell_type": "code",
   "execution_count": 3,
   "metadata": {},
   "outputs": [
    {
     "name": "stdout",
     "output_type": "stream",
     "text": [
      "[12345 54321 12221 22211 22212]\n"
     ]
    }
   ],
   "source": [
    "# seeds = np.random.randint(0,99999,SEEDS)\n",
    "# print(seeds)\n",
    "\n",
    "# Semillas adri\n",
    "seeds = np.array([12345, 54321, 12221, 22211, 22212])\n",
    "print(seeds)"
   ]
  },
  {
   "cell_type": "markdown",
   "metadata": {},
   "source": [
    "# CREACION OBJETO EVALUATION"
   ]
  },
  {
   "cell_type": "code",
   "execution_count": 4,
   "metadata": {},
   "outputs": [],
   "source": [
    "evaluation = Evaluation()"
   ]
  },
  {
   "cell_type": "markdown",
   "metadata": {},
   "source": [
    "# SOLUCIÓN GREEDY"
   ]
  },
  {
   "cell_type": "markdown",
   "metadata": {},
   "source": [
    "## LECTURA DE DATOS"
   ]
  },
  {
   "cell_type": "code",
   "execution_count": 5,
   "metadata": {},
   "outputs": [],
   "source": [
    "deltas_df   = pd.read_csv(DELTAS_5M_PATH) \n",
    "deltas_matrix   = deltas_df.to_numpy()"
   ]
  },
  {
   "cell_type": "markdown",
   "metadata": {},
   "source": [
    "## GENERA SOLUCION "
   ]
  },
  {
   "cell_type": "code",
   "execution_count": 6,
   "metadata": {},
   "outputs": [
    {
     "data": {
      "text/plain": [
       "220.0"
      ]
     },
     "execution_count": 6,
     "metadata": {},
     "output_type": "execute_result"
    }
   ],
   "source": [
    "initial_state = deltas_matrix[0,:]\n",
    "greedy_sol = greedy(initial_state)\n",
    "greedy_sol.sum()"
   ]
  },
  {
   "cell_type": "markdown",
   "metadata": {},
   "source": [
    "## EVALUA SOLUCION"
   ]
  },
  {
   "cell_type": "code",
   "execution_count": 7,
   "metadata": {},
   "outputs": [],
   "source": [
    "# 574.5513854177129\n",
    "cost_greedy_solution = evaluation.evaluate(greedy_sol)"
   ]
  },
  {
   "cell_type": "markdown",
   "metadata": {},
   "source": [
    "# BUSQUEDA ALEATORIA"
   ]
  },
  {
   "cell_type": "markdown",
   "metadata": {},
   "source": [
    "### ALGORITMO"
   ]
  },
  {
   "cell_type": "code",
   "execution_count": null,
   "metadata": {},
   "outputs": [],
   "source": [
    "best_solution_per_seed = np.empty((SEEDS, TOTAL_STATIONS))\n",
    "\n",
    "\n",
    "for i in range(SEEDS):\n",
    "    np.random.seed(seeds[i])\n",
    "    best_solution_per_seed[i,:] = random_search(evaluation = evaluation)\n"
   ]
  },
  {
   "cell_type": "code",
   "execution_count": null,
   "metadata": {},
   "outputs": [],
   "source": [
    "print(best_solution_per_seed)\n",
    "print(evaluation.evaluate(best_solution_per_seed[0,:]))\n",
    "print(evaluation.evaluate(best_solution_per_seed[1,:]))\n",
    "print(evaluation.evaluate(best_solution_per_seed[2,:]))\n",
    "print(evaluation.evaluate(best_solution_per_seed[3,:]))\n",
    "print(evaluation.evaluate(best_solution_per_seed[4,:]))\n"
   ]
  },
  {
   "cell_type": "markdown",
   "metadata": {},
   "source": [
    "# BUSQUEDA LOCAL: EL PRIMER MEJOR VECINO"
   ]
  },
  {
   "cell_type": "markdown",
   "metadata": {},
   "source": [
    "## Generación soluciones iniciales"
   ]
  },
  {
   "cell_type": "code",
   "execution_count": 11,
   "metadata": {},
   "outputs": [
    {
     "data": {
      "text/plain": [
       "array([12345, 54321, 12221, 22211, 22212])"
      ]
     },
     "execution_count": 11,
     "metadata": {},
     "output_type": "execute_result"
    }
   ],
   "source": [
    "seeds"
   ]
  },
  {
   "cell_type": "markdown",
   "metadata": {},
   "source": [
    "## Algoritmo\n"
   ]
  },
  {
   "cell_type": "code",
   "execution_count": 1,
   "metadata": {},
   "outputs": [
    {
     "ename": "NameError",
     "evalue": "name 'SEEDS' is not defined",
     "output_type": "error",
     "traceback": [
      "\u001b[1;31m---------------------------------------------------------------------------\u001b[0m",
      "\u001b[1;31mNameError\u001b[0m                                 Traceback (most recent call last)",
      "\u001b[1;32mc:\\Users\\Marina\\Desktop\\MBHBp\\MBHB_ABET\\main.ipynb Cell 22'\u001b[0m in \u001b[0;36m<cell line: 1>\u001b[1;34m()\u001b[0m\n\u001b[1;32m----> <a href='vscode-notebook-cell:/c%3A/Users/Marina/Desktop/MBHBp/MBHB_ABET/main.ipynb#ch0000021?line=0'>1</a>\u001b[0m \u001b[39mfor\u001b[39;00m i \u001b[39min\u001b[39;00m \u001b[39mrange\u001b[39m(SEEDS):\n\u001b[0;32m      <a href='vscode-notebook-cell:/c%3A/Users/Marina/Desktop/MBHBp/MBHB_ABET/main.ipynb#ch0000021?line=2'>3</a>\u001b[0m     np\u001b[39m.\u001b[39mrandom\u001b[39m.\u001b[39mseed(seeds[i])\n\u001b[0;32m      <a href='vscode-notebook-cell:/c%3A/Users/Marina/Desktop/MBHBp/MBHB_ABET/main.ipynb#ch0000021?line=4'>5</a>\u001b[0m     sol \u001b[39m=\u001b[39m local_search(\n\u001b[0;32m      <a href='vscode-notebook-cell:/c%3A/Users/Marina/Desktop/MBHBp/MBHB_ABET/main.ipynb#ch0000021?line=5'>6</a>\u001b[0m         slots_to_move \u001b[39m=\u001b[39m \u001b[39m1\u001b[39m,\n\u001b[0;32m      <a href='vscode-notebook-cell:/c%3A/Users/Marina/Desktop/MBHBp/MBHB_ABET/main.ipynb#ch0000021?line=6'>7</a>\u001b[0m         evaluation    \u001b[39m=\u001b[39m evaluation\n\u001b[0;32m      <a href='vscode-notebook-cell:/c%3A/Users/Marina/Desktop/MBHBp/MBHB_ABET/main.ipynb#ch0000021?line=7'>8</a>\u001b[0m     )\n",
      "\u001b[1;31mNameError\u001b[0m: name 'SEEDS' is not defined"
     ]
    }
   ],
   "source": [
    "for i in range(SEEDS):\n",
    "\n",
    "    np.random.seed(seeds[i])\n",
    "\n",
    "    sol = local_search(\n",
    "        slots_to_move = 1,\n",
    "        evaluation    = evaluation\n",
    "    )\n",
    "    \n",
    "    print(sol)\n",
    "    print(evaluation.evaluate(sol))\n",
    "\n",
    "    "
   ]
  },
  {
   "cell_type": "markdown",
   "metadata": {},
   "source": [
    "# ENFRIAMIENTO SIMULADO"
   ]
  },
  {
   "cell_type": "code",
   "execution_count": 14,
   "metadata": {},
   "outputs": [],
   "source": [
    "# parametros a ajustar:\n",
    "slots = 1\n",
    "\n",
    "# k_max: maximo numero iteraciones: en el entorno de 80\n",
    "# condicion de parada\n",
    "k_max = 80\n",
    "\n",
    "# L(T): condicion enfriamiento. Numero fijo para cada iteracion\n",
    "# Se enfria la temperatura al final de una iteracion\n",
    "# La iteracion finaliza al visitar todos los vecinos\n",
    "L = 20\n",
    "\n",
    "\n",
    "# Esquema de enfriamiento: Cauchy\n",
    "# tk = t0/(1+k)\n",
    "\n",
    "# mu: tanto por uno [0,1], indica la probabilidad de aceptar una solucion peor que la inicial\n",
    "mu = 0.2\n",
    "\n",
    "# fi: probabilidad de aceptar una solucion un mu por 1 peor que la inicial\n",
    "fi = 0.2\n",
    "\n",
    "# Temperatura inicial\n",
    "t0 = mu * cost_greedy_solution / (- np.log(fi))\n",
    "\n",
    "# Temperatura final\n",
    "tf = t0 / (1 + k_max)\n",
    "\n"
   ]
  },
  {
   "cell_type": "code",
   "execution_count": 19,
   "metadata": {},
   "outputs": [],
   "source": [
    "def simulated_an(t0,L,tf,slots,evaluation):\n",
    "\n",
    "    t = t0\n",
    "\n",
    "    current_solution      = generate_random_solution()\n",
    "    cost_current_solution = evaluation.evaluate(current_solution)\n",
    "\n",
    "    neighbors = Neighborhood(\n",
    "        current_solution = current_solution,\n",
    "        slots            = slots\n",
    "    )\n",
    "\n",
    "    k = 0\n",
    "\n",
    "    while t >= tf:\n",
    "        for cont in range(L):\n",
    "\n",
    "            candidate_solution      = neighbors.get_neighbor_sa()\n",
    "            cost_candidate_solution = evaluation.evaluate(candidate_solution)\n",
    "\n",
    "            cost_difference = cost_candidate_solution - cost_current_solution\n",
    "\n",
    "            if cost_difference < 0 or \\\n",
    "               np.random.rand() < np.exp( (-cost_difference) / t ):\n",
    "\n",
    "                current_solution      = candidate_solution\n",
    "                cost_current_solution = cost_candidate_solution \n",
    "\n",
    "                neighbors = Neighborhood(\n",
    "                    current_solution = current_solution,\n",
    "                    slots            = slots\n",
    "                )\n",
    "            \n",
    "        t = t0 / (1 + k)\n",
    "        k += 1\n",
    "\n",
    "    return current_solution, cost_current_solution\n",
    "                "
   ]
  },
  {
   "cell_type": "code",
   "execution_count": 20,
   "metadata": {},
   "outputs": [
    {
     "name": "stdout",
     "output_type": "stream",
     "text": [
      "[15. 12. 16. 18. 20. 14. 11. 12. 10. 19. 12. 23.  2.  2. 20. 13.]\n",
      "384.2487482445857\n",
      "[14. 12. 19. 19. 20. 14. 12. 11. 12. 16. 17. 25.  2.  6. 14. 10.]\n",
      "345.9125412943197\n",
      "[17. 12. 19. 16. 20. 14.  8. 12. 12. 13. 12. 24.  3.  7. 18. 14.]\n",
      "361.6959227450305\n",
      "[14. 10. 21. 14. 20. 14. 12. 11. 12. 14. 12. 21.  2. 19.  7. 13.]\n",
      "409.7041593111751\n",
      "[18. 12. 14. 17. 20. 14. 13. 12. 10. 16. 18. 34.  2. 17.  5. 11.]\n",
      "280.8809511306812\n"
     ]
    }
   ],
   "source": [
    "for i in range(SEEDS):\n",
    "    np.random.seed(seeds[i])\n",
    "    sa_solution, cost_sa = simulated_an(t0,L,tf,slots,evaluation)\n",
    "    print(sa_solution)\n",
    "    print(cost_sa)\n",
    "\n"
   ]
  },
  {
   "cell_type": "markdown",
   "metadata": {},
   "source": [
    "# ANOTACIONES DIA 21/03/2022"
   ]
  },
  {
   "cell_type": "markdown",
   "metadata": {},
   "source": [
    "Dia 4: defensa de la práctica\n",
    "la bsuqueda  tabu deberá tardar más o menos lo que tarda el enfriamiento simulado.\n",
    "No tenemos en cuenta si los vecinos se repiten o no (no lo combprobamos.)\n",
    "velocidad de movimiento: 5 (nos dice cuantas posibilidades hay)\n",
    "matriz de frecuencias: como se hace??? \n",
    "greedy: queremos hacer algo inversamente prorporcional a lo que ha salido (hacemos la inversa de cada casilla de la matriz de frecuencias???) y luego normalizo (?)\n",
    "ruleta de probabilidad inversa -> buscar libreria, que seguro que está hecho en algun lado. Si no, está el pseudo en la práctica.\n",
    "\n",
    "la condicion de parada: que sea mayor o igual al numero de iteraciones \n",
    "generar vecinos tiene la restriccion tabu\n",
    "cogemos el algoritmo de busqueda local y vmos añadiendo trocitos\n",
    "la parte que suele generar más dudas suele ser la parte del greedy\n",
    "\n",
    "\n",
    "granular: tamaño de movimiento de huecos entre estaciones"
   ]
  },
  {
   "cell_type": "code",
   "execution_count": null,
   "metadata": {},
   "outputs": [],
   "source": []
  }
 ],
 "metadata": {
  "interpreter": {
   "hash": "7d779d0e5915710bac6ba9c7b3edbd525c48ff05a7164abbc05df9554ec16650"
  },
  "kernelspec": {
   "display_name": "Python 3.9.7 ('datascience')",
   "language": "python",
   "name": "python3"
  },
  "language_info": {
   "codemirror_mode": {
    "name": "ipython",
    "version": 3
   },
   "file_extension": ".py",
   "mimetype": "text/x-python",
   "name": "python",
   "nbconvert_exporter": "python",
   "pygments_lexer": "ipython3",
   "version": "3.9.7"
  },
  "orig_nbformat": 4
 },
 "nbformat": 4,
 "nbformat_minor": 2
}
