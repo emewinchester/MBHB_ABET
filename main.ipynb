{
 "cells": [
  {
   "cell_type": "markdown",
   "metadata": {},
   "source": [
    "# LIBRARIES"
   ]
  },
  {
   "cell_type": "code",
   "execution_count": null,
   "metadata": {},
   "outputs": [],
   "source": [
    "import pandas as pd\n",
    "import numpy  as np\n",
    "\n",
    "from pkg.constants    import *\n",
    "from pkg.evaluation   import Evaluation\n",
    "from pkg.utils        import *\n",
    "from pkg.algorithims  import *\n",
    "from pkg.neighborhood import *\n",
    "\n",
    "\n",
    "\n",
    "from pkg.tabu_list import TabuList\n",
    "\n",
    "from itertools import permutations\n",
    "from random    import shuffle\n",
    "\n"
   ]
  },
  {
   "cell_type": "markdown",
   "metadata": {},
   "source": [
    "# SEED PRODUCTION"
   ]
  },
  {
   "cell_type": "code",
   "execution_count": null,
   "metadata": {},
   "outputs": [],
   "source": [
    "# seeds = np.random.randint(0,99999,SEEDS)\n",
    "# print(seeds)\n",
    "\n",
    "# Semillas adri\n",
    "seeds = np.array([12345, 54321, 12221, 22211, 22212])\n",
    "print(seeds)"
   ]
  },
  {
   "cell_type": "markdown",
   "metadata": {},
   "source": [
    "# EVALUATION OBJECT"
   ]
  },
  {
   "cell_type": "code",
   "execution_count": null,
   "metadata": {},
   "outputs": [],
   "source": [
    "evaluation = Evaluation()"
   ]
  },
  {
   "cell_type": "markdown",
   "metadata": {},
   "source": [
    "# IMPLEMENATION OF ALGORITHIMS"
   ]
  },
  {
   "cell_type": "markdown",
   "metadata": {},
   "source": [
    "## DATA DUMP"
   ]
  },
  {
   "cell_type": "code",
   "execution_count": null,
   "metadata": {},
   "outputs": [],
   "source": [
    "deltas_df   = pd.read_csv(DELTAS_5M_PATH) \n",
    "deltas_matrix   = deltas_df.to_numpy()"
   ]
  },
  {
   "cell_type": "markdown",
   "metadata": {},
   "source": [
    "## GREEDY SEARCH"
   ]
  },
  {
   "cell_type": "code",
   "execution_count": null,
   "metadata": {},
   "outputs": [],
   "source": [
    "initial_state = deltas_matrix[0,:]\n",
    "greedy_sol, greedy_sol_cost = greedy(initial_state, evaluation)"
   ]
  },
  {
   "cell_type": "code",
   "execution_count": null,
   "metadata": {},
   "outputs": [],
   "source": [
    "print(greedy_sol)\n",
    "print(greedy_sol_cost)"
   ]
  },
  {
   "cell_type": "markdown",
   "metadata": {},
   "source": [
    "## RANDOM SEARCH"
   ]
  },
  {
   "cell_type": "code",
   "execution_count": null,
   "metadata": {},
   "outputs": [],
   "source": [
    "for i in range(SEEDS):\n",
    "    np.random.seed(seeds[i])\n",
    "    rs_sol, rs_sol_cost = random_search(evaluation = evaluation)\n",
    "\n",
    "    print(rs_sol)\n",
    "    print(rs_sol_cost)\n"
   ]
  },
  {
   "cell_type": "markdown",
   "metadata": {},
   "source": [
    "## LOCAL SEARCH\n",
    "first best neighbor"
   ]
  },
  {
   "cell_type": "code",
   "execution_count": null,
   "metadata": {},
   "outputs": [],
   "source": [
    "slots_to_move = 1\n",
    "\n",
    "for i in range(SEEDS):\n",
    "\n",
    "    np.random.seed(seeds[i])\n",
    "\n",
    "    ls_sol, ls_sol_cost = local_search(\n",
    "        slots_to_move = slots_to_move,\n",
    "        evaluation    = evaluation\n",
    "    )\n",
    "    \n",
    "    print(ls_sol)\n",
    "    print(ls_sol_cost)\n",
    "  "
   ]
  },
  {
   "cell_type": "markdown",
   "metadata": {},
   "source": [
    "## SIMULATED ANNEALING"
   ]
  },
  {
   "cell_type": "code",
   "execution_count": null,
   "metadata": {},
   "outputs": [],
   "source": [
    "# parametros a ajustar:\n",
    "slots = 1\n",
    "\n",
    "# k_max: maximo numero iteraciones: en el entorno de 80\n",
    "# condicion de parada\n",
    "k_max = 80\n",
    "\n",
    "# L(T): condicion enfriamiento. Numero fijo para cada iteracion\n",
    "# Se enfria la temperatura al final de una iteracion\n",
    "# La iteracion finaliza al visitar todos los vecinos\n",
    "L = 20\n",
    "\n",
    "\n",
    "# Esquema de enfriamiento: Cauchy\n",
    "# tk = t0/(1+k)\n",
    "\n",
    "# mu: tanto por uno [0,1], indica la probabilidad de aceptar una solucion peor que la inicial\n",
    "mu = 0.2\n",
    "\n",
    "# fi: probabilidad de aceptar una solucion un mu por 1 peor que la inicial\n",
    "fi = 0.2\n",
    "\n",
    "# Temperatura inicial\n",
    "t0 = mu * greedy_sol_cost / (- np.log(fi))\n",
    "\n",
    "# Temperatura final\n",
    "tf = t0 / (1 + k_max)\n",
    "\n"
   ]
  },
  {
   "cell_type": "markdown",
   "metadata": {},
   "source": [
    "def simulated_an(t0,L,tf,slots,evaluation):\n",
    "\n",
    "    t = t0\n",
    "\n",
    "    current_solution      = generate_random_solution()\n",
    "    cost_current_solution = evaluation.evaluate(current_solution)\n",
    "\n",
    "    neighbors = Neighborhood(\n",
    "        current_solution = current_solution,\n",
    "        slots            = slots\n",
    "    )\n",
    "\n",
    "    k = 0\n",
    "\n",
    "    while t >= tf:\n",
    "        for cont in range(L):\n",
    "\n",
    "            candidate_solution      = neighbors.get_neighbor_sa()\n",
    "            cost_candidate_solution = evaluation.evaluate(candidate_solution)\n",
    "\n",
    "            cost_difference = cost_candidate_solution - cost_current_solution\n",
    "\n",
    "            if cost_difference < 0 or \\\n",
    "               np.random.rand() < np.exp( (-cost_difference) / t ):\n",
    "\n",
    "                current_solution      = candidate_solution\n",
    "                cost_current_solution = cost_candidate_solution \n",
    "\n",
    "                neighbors = Neighborhood(\n",
    "                    current_solution = current_solution,\n",
    "                    slots            = slots\n",
    "                )\n",
    "            \n",
    "        t = t0 / (1 + k)\n",
    "        k += 1\n",
    "\n",
    "    return current_solution, cost_current_solution\n",
    "                "
   ]
  },
  {
   "cell_type": "code",
   "execution_count": null,
   "metadata": {},
   "outputs": [],
   "source": [
    "for i in range(SEEDS):\n",
    "    np.random.seed(seeds[i])\n",
    "    sa_solution, cost_sa = simulated_an(t0,L,tf,slots,evaluation)\n",
    "    print(sa_solution)\n",
    "    print(cost_sa)\n",
    "\n"
   ]
  },
  {
   "cell_type": "markdown",
   "metadata": {},
   "source": [
    "##  TABU SEARCH"
   ]
  },
  {
   "cell_type": "markdown",
   "metadata": {},
   "source": [
    "dudas sobre busqueda tabu:\n",
    "\n",
    "1. Se implementa el criterio de aspiracion?\n",
    "2. Se genera el vecino antes de comprobar y luego se descarta?\n",
    "3. Reinicializamos cuando segun umbral/proporcion de aceptacion o segun iteraciones?"
   ]
  },
  {
   "cell_type": "code",
   "execution_count": 18,
   "metadata": {},
   "outputs": [],
   "source": [
    "# externo\n",
    "reboots = 4\n",
    "total_iterations = 80\n",
    "\n",
    "total_neighbors = 40\n",
    "tenure = 4\n",
    "\n",
    "slots = 5 # esto por que????\n"
   ]
  },
  {
   "cell_type": "code",
   "execution_count": 13,
   "metadata": {},
   "outputs": [],
   "source": [
    "def update_frecuency(matrix, vector):\n",
    "\n",
    "    for i in range(len(vector)):\n",
    "        matrix[ vector[i] , i ] += 1\n",
    "\n",
    "    return matrix\n"
   ]
  },
  {
   "cell_type": "code",
   "execution_count": null,
   "metadata": {},
   "outputs": [],
   "source": [
    "np.seed(seeds[0])\n",
    "\n",
    "\n",
    "current_solution      = generate_random_solution()\n",
    "current_solution_cost = evaluation.evaluate(current_solution)\n",
    "\n",
    "global_solution      = current_solution\n",
    "global_solution_cost = current_solution_cost\n",
    "\n",
    "\n",
    "# Matriz de frecuencias: inicializacion\n",
    "frequency = np.ones((MAX_CAPACITY+1,TOTAL_STATIONS))\n",
    "\n",
    "# Matriz frecuencias: actualizacion\n",
    "frequency = update_frecuency(frequency, current_solution)\n",
    "\n",
    "# tabu list\n",
    "tl = TabuList(tenure)\n",
    "\n",
    "\n",
    "\n",
    "\n",
    "for reboot in range(reboots):\n",
    "\n",
    "    for iteration in range(int(total_iterations/reboots)):\n",
    "\n",
    "        # genero vecinos -> 40 vecinos\n",
    "\n",
    "        neighbors = Neighborhood(current_solution, slots)\n",
    "        candidates = \\\n",
    "            [ neighbors.get_neighbor_ts() for n in range(total_neighbors) ]\n",
    "\n",
    "        # ( solucion, movimiento, coste, esta_en_tabu_list )\n",
    "        candidates_cost = [ \n",
    "            c[0], c[1], evaluation.evaluate(c[0]), c[1] in tl.tabu_list \n",
    "            for c in candidates \n",
    "        ]\n",
    "\n",
    "        candidates_cost.sort(key= lambda x:x[2])\n",
    "\n",
    "        # se cumple criterio de aspiracion -> mejorar la global siendo tabu\n",
    "        if candidates_cost[0][2] < global_solution_cost:\n",
    "\n",
    "            # aceptamos solucion\n",
    "            current_solution      = candidates_cost[0][0]\n",
    "            current_solution_cost = candidates_cost[0][2]\n",
    "\n",
    "            # actualizamos global\n",
    "            global_solution      = current_solution\n",
    "            global_solution_cost = current_solution_cost\n",
    "\n",
    "            # actualizamos tabu\n",
    "            tl.add_movement(candidates_cost[0][1])\n",
    "\n",
    "        else:\n",
    "\n",
    "            # eliminamos los movimientos tabu-activos\n",
    "            candidates_clean = [c for c in candidates_cost if not c[3]]\n",
    "\n",
    "            # aceptamos solucion\n",
    "            current_solution      = candidates_clean[0][0]\n",
    "            current_solution_cost = candidates_clean[0][2]\n",
    "\n",
    "            # actualizamos tabu\n",
    "            tl.add_movement(candidates_clean[0][1])\n",
    "\n",
    "\n",
    "        # actualizamos matriz de frecuencias\n",
    "        frequency = update_frecuency(frequency, current_solution) \n",
    "\n",
    "    \n",
    "    \n",
    "            \n",
    "\n",
    "        \n",
    "        \n",
    "        \n",
    "         \n",
    "\n",
    "    # lanzamos dado\n",
    "    # estrategias:\n",
    "        # aleatoria [0, 0.25)\n",
    "        # matriz frecuencias + greedy : [0.25,0.75)\n",
    "        # a partir de la mejor global: [0.75, 1)\n",
    "    \n",
    "\n",
    "\n"
   ]
  },
  {
   "cell_type": "code",
   "execution_count": 9,
   "metadata": {},
   "outputs": [],
   "source": [
    "prueba = [(1,2), (2,3), (1,2), (4,5)]"
   ]
  },
  {
   "cell_type": "code",
   "execution_count": 11,
   "metadata": {},
   "outputs": [
    {
     "data": {
      "text/plain": [
       "True"
      ]
     },
     "execution_count": 11,
     "metadata": {},
     "output_type": "execute_result"
    }
   ],
   "source": [
    "(1,2) in prueba"
   ]
  },
  {
   "cell_type": "markdown",
   "metadata": {},
   "source": [
    "# ALGORITHMS ADJUSTMENT"
   ]
  },
  {
   "cell_type": "markdown",
   "metadata": {},
   "source": [
    "# ANOTACIONES DIA 21/03/2022"
   ]
  },
  {
   "cell_type": "markdown",
   "metadata": {},
   "source": [
    "Dia 4: defensa de la práctica\n",
    "la bsuqueda  tabu deberá tardar más o menos lo que tarda el enfriamiento simulado.\n",
    "No tenemos en cuenta si los vecinos se repiten o no (no lo combprobamos.)\n",
    "velocidad de movimiento: 5 (nos dice cuantas posibilidades hay)\n",
    "matriz de frecuencias: como se hace??? \n",
    "greedy: queremos hacer algo inversamente prorporcional a lo que ha salido (hacemos la inversa de cada casilla de la matriz de frecuencias???) y luego normalizo (?)\n",
    "ruleta de probabilidad inversa -> buscar libreria, que seguro que está hecho en algun lado. Si no, está el pseudo en la práctica.\n",
    "\n",
    "la condicion de parada: que sea mayor o igual al numero de iteraciones \n",
    "generar vecinos tiene la restriccion tabu\n",
    "cogemos el algoritmo de busqueda local y vmos añadiendo trocitos\n",
    "la parte que suele generar más dudas suele ser la parte del greedy\n",
    "\n",
    "\n",
    "granular: tamaño de movimiento de huecos entre estaciones"
   ]
  }
 ],
 "metadata": {
  "interpreter": {
   "hash": "7d779d0e5915710bac6ba9c7b3edbd525c48ff05a7164abbc05df9554ec16650"
  },
  "kernelspec": {
   "display_name": "Python 3.9.7 ('datascience')",
   "language": "python",
   "name": "python3"
  },
  "language_info": {
   "codemirror_mode": {
    "name": "ipython",
    "version": 3
   },
   "file_extension": ".py",
   "mimetype": "text/x-python",
   "name": "python",
   "nbconvert_exporter": "python",
   "pygments_lexer": "ipython3",
   "version": "3.9.7"
  },
  "orig_nbformat": 4
 },
 "nbformat": 4,
 "nbformat_minor": 2
}
