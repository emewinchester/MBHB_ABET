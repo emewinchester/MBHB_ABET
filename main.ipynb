{
 "cells": [
  {
   "cell_type": "markdown",
   "metadata": {},
   "source": [
    "# LIBRARIES"
   ]
  },
  {
   "cell_type": "code",
   "execution_count": 1,
   "metadata": {},
   "outputs": [],
   "source": [
    "import pandas as pd\n",
    "import numpy  as np\n",
    "import time\n",
    "import matplotlib.pyplot as plt\n",
    "\n",
    "from pkg.constants    import *\n",
    "from pkg.evaluation   import Evaluation\n",
    "from pkg.utils        import *\n",
    "from pkg.algorithims  import *\n",
    "from pkg.neighborhood import *\n",
    "\n",
    "\n",
    "\n",
    "from pkg.tabu_list import TabuList\n",
    "\n",
    "from itertools import permutations\n",
    "from random    import shuffle\n",
    "\n"
   ]
  },
  {
   "cell_type": "markdown",
   "metadata": {},
   "source": [
    "# SEED PRODUCTION"
   ]
  },
  {
   "cell_type": "code",
   "execution_count": 2,
   "metadata": {},
   "outputs": [
    {
     "name": "stdout",
     "output_type": "stream",
     "text": [
      "[12345 54321 12221 22211 22212]\n"
     ]
    }
   ],
   "source": [
    "# seeds = np.random.randint(0,99999,SEEDS)\n",
    "# print(seeds)\n",
    "\n",
    "# Semillas adri\n",
    "seeds = np.array([12345, 54321, 12221, 22211, 22212])\n",
    "print(seeds)"
   ]
  },
  {
   "cell_type": "markdown",
   "metadata": {},
   "source": [
    "# EVALUATION OBJECT"
   ]
  },
  {
   "cell_type": "code",
   "execution_count": 3,
   "metadata": {},
   "outputs": [],
   "source": [
    "evaluation = Evaluation()"
   ]
  },
  {
   "cell_type": "markdown",
   "metadata": {},
   "source": [
    "# IMPLEMENATION OF ALGORITHIMS"
   ]
  },
  {
   "cell_type": "markdown",
   "metadata": {},
   "source": [
    "## DATA DUMP"
   ]
  },
  {
   "cell_type": "code",
   "execution_count": 4,
   "metadata": {},
   "outputs": [],
   "source": [
    "deltas_df   = pd.read_csv(DELTAS_5M_PATH) \n",
    "deltas_matrix   = deltas_df.to_numpy()"
   ]
  },
  {
   "cell_type": "markdown",
   "metadata": {},
   "source": [
    "## GREEDY SEARCH"
   ]
  },
  {
   "cell_type": "code",
   "execution_count": 5,
   "metadata": {},
   "outputs": [
    {
     "name": "stdout",
     "output_type": "stream",
     "text": [
      "0.07283949851989746\n"
     ]
    }
   ],
   "source": [
    "initial_state = deltas_matrix[0,:]\n",
    "start_time = time.time()\n",
    "greedy_sol, greedy_sol_cost = greedy(initial_state, evaluation)\n",
    "finish_time = time.time()\n",
    "print(finish_time - start_time)"
   ]
  },
  {
   "cell_type": "code",
   "execution_count": 6,
   "metadata": {},
   "outputs": [
    {
     "name": "stdout",
     "output_type": "stream",
     "text": [
      "[ 7.  9. 18.  8. 11. 18. 11. 12.  8. 13. 13. 24. 11. 18. 20. 19.]\n",
      "574.5513854177129\n"
     ]
    }
   ],
   "source": [
    "print(greedy_sol)\n",
    "print(greedy_sol_cost)"
   ]
  },
  {
   "cell_type": "markdown",
   "metadata": {},
   "source": [
    "## RANDOM SEARCH"
   ]
  },
  {
   "cell_type": "code",
   "execution_count": 9,
   "metadata": {},
   "outputs": [
    {
     "name": "stdout",
     "output_type": "stream",
     "text": [
      "[14. 14. 14. 24. 11.  5.  8. 16. 14. 19. 19. 19. 14.  8.  8. 14.] 437.9733\n",
      "[ 9. 15. 15. 19. 15. 19. 11. 15. 13. 17. 19. 11.  9.  6. 13. 15.] 451.3225\n",
      "[14. 12. 14. 18. 12. 16. 18. 12. 18.  4. 18. 18. 12. 10. 14. 16.] 414.6951\n",
      "[18.  6. 12. 12. 12. 24. 15. 12.  6. 18. 15. 21.  6. 21.  6. 18.] 437.2946\n",
      "[21. 10. 10. 13. 21.  5.  8. 13.  8. 16. 16. 21. 10. 10. 21. 18.] 437.6238\n"
     ]
    }
   ],
   "source": [
    "for seed in seeds:\n",
    "    np.random.seed(seed)\n",
    "    rs_sol, rs_sol_cost = random_search(evaluation = evaluation)\n",
    "\n",
    "    print(rs_sol, round(rs_sol_cost,4))\n"
   ]
  },
  {
   "cell_type": "markdown",
   "metadata": {},
   "source": [
    "## LOCAL SEARCH\n",
    "first best neighbor"
   ]
  },
  {
   "cell_type": "code",
   "execution_count": 10,
   "metadata": {},
   "outputs": [
    {
     "name": "stdout",
     "output_type": "stream",
     "text": [
      "[18. 12. 12. 14. 20. 14. 14. 12. 10.  8. 12. 25. 15.  2.  6. 25.] 411.7068 919\n",
      "[12. 12. 20. 14. 19. 14. 13.  8. 11. 14. 16. 24.  2.  7. 22. 12.] 372.4192 2056\n",
      "[16. 12. 19. 14. 20. 14. 10. 12. 12. 12. 12. 24.  2. 13. 17. 12.] 361.1852 1086\n",
      "[16. 10. 22. 18. 20. 14. 14. 12.  9.  8. 12. 18.  2. 22.  7. 12.] 411.2291 874\n",
      "[18. 13. 12. 15. 20. 14. 21. 12. 10.  8. 24. 24.  8.  2.  6. 12.] 417.9571 733\n"
     ]
    }
   ],
   "source": [
    "granularity = 1\n",
    "\n",
    "for i in range(SEEDS):\n",
    "\n",
    "    np.random.seed(seeds[i])\n",
    "\n",
    "    ls_sol, ls_sol_cost, calls = local_search(\n",
    "        granularity = granularity,\n",
    "        evaluation  = evaluation\n",
    "    )\n",
    "    \n",
    "    print(ls_sol, round(ls_sol_cost,4), calls)\n",
    "\n",
    "  "
   ]
  },
  {
   "cell_type": "markdown",
   "metadata": {},
   "source": [
    "## SIMULATED ANNEALING"
   ]
  },
  {
   "cell_type": "code",
   "execution_count": 11,
   "metadata": {},
   "outputs": [],
   "source": [
    "# parametros a ajustar:\n",
    "slots = 1\n",
    "\n",
    "# k_max: maximo numero iteraciones: en el entorno de 80\n",
    "# condicion de parada\n",
    "k_max = 80\n",
    "\n",
    "# L(T): condicion enfriamiento. Numero fijo para cada iteracion\n",
    "# Se enfria la temperatura al final de una iteracion\n",
    "# La iteracion finaliza al visitar todos los vecinos\n",
    "L = 20\n",
    "\n",
    "\n",
    "# Esquema de enfriamiento: Cauchy\n",
    "# tk = t0/(1+k)\n",
    "\n",
    "# mu: tanto por uno [0,1], indica la probabilidad de aceptar una solucion peor que la inicial\n",
    "mu = 0.2\n",
    "\n",
    "# fi: probabilidad de aceptar una solucion un mu por 1 peor que la inicial\n",
    "fi = 0.2\n",
    "\n",
    "# Temperatura inicial\n",
    "t0 = mu * greedy_sol_cost / (- np.log(fi))\n",
    "\n",
    "# Temperatura final\n",
    "tf = t0 / (1 + k_max)\n",
    "\n"
   ]
  },
  {
   "cell_type": "code",
   "execution_count": 13,
   "metadata": {},
   "outputs": [
    {
     "name": "stdout",
     "output_type": "stream",
     "text": [
      "[15. 12. 20. 20. 16. 15. 15.  7. 10. 14. 15. 24.  2. 11. 11. 12.] 385.4951\n",
      "[10. 11. 20. 17. 20. 14. 15. 11. 10. 12. 15. 27.  2. 14. 11. 11.] 384.5774\n",
      "[18. 12. 20. 17. 20. 14.  8. 12. 12. 11. 12. 23.  2. 20.  8. 12.] 359.8482\n",
      "[15. 10. 19. 25. 20. 14. 14. 12. 13. 14. 12. 19.  2.  7.  8. 12.] 412.6862\n",
      "[11. 13. 22. 19. 18. 14. 14.  9. 10. 14. 15. 24.  2. 16.  4. 14.] 385.1344\n"
     ]
    }
   ],
   "source": [
    "for i in range(SEEDS):\n",
    "    np.random.seed(seeds[i])\n",
    "    sa_solution, sa_cost = simulated_an(t0,L,tf,slots,evaluation)\n",
    "    print(sa_solution, round(sa_cost, 4))\n",
    "\n"
   ]
  },
  {
   "cell_type": "markdown",
   "metadata": {},
   "source": [
    "##  TABU SEARCH"
   ]
  },
  {
   "cell_type": "code",
   "execution_count": 16,
   "metadata": {},
   "outputs": [],
   "source": [
    "# externo\n",
    "reboots = 4\n",
    "total_iterations = 80\n",
    "\n",
    "total_neighbors = 40\n",
    "tenure = 4\n",
    "\n",
    "slots = 3 # esto por que????\n"
   ]
  },
  {
   "cell_type": "code",
   "execution_count": 17,
   "metadata": {},
   "outputs": [
    {
     "name": "stdout",
     "output_type": "stream",
     "text": [
      "[17. 10. 19. 16. 18. 11. 12. 11. 11. 10. 14. 24.  5. 22.  7. 13.] 384.6226\n",
      "[14. 13. 19. 17. 18. 14. 14.  7. 11. 20. 17. 22.  3.  5. 12. 14.] 384.7484\n",
      "[16. 13. 17. 16. 20. 13. 13. 11. 14. 11. 13. 19.  4.  8. 22. 11.] 374.9986\n",
      "[19. 11. 13. 16. 19. 16.  7. 11. 14. 15. 14. 28.  2. 13. 11. 12.] 377.1583\n",
      "[14. 14. 17. 20. 18. 14. 13.  6. 10. 17. 19. 24.  2.  8. 11. 14.] 372.3626\n"
     ]
    }
   ],
   "source": [
    "for seed in seeds:\n",
    "    np.random.seed(seed)\n",
    "    ts_sol, ts_sol_cost = tabu_search(\n",
    "        tenure           = tenure,\n",
    "        reboots          = reboots,\n",
    "        total_iterations = total_iterations,\n",
    "        slots            = slots,\n",
    "        total_neighbors  = total_neighbors,\n",
    "        evaluation       = evaluation\n",
    "    )\n",
    "\n",
    "    print(ts_sol, round(ts_sol_cost, 4))"
   ]
  },
  {
   "cell_type": "code",
   "execution_count": 17,
   "metadata": {},
   "outputs": [],
   "source": [
    "def generate_greedy_solution(matrix):\n",
    "\n",
    "    solution = np.empty(matrix.shape[1])\n",
    "\n",
    "    # calculamos la inversa\n",
    "    inversa = 1/matrix\n",
    "\n",
    "    \n",
    "    for i in range(matrix.shape[1]):\n",
    "\n",
    "        sumatorio = inversa[:,i].sum()\n",
    "\n",
    "        # normalizamos la columna\n",
    "        inversa[:,i] = inversa[:,i]/sumatorio\n",
    "\n",
    "        num = np.random.random()\n",
    "        sum = 0\n",
    "        control = 0\n",
    "\n",
    "        for row in range(matrix.shape[0]):\n",
    "            sum += inversa[row,i]\n",
    "            if num < sum:\n",
    "                solution[i] = row\n",
    "                control = row # indica cuantos slots se han metido\n",
    "                break\n",
    "    \n",
    "        # reajuste de matriz\n",
    "        if row != 0:\n",
    "            inversa = inversa[:-row, :]\n",
    "        if row is matrix.shape[0]-1:\n",
    "            pass\n",
    "    \n",
    "    return solution\n",
    "        \n",
    "        \n",
    "\n",
    "    \n"
   ]
  },
  {
   "cell_type": "code",
   "execution_count": 2,
   "metadata": {},
   "outputs": [
    {
     "name": "stdout",
     "output_type": "stream",
     "text": [
      "[ 1  4  7 10 13 16 19 22 25 28 31 34 37 40 43 46 49]\n",
      "[[1. 1. 1. 1. 1. 1. 1. 1. 1. 1. 1. 1. 1. 1. 1. 1.]\n",
      " [1. 1. 1. 1. 1. 1. 1. 1. 1. 1. 1. 1. 1. 1. 1. 1.]\n",
      " [2. 2. 2. 2. 2. 2. 2. 2. 2. 2. 2. 2. 2. 2. 2. 2.]\n",
      " [1. 1. 1. 1. 1. 1. 1. 1. 1. 1. 1. 1. 1. 1. 1. 1.]\n",
      " [1. 1. 1. 1. 1. 1. 1. 1. 1. 1. 1. 1. 1. 1. 1. 1.]\n",
      " [1. 1. 1. 1. 1. 1. 1. 1. 1. 1. 1. 1. 1. 1. 1. 1.]\n",
      " [1. 1. 1. 1. 1. 1. 1. 1. 1. 1. 1. 1. 1. 1. 1. 1.]\n",
      " [1. 1. 1. 1. 1. 1. 1. 1. 1. 1. 1. 1. 1. 1. 1. 1.]\n",
      " [1. 1. 1. 1. 1. 1. 1. 1. 1. 1. 1. 1. 1. 1. 1. 1.]\n",
      " [1. 1. 1. 1. 1. 1. 1. 1. 1. 1. 1. 1. 1. 1. 1. 1.]\n",
      " [1. 1. 1. 1. 1. 1. 1. 1. 1. 1. 1. 1. 1. 1. 1. 1.]\n",
      " [1. 1. 1. 1. 1. 1. 1. 1. 1. 1. 1. 1. 1. 1. 1. 1.]\n",
      " [1. 1. 1. 1. 1. 1. 1. 1. 1. 1. 1. 1. 1. 1. 1. 1.]\n",
      " [1. 1. 1. 1. 1. 1. 1. 1. 1. 1. 1. 1. 1. 1. 1. 1.]\n",
      " [1. 1. 1. 1. 1. 1. 1. 1. 1. 1. 1. 1. 1. 1. 1. 1.]\n",
      " [1. 1. 1. 1. 1. 1. 1. 1. 1. 1. 1. 1. 1. 1. 1. 1.]\n",
      " [1. 1. 1. 1. 1. 1. 1. 1. 1. 1. 1. 1. 1. 1. 1. 1.]]\n"
     ]
    }
   ],
   "source": [
    "valores_base = np.array(range(1,50,3))\n",
    "matriz_frecuencias = np.ones( (len( valores_base ), TOTAL_STATIONS) )\n",
    "capacidad = np.array([8,8,8,8,8,8,8,8,8,8,8,8,8,8,8,8])\n",
    "\n",
    "print(valores_base)\n",
    "print(update_frequency_matrix(matriz_frecuencias, capacidad, valores_base))\n"
   ]
  },
  {
   "cell_type": "markdown",
   "metadata": {},
   "source": []
  },
  {
   "cell_type": "markdown",
   "metadata": {},
   "source": [
    "# ALGORITHMS ADJUSTMENT"
   ]
  }
 ],
 "metadata": {
  "interpreter": {
   "hash": "7d779d0e5915710bac6ba9c7b3edbd525c48ff05a7164abbc05df9554ec16650"
  },
  "kernelspec": {
   "display_name": "Python 3.9.7 ('datascience')",
   "language": "python",
   "name": "python3"
  },
  "language_info": {
   "codemirror_mode": {
    "name": "ipython",
    "version": 3
   },
   "file_extension": ".py",
   "mimetype": "text/x-python",
   "name": "python",
   "nbconvert_exporter": "python",
   "pygments_lexer": "ipython3",
   "version": "3.9.7"
  },
  "orig_nbformat": 4
 },
 "nbformat": 4,
 "nbformat_minor": 2
}
