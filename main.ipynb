{
 "cells": [
  {
   "cell_type": "markdown",
   "metadata": {},
   "source": [
    "# LIBRARIES"
   ]
  },
  {
   "cell_type": "code",
   "execution_count": 1,
   "metadata": {},
   "outputs": [],
   "source": [
    "import pandas as pd\n",
    "import numpy as np\n",
    "from pkg.constants import *\n",
    "from pkg.greedy import greedy\n",
    "from pkg.evaluation import Evaluation\n",
    "from time import time\n",
    "from pkg.utils import *\n",
    "from pkg.random_search import random_search\n",
    "from itertools import permutations\n",
    "from pkg.neighborhood import Neighborhood\n",
    "from pkg.local_search import local_search\n"
   ]
  },
  {
   "cell_type": "markdown",
   "metadata": {},
   "source": [
    "# GENERACIÓN DE SEMILLAS\n",
    "Las semillas deben guardarse para poder repetir las ejecuciones y comparar resultados"
   ]
  },
  {
   "cell_type": "code",
   "execution_count": 2,
   "metadata": {},
   "outputs": [
    {
     "name": "stdout",
     "output_type": "stream",
     "text": [
      "[12345 54321 12221 22211 22212]\n"
     ]
    }
   ],
   "source": [
    "# seeds = np.random.randint(0,99999,SEEDS)\n",
    "# print(seeds)\n",
    "\n",
    "# seeds = [12345, 54321, 12221, 22211, 22212] # Semillas adri\n",
    "seeds = np.array([12345, 54321, 12221, 22211, 22212])\n",
    "print(seeds)"
   ]
  },
  {
   "cell_type": "markdown",
   "metadata": {},
   "source": [
    "# CREACION OBJETO EVALUATION"
   ]
  },
  {
   "cell_type": "code",
   "execution_count": 3,
   "metadata": {},
   "outputs": [],
   "source": [
    "evaluation = Evaluation()"
   ]
  },
  {
   "cell_type": "markdown",
   "metadata": {},
   "source": [
    "# SOLUCIÓN GREEDY"
   ]
  },
  {
   "cell_type": "markdown",
   "metadata": {},
   "source": [
    "## LECTURA DE DATOS"
   ]
  },
  {
   "cell_type": "code",
   "execution_count": 39,
   "metadata": {},
   "outputs": [],
   "source": [
    "deltas_df   = pd.read_csv(DELTAS_5M_PATH) \n",
    "deltas_matrix   = deltas_df.to_numpy()"
   ]
  },
  {
   "cell_type": "markdown",
   "metadata": {},
   "source": [
    "## GENERA SOLUCION "
   ]
  },
  {
   "cell_type": "code",
   "execution_count": 40,
   "metadata": {},
   "outputs": [
    {
     "data": {
      "text/plain": [
       "220.0"
      ]
     },
     "execution_count": 40,
     "metadata": {},
     "output_type": "execute_result"
    }
   ],
   "source": [
    "initial_state = deltas_matrix[0,:]\n",
    "greedy_sol = greedy(initial_state)\n",
    "greedy_sol.sum()"
   ]
  },
  {
   "cell_type": "markdown",
   "metadata": {},
   "source": [
    "## EVALUA SOLUCION"
   ]
  },
  {
   "cell_type": "code",
   "execution_count": 41,
   "metadata": {},
   "outputs": [
    {
     "data": {
      "text/plain": [
       "574.5513854177129"
      ]
     },
     "execution_count": 41,
     "metadata": {},
     "output_type": "execute_result"
    }
   ],
   "source": [
    "# 574.5513854177129\n",
    "evaluation.evaluate(greedy_sol)"
   ]
  },
  {
   "cell_type": "markdown",
   "metadata": {},
   "source": [
    "# BUSQUEDA ALEATORIA"
   ]
  },
  {
   "cell_type": "markdown",
   "metadata": {},
   "source": [
    "### ALGORITMO"
   ]
  },
  {
   "cell_type": "code",
   "execution_count": 6,
   "metadata": {},
   "outputs": [],
   "source": [
    "best_solution_per_seed = np.empty((SEEDS, TOTAL_STATIONS))\n",
    "\n",
    "\n",
    "for i in range(SEEDS):\n",
    "    np.random.seed(seeds[i])\n",
    "    best_solution_per_seed[i,:] = random_search(evaluation = evaluation)\n"
   ]
  },
  {
   "cell_type": "code",
   "execution_count": 7,
   "metadata": {},
   "outputs": [
    {
     "name": "stdout",
     "output_type": "stream",
     "text": [
      "[[22. 12. 12. 14. 14. 14. 14. 17. 14. 17.  5. 17.  5. 12. 19. 12.]\n",
      " [18. 16. 14. 16. 14.  7. 14. 19. 11. 20. 16. 20. 14. 11.  5.  5.]\n",
      " [14. 16.  9. 16. 16.  9. 20. 19. 16.  9. 14. 21.  5.  5. 12. 19.]\n",
      " [18.  6. 12. 12. 12. 22. 15. 12.  6. 18. 15. 21.  6. 21.  6. 18.]\n",
      " [20. 10. 10. 13. 21.  5.  8. 13.  8. 16. 16. 21. 10. 10. 21. 18.]]\n",
      "451.4466908526273\n",
      "456.52281659203965\n",
      "446.1530703628353\n",
      "449.3685204131469\n",
      "444.49777670070273\n"
     ]
    }
   ],
   "source": [
    "print(best_solution_per_seed)\n",
    "print(evaluation.evaluate(best_solution_per_seed[0,:]))\n",
    "print(evaluation.evaluate(best_solution_per_seed[1,:]))\n",
    "print(evaluation.evaluate(best_solution_per_seed[2,:]))\n",
    "print(evaluation.evaluate(best_solution_per_seed[3,:]))\n",
    "print(evaluation.evaluate(best_solution_per_seed[4,:]))\n"
   ]
  },
  {
   "cell_type": "markdown",
   "metadata": {},
   "source": [
    "# BUSQUEDA LOCAL: EL PRIMER MEJOR VECINO"
   ]
  },
  {
   "cell_type": "markdown",
   "metadata": {},
   "source": [
    "## Generación soluciones iniciales"
   ]
  },
  {
   "cell_type": "code",
   "execution_count": 4,
   "metadata": {},
   "outputs": [
    {
     "data": {
      "text/plain": [
       "array([12345, 54321, 12221, 22211, 22212])"
      ]
     },
     "execution_count": 4,
     "metadata": {},
     "output_type": "execute_result"
    }
   ],
   "source": [
    "seeds"
   ]
  },
  {
   "cell_type": "markdown",
   "metadata": {},
   "source": [
    "## Algoritmo\n"
   ]
  },
  {
   "cell_type": "code",
   "execution_count": 6,
   "metadata": {},
   "outputs": [
    {
     "name": "stdout",
     "output_type": "stream",
     "text": [
      "[17. 12.  8. 14. 20.  6. 12. 11. 17. 10. 17. 18. 19.  7. 12. 19.]\n",
      "451.746201350656\n",
      "[10.  7. 12. 14. 15.  2. 14. 10. 10. 23. 23. 19. 15.  5. 18. 23.]\n",
      "439.6052159797899\n",
      "[12.  8. 18. 18. 18.  6. 12.  4. 10.  8. 22. 24. 10. 14. 19. 17.]\n",
      "420.7960758264853\n",
      "[16.  6. 19. 18. 20. 14. 12. 10. 12.  8. 10. 16. 10. 24.  9. 12.]\n",
      "467.50906136064225\n",
      "[17. 12. 21. 14. 20. 14. 12. 12. 10. 14. 12. 24. 11.  6.  8. 12.]\n",
      "406.1600032194599\n"
     ]
    }
   ],
   "source": [
    "for i in range(SEEDS):\n",
    "\n",
    "    np.random.seed(seeds[i])\n",
    "\n",
    "    sol = local_search(\n",
    "        slots_to_move = 1,\n",
    "        evaluation    = evaluation\n",
    "    )\n",
    "    \n",
    "    print(sol)\n",
    "    print(evaluation.evaluate(sol))\n",
    "\n",
    "    "
   ]
  },
  {
   "cell_type": "markdown",
   "metadata": {},
   "source": [
    "# ANOTACIONES DIA 21/03/2022"
   ]
  },
  {
   "cell_type": "markdown",
   "metadata": {},
   "source": [
    "Dia 4: defensa de la práctica\n",
    "la bsuqueda  tabu deberá tardar más o menos lo que tarda el enfriamiento simulado.\n",
    "No tenemos en cuenta si los vecinos se repiten o no (no lo combprobamos.)\n",
    "velocidad de movimiento: 5 (nos dice cuantas posibilidades hay)\n",
    "matriz de frecuencias: como se hace??? \n",
    "greedy: queremos hacer algo inversamente prorporcional a lo que ha salido (hacemos la inversa de cada casilla de la matriz de frecuencias???) y luego normalizo (?)\n",
    "ruleta de probabilidad inversa -> buscar libreria, que seguro que está hecho en algun lado. Si no, está el pseudo en la práctica.\n",
    "\n",
    "la condicion de parada: que sea mayor o igual al numero de iteraciones \n",
    "generar vecinos tiene la restriccion tabu\n",
    "cogemos el algoritmo de busqueda local y vmos añadiendo trocitos\n",
    "la parte que suele generar más dudas suele ser la parte del greedy\n",
    "\n",
    "\n",
    "granular: tamaño de movimiento de huecos entre estaciones"
   ]
  }
 ],
 "metadata": {
  "interpreter": {
   "hash": "7d779d0e5915710bac6ba9c7b3edbd525c48ff05a7164abbc05df9554ec16650"
  },
  "kernelspec": {
   "display_name": "Python 3.9.7 ('datascience')",
   "language": "python",
   "name": "python3"
  },
  "language_info": {
   "codemirror_mode": {
    "name": "ipython",
    "version": 3
   },
   "file_extension": ".py",
   "mimetype": "text/x-python",
   "name": "python",
   "nbconvert_exporter": "python",
   "pygments_lexer": "ipython3",
   "version": "3.9.7"
  },
  "orig_nbformat": 4
 },
 "nbformat": 4,
 "nbformat_minor": 2
}
