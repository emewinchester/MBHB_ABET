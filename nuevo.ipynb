{
 "cells": [
  {
   "cell_type": "code",
   "execution_count": null,
   "metadata": {},
   "outputs": [],
   "source": []
  },
  {
   "cell_type": "markdown",
   "metadata": {},
   "source": [
    "Nueva practica\n",
    "\n",
    "en geneticos: poblacion inicial menor que 15 nunca, porque tenemos problemas de convergencia. \n",
    "\n",
    "si al cruzar dos individuos no se parecen en nada los hijos a los padres, no se ha cruzado correctamente, se ha mutado. Nuestro cruce en concreto es jodido. Tenemos que hacer lo más parecido posible los hijos  a los padres. Además, lo shijos deben de ser validos (205-220 bicicletas)\n",
    "\n",
    "vamos a modificar el fitness. Podemos penalizar cuando añadimos plazas, por ejemplo, que cueste dinero añadir plazas de bicicletas. Si no se penaliza, el algoritmo empezará a meter plazas porque obtendrá mejores resultados que con menos bicicletas. \n",
    "\n",
    "algoritmos monoobjetivos: optimizan una cosa\n",
    "\n",
    "algoritmos multiobjetivos: optimizan varias cosas a la par\n",
    "\n",
    "en conclusion: ahora ya no tenemos maximo, pero si penalizacion al añadir bicis\n",
    "\n",
    "\n",
    "seleccion: quien es seleccionado para ser padre."
   ]
  }
 ],
 "metadata": {
  "language_info": {
   "name": "python"
  },
  "orig_nbformat": 4
 },
 "nbformat": 4,
 "nbformat_minor": 2
}
